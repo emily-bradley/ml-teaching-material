{
 "cells": [
  {
   "cell_type": "code",
   "execution_count": 117,
   "metadata": {},
   "outputs": [],
   "source": [
    "import pandas as pd\n",
    "from sklearn.model_selection import train_test_split, GridSearchCV\n",
    "from sklearn.preprocessing import LabelEncoder, LabelBinarizer, MinMaxScaler\n",
    "from sklearn_pandas import gen_features, DataFrameMapper\n",
    "import numpy as np\n",
    "from sklearn.feature_selection import SelectKBest, chi2, RFECV\n",
    "from sklearn.linear_model import LogisticRegression\n",
    "from sklearn.metrics import f1_score, roc_auc_score, classification_report\n",
    "from sklearn.pipeline import Pipeline\n",
    "from sklearn.ensemble import RandomForestClassifier\n",
    "from sklearn.svm import SVC\n",
    "from sklearn.feature_selection import chi2"
   ]
  },
  {
   "cell_type": "code",
   "execution_count": 4,
   "metadata": {},
   "outputs": [],
   "source": [
    "df = pd.read_csv('responses.csv')"
   ]
  },
  {
   "cell_type": "code",
   "execution_count": 5,
   "metadata": {},
   "outputs": [
    {
     "data": {
      "text/html": [
       "<div>\n",
       "<style>\n",
       "    .dataframe thead tr:only-child th {\n",
       "        text-align: right;\n",
       "    }\n",
       "\n",
       "    .dataframe thead th {\n",
       "        text-align: left;\n",
       "    }\n",
       "\n",
       "    .dataframe tbody tr th {\n",
       "        vertical-align: top;\n",
       "    }\n",
       "</style>\n",
       "<table border=\"1\" class=\"dataframe\">\n",
       "  <thead>\n",
       "    <tr style=\"text-align: right;\">\n",
       "      <th></th>\n",
       "      <th>Music</th>\n",
       "      <th>Slow songs or fast songs</th>\n",
       "      <th>Dance</th>\n",
       "      <th>Folk</th>\n",
       "      <th>Country</th>\n",
       "      <th>Classical music</th>\n",
       "      <th>Musical</th>\n",
       "      <th>Pop</th>\n",
       "      <th>Rock</th>\n",
       "      <th>Metal or Hardrock</th>\n",
       "      <th>...</th>\n",
       "      <th>Age</th>\n",
       "      <th>Height</th>\n",
       "      <th>Weight</th>\n",
       "      <th>Number of siblings</th>\n",
       "      <th>Gender</th>\n",
       "      <th>Left - right handed</th>\n",
       "      <th>Education</th>\n",
       "      <th>Only child</th>\n",
       "      <th>Village - town</th>\n",
       "      <th>House - block of flats</th>\n",
       "    </tr>\n",
       "  </thead>\n",
       "  <tbody>\n",
       "    <tr>\n",
       "      <th>0</th>\n",
       "      <td>5.0</td>\n",
       "      <td>3.0</td>\n",
       "      <td>2.0</td>\n",
       "      <td>1.0</td>\n",
       "      <td>2.0</td>\n",
       "      <td>2.0</td>\n",
       "      <td>1.0</td>\n",
       "      <td>5.0</td>\n",
       "      <td>5.0</td>\n",
       "      <td>1.0</td>\n",
       "      <td>...</td>\n",
       "      <td>20.0</td>\n",
       "      <td>163.0</td>\n",
       "      <td>48.0</td>\n",
       "      <td>1.0</td>\n",
       "      <td>female</td>\n",
       "      <td>right handed</td>\n",
       "      <td>college/bachelor degree</td>\n",
       "      <td>no</td>\n",
       "      <td>village</td>\n",
       "      <td>block of flats</td>\n",
       "    </tr>\n",
       "    <tr>\n",
       "      <th>1</th>\n",
       "      <td>4.0</td>\n",
       "      <td>4.0</td>\n",
       "      <td>2.0</td>\n",
       "      <td>1.0</td>\n",
       "      <td>1.0</td>\n",
       "      <td>1.0</td>\n",
       "      <td>2.0</td>\n",
       "      <td>3.0</td>\n",
       "      <td>5.0</td>\n",
       "      <td>4.0</td>\n",
       "      <td>...</td>\n",
       "      <td>19.0</td>\n",
       "      <td>163.0</td>\n",
       "      <td>58.0</td>\n",
       "      <td>2.0</td>\n",
       "      <td>female</td>\n",
       "      <td>right handed</td>\n",
       "      <td>college/bachelor degree</td>\n",
       "      <td>no</td>\n",
       "      <td>city</td>\n",
       "      <td>block of flats</td>\n",
       "    </tr>\n",
       "    <tr>\n",
       "      <th>2</th>\n",
       "      <td>5.0</td>\n",
       "      <td>5.0</td>\n",
       "      <td>2.0</td>\n",
       "      <td>2.0</td>\n",
       "      <td>3.0</td>\n",
       "      <td>4.0</td>\n",
       "      <td>5.0</td>\n",
       "      <td>3.0</td>\n",
       "      <td>5.0</td>\n",
       "      <td>3.0</td>\n",
       "      <td>...</td>\n",
       "      <td>20.0</td>\n",
       "      <td>176.0</td>\n",
       "      <td>67.0</td>\n",
       "      <td>2.0</td>\n",
       "      <td>female</td>\n",
       "      <td>right handed</td>\n",
       "      <td>secondary school</td>\n",
       "      <td>no</td>\n",
       "      <td>city</td>\n",
       "      <td>block of flats</td>\n",
       "    </tr>\n",
       "    <tr>\n",
       "      <th>3</th>\n",
       "      <td>5.0</td>\n",
       "      <td>3.0</td>\n",
       "      <td>2.0</td>\n",
       "      <td>1.0</td>\n",
       "      <td>1.0</td>\n",
       "      <td>1.0</td>\n",
       "      <td>1.0</td>\n",
       "      <td>2.0</td>\n",
       "      <td>2.0</td>\n",
       "      <td>1.0</td>\n",
       "      <td>...</td>\n",
       "      <td>22.0</td>\n",
       "      <td>172.0</td>\n",
       "      <td>59.0</td>\n",
       "      <td>1.0</td>\n",
       "      <td>female</td>\n",
       "      <td>right handed</td>\n",
       "      <td>college/bachelor degree</td>\n",
       "      <td>yes</td>\n",
       "      <td>city</td>\n",
       "      <td>house/bungalow</td>\n",
       "    </tr>\n",
       "    <tr>\n",
       "      <th>4</th>\n",
       "      <td>5.0</td>\n",
       "      <td>3.0</td>\n",
       "      <td>4.0</td>\n",
       "      <td>3.0</td>\n",
       "      <td>2.0</td>\n",
       "      <td>4.0</td>\n",
       "      <td>3.0</td>\n",
       "      <td>5.0</td>\n",
       "      <td>3.0</td>\n",
       "      <td>1.0</td>\n",
       "      <td>...</td>\n",
       "      <td>20.0</td>\n",
       "      <td>170.0</td>\n",
       "      <td>59.0</td>\n",
       "      <td>1.0</td>\n",
       "      <td>female</td>\n",
       "      <td>right handed</td>\n",
       "      <td>secondary school</td>\n",
       "      <td>no</td>\n",
       "      <td>village</td>\n",
       "      <td>house/bungalow</td>\n",
       "    </tr>\n",
       "  </tbody>\n",
       "</table>\n",
       "<p>5 rows × 150 columns</p>\n",
       "</div>"
      ],
      "text/plain": [
       "   Music  Slow songs or fast songs  Dance  Folk  Country  Classical music  \\\n",
       "0    5.0                       3.0    2.0   1.0      2.0              2.0   \n",
       "1    4.0                       4.0    2.0   1.0      1.0              1.0   \n",
       "2    5.0                       5.0    2.0   2.0      3.0              4.0   \n",
       "3    5.0                       3.0    2.0   1.0      1.0              1.0   \n",
       "4    5.0                       3.0    4.0   3.0      2.0              4.0   \n",
       "\n",
       "   Musical  Pop  Rock  Metal or Hardrock           ...             Age  \\\n",
       "0      1.0  5.0   5.0                1.0           ...            20.0   \n",
       "1      2.0  3.0   5.0                4.0           ...            19.0   \n",
       "2      5.0  3.0   5.0                3.0           ...            20.0   \n",
       "3      1.0  2.0   2.0                1.0           ...            22.0   \n",
       "4      3.0  5.0   3.0                1.0           ...            20.0   \n",
       "\n",
       "   Height  Weight  Number of siblings  Gender  Left - right handed  \\\n",
       "0   163.0    48.0                 1.0  female         right handed   \n",
       "1   163.0    58.0                 2.0  female         right handed   \n",
       "2   176.0    67.0                 2.0  female         right handed   \n",
       "3   172.0    59.0                 1.0  female         right handed   \n",
       "4   170.0    59.0                 1.0  female         right handed   \n",
       "\n",
       "                 Education  Only child  Village - town  House - block of flats  \n",
       "0  college/bachelor degree          no         village          block of flats  \n",
       "1  college/bachelor degree          no            city          block of flats  \n",
       "2         secondary school          no            city          block of flats  \n",
       "3  college/bachelor degree         yes            city          house/bungalow  \n",
       "4         secondary school          no         village          house/bungalow  \n",
       "\n",
       "[5 rows x 150 columns]"
      ]
     },
     "execution_count": 5,
     "metadata": {},
     "output_type": "execute_result"
    }
   ],
   "source": [
    "df.head()"
   ]
  },
  {
   "cell_type": "code",
   "execution_count": 6,
   "metadata": {},
   "outputs": [
    {
     "data": {
      "text/plain": [
       "array(['Music', 'Slow songs or fast songs', 'Dance', 'Folk', 'Country',\n",
       "       'Classical music', 'Musical', 'Pop', 'Rock', 'Metal or Hardrock',\n",
       "       'Punk', 'Hiphop, Rap', 'Reggae, Ska', 'Swing, Jazz', 'Rock n roll',\n",
       "       'Alternative', 'Latino', 'Techno, Trance', 'Opera', 'Movies',\n",
       "       'Horror', 'Thriller', 'Comedy', 'Romantic', 'Sci-fi', 'War',\n",
       "       'Fantasy/Fairy tales', 'Animated', 'Documentary', 'Western',\n",
       "       'Action', 'History', 'Psychology', 'Politics', 'Mathematics',\n",
       "       'Physics', 'Internet', 'PC', 'Economy Management', 'Biology',\n",
       "       'Chemistry', 'Reading', 'Geography', 'Foreign languages',\n",
       "       'Medicine', 'Law', 'Cars', 'Art exhibitions', 'Religion',\n",
       "       'Countryside, outdoors', 'Dancing', 'Musical instruments',\n",
       "       'Writing', 'Passive sport', 'Active sport', 'Gardening',\n",
       "       'Celebrities', 'Shopping', 'Science and technology', 'Theatre',\n",
       "       'Fun with friends', 'Adrenaline sports', 'Pets', 'Flying', 'Storm',\n",
       "       'Darkness', 'Heights', 'Spiders', 'Snakes', 'Rats', 'Ageing',\n",
       "       'Dangerous dogs', 'Fear of public speaking', 'Smoking', 'Alcohol',\n",
       "       'Healthy eating', 'Daily events', 'Prioritising workload',\n",
       "       'Writing notes', 'Workaholism', 'Thinking ahead', 'Final judgement',\n",
       "       'Reliability', 'Keeping promises', 'Loss of interest',\n",
       "       'Friends versus money', 'Funniness', 'Fake', 'Criminal damage',\n",
       "       'Decision making', 'Elections', 'Self-criticism', 'Judgment calls',\n",
       "       'Hypochondria', 'Empathy', 'Eating to survive', 'Giving',\n",
       "       'Compassion to animals', 'Borrowed stuff', 'Loneliness',\n",
       "       'Cheating in school', 'Health', 'Changing the past', 'God',\n",
       "       'Dreams', 'Charity', 'Number of friends', 'Punctuality', 'Lying',\n",
       "       'Waiting', 'New environment', 'Mood swings',\n",
       "       'Appearence and gestures', 'Socializing', 'Achievements',\n",
       "       'Responding to a serious letter', 'Children', 'Assertiveness',\n",
       "       'Getting angry', 'Knowing the right people', 'Public speaking',\n",
       "       'Unpopularity', 'Life struggles', 'Happiness in life',\n",
       "       'Energy levels', 'Small - big dogs', 'Personality',\n",
       "       'Finding lost valuables', 'Getting up', 'Interests or hobbies',\n",
       "       \"Parents' advice\", 'Questionnaires or polls', 'Internet usage',\n",
       "       'Finances', 'Shopping centres', 'Branded clothing',\n",
       "       'Entertainment spending', 'Spending on looks',\n",
       "       'Spending on gadgets', 'Spending on healthy eating', 'Age',\n",
       "       'Height', 'Weight', 'Number of siblings', 'Gender',\n",
       "       'Left - right handed', 'Education', 'Only child', 'Village - town',\n",
       "       'House - block of flats'], dtype=object)"
      ]
     },
     "execution_count": 6,
     "metadata": {},
     "output_type": "execute_result"
    }
   ],
   "source": [
    "df.columns.values"
   ]
  },
  {
   "cell_type": "markdown",
   "metadata": {},
   "source": [
    "### Profile variables"
   ]
  },
  {
   "cell_type": "code",
   "execution_count": 7,
   "metadata": {
    "scrolled": true
   },
   "outputs": [
    {
     "name": "stdout",
     "output_type": "stream",
     "text": [
      "1.0 5.0\n",
      "1.0 5.0\n",
      "1.0 5.0\n",
      "1.0 5.0\n",
      "1.0 5.0\n",
      "1.0 5.0\n",
      "1.0 5.0\n",
      "1.0 5.0\n",
      "1.0 5.0\n",
      "1.0 5.0\n",
      "1.0 5.0\n",
      "1.0 5.0\n",
      "1.0 5.0\n",
      "1.0 5.0\n",
      "1.0 5.0\n",
      "1.0 5.0\n",
      "1.0 5.0\n",
      "1.0 5.0\n",
      "1.0 5.0\n",
      "1.0 5.0\n",
      "1.0 5.0\n",
      "1.0 5.0\n",
      "1.0 5.0\n",
      "1.0 5.0\n",
      "1.0 5.0\n",
      "1.0 5.0\n",
      "1.0 5.0\n",
      "1.0 5.0\n",
      "1.0 5.0\n",
      "1.0 5.0\n",
      "1.0 5.0\n",
      "1.0 5.0\n",
      "1.0 5.0\n",
      "1.0 5.0\n",
      "1.0 5.0\n",
      "1.0 5.0\n",
      "1.0 5.0\n",
      "1.0 5.0\n",
      "1.0 5.0\n",
      "1.0 5.0\n",
      "1.0 5.0\n",
      "1.0 5.0\n",
      "1.0 5.0\n",
      "1.0 5.0\n",
      "1.0 5.0\n",
      "1.0 5.0\n",
      "1.0 5.0\n",
      "1.0 5.0\n",
      "1.0 5.0\n",
      "1.0 5.0\n",
      "1.0 5.0\n",
      "1.0 5.0\n",
      "1.0 5.0\n",
      "1.0 5.0\n",
      "1.0 5.0\n",
      "1.0 5.0\n",
      "1.0 5.0\n",
      "1.0 5.0\n",
      "1.0 5.0\n",
      "1.0 5.0\n",
      "2.0 5.0\n",
      "1.0 5.0\n",
      "1.0 5.0\n",
      "1.0 5.0\n",
      "1.0 5.0\n",
      "1.0 5.0\n",
      "1.0 5.0\n",
      "1.0 5.0\n",
      "1 5\n",
      "1.0 5.0\n",
      "1.0 5.0\n",
      "1.0 5.0\n",
      "1.0 5.0\n",
      "Smoking\n",
      "Alcohol\n",
      "1.0 5.0\n",
      "1.0 5.0\n",
      "1.0 5.0\n",
      "1.0 5.0\n",
      "1.0 5.0\n",
      "1.0 5.0\n",
      "1.0 5.0\n",
      "1.0 5.0\n",
      "1.0 5.0\n",
      "1.0 5.0\n",
      "1.0 5.0\n",
      "1.0 5.0\n",
      "1.0 5.0\n",
      "1.0 5.0\n",
      "1.0 5.0\n",
      "1.0 5.0\n",
      "1.0 5.0\n",
      "1.0 5.0\n",
      "1.0 5.0\n",
      "1.0 5.0\n",
      "1 5\n",
      "1.0 5.0\n",
      "1.0 5.0\n",
      "1.0 5.0\n",
      "1.0 5.0\n",
      "1.0 5.0\n",
      "1.0 5.0\n",
      "1.0 5.0\n",
      "1.0 5.0\n",
      "1 5\n",
      "1.0 5.0\n",
      "1 5\n",
      "Punctuality\n",
      "Lying\n",
      "1.0 5.0\n",
      "1.0 5.0\n",
      "1.0 5.0\n",
      "1.0 5.0\n",
      "1.0 5.0\n",
      "1.0 5.0\n",
      "1.0 5.0\n",
      "1.0 5.0\n",
      "1.0 5.0\n",
      "1.0 5.0\n",
      "1.0 5.0\n",
      "1.0 5.0\n",
      "1.0 5.0\n",
      "1.0 5.0\n",
      "1.0 5.0\n",
      "1.0 5.0\n",
      "1.0 5.0\n",
      "1.0 5.0\n",
      "1.0 5.0\n",
      "1.0 5.0\n",
      "1.0 5.0\n",
      "1.0 5.0\n",
      "1.0 5.0\n",
      "few hours a day no time at all\n",
      "1.0 5.0\n",
      "1.0 5.0\n",
      "1.0 5.0\n",
      "1.0 5.0\n",
      "1.0 5.0\n",
      "1 5\n",
      "1.0 5.0\n",
      "15.0 30.0\n",
      "62.0 203.0\n",
      "41.0 165.0\n",
      "0.0 10.0\n",
      "Gender\n",
      "Left - right handed\n",
      "Education\n",
      "Only child\n",
      "Village - town\n",
      "House - block of flats\n"
     ]
    }
   ],
   "source": [
    "non_num = []\n",
    "for i in list(df.columns.values):\n",
    "    try:\n",
    "        print(df[i].min(),df[i].max())\n",
    "    except:\n",
    "        print(i)\n",
    "        non_num.append(i)"
   ]
  },
  {
   "cell_type": "code",
   "execution_count": 8,
   "metadata": {
    "scrolled": true
   },
   "outputs": [
    {
     "data": {
      "text/plain": [
       "few hours a day            744\n",
       "less than an hour a day    139\n",
       "most of the day            124\n",
       "no time at all               3\n",
       "Name: Internet usage, dtype: int64"
      ]
     },
     "execution_count": 8,
     "metadata": {},
     "output_type": "execute_result"
    }
   ],
   "source": [
    "df['Internet usage'].value_counts(dropna=False)"
   ]
  },
  {
   "cell_type": "markdown",
   "metadata": {},
   "source": [
    "### Categories that are not numerical (Internet usage didn't get picked up [No NANs])"
   ]
  },
  {
   "cell_type": "code",
   "execution_count": 9,
   "metadata": {
    "collapsed": true,
    "scrolled": true
   },
   "outputs": [],
   "source": [
    "non_num = non_num+['Internet usage']"
   ]
  },
  {
   "cell_type": "markdown",
   "metadata": {},
   "source": [
    "### List of values in each non-numeric column"
   ]
  },
  {
   "cell_type": "code",
   "execution_count": 10,
   "metadata": {},
   "outputs": [
    {
     "name": "stdout",
     "output_type": "stream",
     "text": [
      "Smoking\n",
      "{nan, 'current smoker', 'never smoked', 'tried smoking', 'former smoker'}\n",
      "Alcohol\n",
      "{'social drinker', nan, 'never', 'drink a lot'}\n",
      "Punctuality\n",
      "{nan, 'i am always on time', 'i am often running late', 'i am often early'}\n",
      "Lying\n",
      "{nan, 'sometimes', 'never', 'only to avoid hurting someone', 'everytime it suits me'}\n",
      "Gender\n",
      "{'female', nan, 'male'}\n",
      "Left - right handed\n",
      "{nan, 'right handed', 'left handed'}\n",
      "Education\n",
      "{'masters degree', nan, 'primary school', 'currently a primary school pupil', 'secondary school', 'doctorate degree', 'college/bachelor degree'}\n",
      "Only child\n",
      "{nan, 'no', 'yes'}\n",
      "Village - town\n",
      "{'city', nan, 'village'}\n",
      "House - block of flats\n",
      "{nan, 'house/bungalow', 'block of flats'}\n",
      "Internet usage\n",
      "{'less than an hour a day', 'few hours a day', 'most of the day', 'no time at all'}\n"
     ]
    }
   ],
   "source": [
    "for i in non_num:\n",
    "    print(i)\n",
    "    print(set(df[i]))"
   ]
  },
  {
   "cell_type": "code",
   "execution_count": 11,
   "metadata": {},
   "outputs": [
    {
     "data": {
      "text/plain": [
       "(1010, 150)"
      ]
     },
     "execution_count": 11,
     "metadata": {},
     "output_type": "execute_result"
    }
   ],
   "source": [
    "df.shape"
   ]
  },
  {
   "cell_type": "markdown",
   "metadata": {},
   "source": [
    "### Lazy removal of nans. May add back to training set after feature selection if appropriate"
   ]
  },
  {
   "cell_type": "code",
   "execution_count": 12,
   "metadata": {
    "scrolled": true
   },
   "outputs": [
    {
     "data": {
      "text/plain": [
       "(674, 150)"
      ]
     },
     "execution_count": 12,
     "metadata": {},
     "output_type": "execute_result"
    }
   ],
   "source": [
    "df.dropna().shape"
   ]
  },
  {
   "cell_type": "code",
   "execution_count": 13,
   "metadata": {
    "collapsed": true
   },
   "outputs": [],
   "source": [
    "df = df.dropna()"
   ]
  },
  {
   "cell_type": "markdown",
   "metadata": {},
   "source": [
    "### Create pipeline for data sciencing"
   ]
  },
  {
   "cell_type": "markdown",
   "metadata": {},
   "source": [
    "### Classify the columns"
   ]
  },
  {
   "cell_type": "code",
   "execution_count": 14,
   "metadata": {
    "collapsed": true
   },
   "outputs": [],
   "source": [
    "binary_columns = ['Gender','Left - right handed', 'Only child', 'Village - town', 'House - block of flats']"
   ]
  },
  {
   "cell_type": "code",
   "execution_count": 15,
   "metadata": {
    "collapsed": true
   },
   "outputs": [],
   "source": [
    "multi_columns = [i for i in non_num if i not in binary_columns]"
   ]
  },
  {
   "cell_type": "code",
   "execution_count": 16,
   "metadata": {
    "collapsed": true
   },
   "outputs": [],
   "source": [
    "scale_columns = ['Age', 'Height', 'Weight', 'Number of siblings']"
   ]
  },
  {
   "cell_type": "code",
   "execution_count": 17,
   "metadata": {
    "collapsed": true
   },
   "outputs": [],
   "source": [
    "all_other_columns = list(set(df.columns.values) - set(binary_columns) - set(multi_columns) - set(scale_columns))"
   ]
  },
  {
   "cell_type": "code",
   "execution_count": 18,
   "metadata": {},
   "outputs": [
    {
     "name": "stdout",
     "output_type": "stream",
     "text": [
      "5 6 4 135\n"
     ]
    }
   ],
   "source": [
    "print(len(binary_columns), len(multi_columns),len(scale_columns), len(all_other_columns))"
   ]
  },
  {
   "cell_type": "markdown",
   "metadata": {},
   "source": [
    "### Generate the train/test split and the dataframe mapper to a particular target column"
   ]
  },
  {
   "cell_type": "code",
   "execution_count": 19,
   "metadata": {
    "collapsed": true
   },
   "outputs": [],
   "source": [
    "def gen_mapper(df, col):\n",
    "    global binary_columns\n",
    "    global multi_columns\n",
    "    global scale_columns\n",
    "    \n",
    "    def split_off(x, col):\n",
    "        return x.drop(col,axis=1),x[col]\n",
    "    \n",
    "    x_train, x_test = train_test_split(df, test_size=0.3, random_state=9)\n",
    "    x_train_small, y_train = split_off(x_train, col)\n",
    "    x_test_small, y_test = split_off(x_test, col)\n",
    "    \n",
    "    b_cols = [i for i in binary_columns if i is not col]\n",
    "    m_cols = [i for i in multi_columns if i is not col]\n",
    "    s_cols = [i for i in scale_columns if i is not col]\n",
    "    s_cols2 = [[i] for i in s_cols] # transformation needs an extra step\n",
    "    a_cols = list(set(x_train_small.columns.values) - set(b_cols) - set(m_cols) - set(s_cols))\n",
    "    \n",
    "    bi_feats = gen_features(columns = b_cols, classes=[LabelEncoder])\n",
    "    multi_feats = gen_features(columns = m_cols, classes=[LabelBinarizer])\n",
    "    scale_feates = gen_features(columns = s_cols2, classes=[{'class': MinMaxScaler, 'feature_range': (0,5)}])\n",
    "    nofeats = gen_features(columns = a_cols, classes=[None])\n",
    "    \n",
    "    mapper = DataFrameMapper(bi_feats+multi_feats+scale_feates+nofeats,df_out=True)\n",
    "    \n",
    "    return x_train_small, x_test_small, y_train, y_test, mapper"
   ]
  },
  {
   "cell_type": "code",
   "execution_count": 79,
   "metadata": {},
   "outputs": [],
   "source": [
    "x_trainChem, x_testChem, y_trainChem, y_testChem, mapperChem = gen_mapper(df,'Chemistry')"
   ]
  },
  {
   "cell_type": "code",
   "execution_count": 80,
   "metadata": {},
   "outputs": [],
   "source": [
    "x_trainCountry, x_testCountry, y_trainCountry, y_testCountry, mapperCountry = gen_mapper(df, 'Country')"
   ]
  },
  {
   "cell_type": "code",
   "execution_count": 81,
   "metadata": {},
   "outputs": [],
   "source": [
    "x_trainInstrument, x_testInstrument, y_trainInstrument, y_testInstrument, mapperInstrument = gen_mapper(df, 'Musical instruments')"
   ]
  },
  {
   "cell_type": "code",
   "execution_count": 82,
   "metadata": {
    "scrolled": false
   },
   "outputs": [
    {
     "data": {
      "text/plain": [
       "((471, 149), (203, 149))"
      ]
     },
     "execution_count": 82,
     "metadata": {},
     "output_type": "execute_result"
    }
   ],
   "source": [
    "x_trainChem.shape, x_testChem.shape"
   ]
  },
  {
   "cell_type": "code",
   "execution_count": 83,
   "metadata": {},
   "outputs": [
    {
     "data": {
      "text/plain": [
       "((471, 149), (203, 149))"
      ]
     },
     "execution_count": 83,
     "metadata": {},
     "output_type": "execute_result"
    }
   ],
   "source": [
    "x_trainCountry.shape, x_testCountry.shape"
   ]
  },
  {
   "cell_type": "code",
   "execution_count": 84,
   "metadata": {},
   "outputs": [
    {
     "data": {
      "text/plain": [
       "((471, 149), (203, 149))"
      ]
     },
     "execution_count": 84,
     "metadata": {},
     "output_type": "execute_result"
    }
   ],
   "source": [
    "x_trainInstrument.shape, x_testInstrument.shape"
   ]
  },
  {
   "cell_type": "markdown",
   "metadata": {},
   "source": [
    "### Create binary targets"
   ]
  },
  {
   "cell_type": "code",
   "execution_count": 85,
   "metadata": {
    "collapsed": true
   },
   "outputs": [],
   "source": [
    "y_trainChem=np.where(y_train>3.0,1,0)\n",
    "y_testChem=np.where(y_test>3.0,1,0)"
   ]
  },
  {
   "cell_type": "code",
   "execution_count": 86,
   "metadata": {
    "collapsed": true
   },
   "outputs": [],
   "source": [
    "y_trainCountry=np.where(y_train>3.0,1,0)\n",
    "y_testCountry=np.where(y_test>3.0,1,0)"
   ]
  },
  {
   "cell_type": "code",
   "execution_count": 87,
   "metadata": {
    "collapsed": true
   },
   "outputs": [],
   "source": [
    "y_trainInstrument=np.where(y_train>3.0,1,0)\n",
    "y_testInstrument=np.where(y_test>3.0,1,0)"
   ]
  },
  {
   "cell_type": "markdown",
   "metadata": {},
   "source": [
    "### Pipeline for transfomring and feature selection"
   ]
  },
  {
   "cell_type": "code",
   "execution_count": 125,
   "metadata": {},
   "outputs": [],
   "source": [
    "pipelineChem = Pipeline([('xfomer', mapperChem),\n",
    "                     ('selection', SelectKBest(chi2, k=5))])"
   ]
  },
  {
   "cell_type": "code",
   "execution_count": 126,
   "metadata": {
    "collapsed": true
   },
   "outputs": [],
   "source": [
    "pipelineCountry = Pipeline([('xfomer', mapperCountry),\n",
    "                     ('selection', SelectKBest(chi2, k=5))])"
   ]
  },
  {
   "cell_type": "code",
   "execution_count": 127,
   "metadata": {
    "collapsed": true
   },
   "outputs": [],
   "source": [
    "pipelineInstrument = Pipeline([('xfomer', mapperInstrument),\n",
    "                     ('selection', SelectKBest(chi2, k=5))])"
   ]
  },
  {
   "cell_type": "markdown",
   "metadata": {},
   "source": [
    "### Fit the pipeline and transforming the test set"
   ]
  },
  {
   "cell_type": "code",
   "execution_count": 128,
   "metadata": {
    "scrolled": true
   },
   "outputs": [],
   "source": [
    "x_trainChem_xformed = pipelineChem.fit_transform(x_trainChem, y_trainChem)\n",
    "x_testChem_xformed = pipelineChem.transform(x_testChem)"
   ]
  },
  {
   "cell_type": "code",
   "execution_count": 129,
   "metadata": {},
   "outputs": [],
   "source": [
    "x_trainCountry_xformed = pipelineCountry.fit_transform(x_trainCountry, y_trainCountry)\n",
    "x_testCountry_xformed = pipelineCountry.transform(x_testCountry)"
   ]
  },
  {
   "cell_type": "code",
   "execution_count": 130,
   "metadata": {},
   "outputs": [],
   "source": [
    "x_trainInstrument_xformed = pipelineInstrument.fit_transform(x_trainInstrument, y_trainInstrument)\n",
    "x_testInstrument_xformed = pipelineInstrument.transform(x_testInstrument)"
   ]
  },
  {
   "cell_type": "code",
   "execution_count": 131,
   "metadata": {},
   "outputs": [
    {
     "ename": "AttributeError",
     "evalue": "'SelectKBest' object has no attribute 'support_'",
     "output_type": "error",
     "traceback": [
      "\u001b[0;31m---------------------------------------------------------------------------\u001b[0m",
      "\u001b[0;31mAttributeError\u001b[0m                            Traceback (most recent call last)",
      "\u001b[0;32m<ipython-input-131-a46dc8a8a330>\u001b[0m in \u001b[0;36m<module>\u001b[0;34m()\u001b[0m\n\u001b[0;32m----> 1\u001b[0;31m \u001b[0mfeaturesChem\u001b[0m \u001b[0;34m=\u001b[0m \u001b[0mlist\u001b[0m\u001b[0;34m(\u001b[0m\u001b[0mnp\u001b[0m\u001b[0;34m.\u001b[0m\u001b[0marray\u001b[0m\u001b[0;34m(\u001b[0m\u001b[0mpipelineChem\u001b[0m\u001b[0;34m.\u001b[0m\u001b[0mnamed_steps\u001b[0m\u001b[0;34m[\u001b[0m\u001b[0;34m'xfomer'\u001b[0m\u001b[0;34m]\u001b[0m\u001b[0;34m.\u001b[0m\u001b[0mtransformed_names_\u001b[0m\u001b[0;34m)\u001b[0m\u001b[0;34m[\u001b[0m\u001b[0mpipelineChem\u001b[0m\u001b[0;34m.\u001b[0m\u001b[0mnamed_steps\u001b[0m\u001b[0;34m[\u001b[0m\u001b[0;34m'selection'\u001b[0m\u001b[0;34m]\u001b[0m\u001b[0;34m.\u001b[0m\u001b[0msupport_\u001b[0m\u001b[0;34m]\u001b[0m\u001b[0;34m)\u001b[0m\u001b[0;34m\u001b[0m\u001b[0m\n\u001b[0m",
      "\u001b[0;31mAttributeError\u001b[0m: 'SelectKBest' object has no attribute 'support_'"
     ]
    }
   ],
   "source": [
    "featuresChem = list(np.array(pipelineChem.named_steps['xfomer'].transformed_names_)[pipelineChem.named_steps['selection'].support_])"
   ]
  },
  {
   "cell_type": "code",
   "execution_count": 132,
   "metadata": {},
   "outputs": [
    {
     "ename": "AttributeError",
     "evalue": "'SelectKBest' object has no attribute 'support_'",
     "output_type": "error",
     "traceback": [
      "\u001b[0;31m---------------------------------------------------------------------------\u001b[0m",
      "\u001b[0;31mAttributeError\u001b[0m                            Traceback (most recent call last)",
      "\u001b[0;32m<ipython-input-132-32c534a4b975>\u001b[0m in \u001b[0;36m<module>\u001b[0;34m()\u001b[0m\n\u001b[0;32m----> 1\u001b[0;31m \u001b[0mfeaturesCountry\u001b[0m \u001b[0;34m=\u001b[0m \u001b[0mlist\u001b[0m\u001b[0;34m(\u001b[0m\u001b[0mnp\u001b[0m\u001b[0;34m.\u001b[0m\u001b[0marray\u001b[0m\u001b[0;34m(\u001b[0m\u001b[0mpipelineCountry\u001b[0m\u001b[0;34m.\u001b[0m\u001b[0mnamed_steps\u001b[0m\u001b[0;34m[\u001b[0m\u001b[0;34m'xfomer'\u001b[0m\u001b[0;34m]\u001b[0m\u001b[0;34m.\u001b[0m\u001b[0mtransformed_names_\u001b[0m\u001b[0;34m)\u001b[0m\u001b[0;34m[\u001b[0m\u001b[0mpipelineCountry\u001b[0m\u001b[0;34m.\u001b[0m\u001b[0mnamed_steps\u001b[0m\u001b[0;34m[\u001b[0m\u001b[0;34m'selection'\u001b[0m\u001b[0;34m]\u001b[0m\u001b[0;34m.\u001b[0m\u001b[0msupport_\u001b[0m\u001b[0;34m]\u001b[0m\u001b[0;34m)\u001b[0m\u001b[0;34m\u001b[0m\u001b[0m\n\u001b[0m",
      "\u001b[0;31mAttributeError\u001b[0m: 'SelectKBest' object has no attribute 'support_'"
     ]
    }
   ],
   "source": [
    "featuresCountry = list(np.array(pipelineCountry.named_steps['xfomer'].transformed_names_)[pipelineCountry.named_steps['selection'].support_])"
   ]
  },
  {
   "cell_type": "code",
   "execution_count": 107,
   "metadata": {
    "collapsed": true
   },
   "outputs": [],
   "source": [
    "featuresInstrument = list(np.array(pipelineInstrument.named_steps['xfomer'].transformed_names_)[pipelineInstrument.named_steps['selection'].support_])"
   ]
  },
  {
   "cell_type": "markdown",
   "metadata": {},
   "source": [
    "### Selected features"
   ]
  },
  {
   "cell_type": "code",
   "execution_count": 133,
   "metadata": {},
   "outputs": [
    {
     "name": "stdout",
     "output_type": "stream",
     "text": [
      "['Left - right handed', 'Smoking_tried smoking', 'Internet usage_few hours a day', 'Biology', 'Medicine', 'Friends versus money']\n"
     ]
    }
   ],
   "source": [
    "print(featuresChem)"
   ]
  },
  {
   "cell_type": "code",
   "execution_count": 134,
   "metadata": {},
   "outputs": [
    {
     "name": "stdout",
     "output_type": "stream",
     "text": [
      "['Left - right handed', 'Smoking_current smoker', 'Height', 'Chemistry', 'Music', 'Appearence and gestures']\n"
     ]
    }
   ],
   "source": [
    "print(featuresCountry)"
   ]
  },
  {
   "cell_type": "code",
   "execution_count": 136,
   "metadata": {},
   "outputs": [
    {
     "name": "stdout",
     "output_type": "stream",
     "text": [
      "['Left - right handed', 'Smoking_current smoker', 'Chemistry', 'Music', 'Appearence and gestures']\n"
     ]
    }
   ],
   "source": [
    "print(featuresInstrument)"
   ]
  },
  {
   "cell_type": "markdown",
   "metadata": {},
   "source": [
    "### Look at a few models"
   ]
  },
  {
   "cell_type": "code",
   "execution_count": 137,
   "metadata": {
    "collapsed": true
   },
   "outputs": [],
   "source": [
    "models = []\n",
    "models.append(('LR', LogisticRegression(class_weight='balanced')))\n",
    "models.append(('SVM', SVC(class_weight='balanced')))\n",
    "models.append(('RF', RandomForestClassifier(100, max_features = 3)))"
   ]
  },
  {
   "cell_type": "code",
   "execution_count": 111,
   "metadata": {},
   "outputs": [
    {
     "name": "stdout",
     "output_type": "stream",
     "text": [
      "LR 0.979166666667\n",
      "SVM 1.0\n",
      "RF 1.0\n"
     ]
    }
   ],
   "source": [
    "for name, model in models:\n",
    "    model.fit(x_trainInstrument_xformed,y_trainInstrument)\n",
    "    y_predInstrument = model.predict(x_testInstrument_xformed)\n",
    "    print(name, f1_score(y_testInstrument,y_predInstrument))"
   ]
  },
  {
   "cell_type": "code",
   "execution_count": 112,
   "metadata": {},
   "outputs": [
    {
     "name": "stdout",
     "output_type": "stream",
     "text": [
      "LR 0.979166666667\n",
      "SVM 0.989247311828\n",
      "RF 1.0\n"
     ]
    }
   ],
   "source": [
    "for name, model in models:\n",
    "    model.fit(x_trainCountry_xformed,y_trainCountry)\n",
    "    y_predCountry = model.predict(x_testCountry_xformed)\n",
    "    print(name, f1_score(y_testCountry,y_predCountry))"
   ]
  },
  {
   "cell_type": "code",
   "execution_count": 113,
   "metadata": {},
   "outputs": [
    {
     "name": "stdout",
     "output_type": "stream",
     "text": [
      "LR 0.635514018692\n",
      "SVM 0.666666666667\n",
      "RF 0.626506024096\n"
     ]
    }
   ],
   "source": [
    "for name, model in models:\n",
    "    model.fit(x_trainChem_xformed,y_trainChem)\n",
    "    y_predChem = model.predict(x_testChem_xformed)\n",
    "    print(name, f1_score(y_testChem,y_predChem))"
   ]
  },
  {
   "cell_type": "markdown",
   "metadata": {},
   "source": [
    "### Grid Search the SVM for optimal parameters"
   ]
  },
  {
   "cell_type": "code",
   "execution_count": 53,
   "metadata": {},
   "outputs": [
    {
     "name": "stdout",
     "output_type": "stream",
     "text": [
      "Best score:  1.0\n",
      "Best gamma:  1.0\n",
      "Best C:  1000.0\n"
     ]
    }
   ],
   "source": [
    "# Gamma parameter in SVM\n",
    "gammas = np.array([1/(10**i) for i in range(7)])\n",
    "\n",
    "# C paramter in SVM\n",
    "Cs = np.array([1000/(10**i) for i in range(9)])\n",
    "\n",
    "param_grid = {'gamma':gammas, 'C':Cs}\n",
    "gridSVM = SVC(kernel='rbf', class_weight='balanced')\n",
    "scoring = 'roc_auc'\n",
    "\n",
    "grid = GridSearchCV(estimator=gridSVM, param_grid=param_grid, scoring=scoring)\n",
    "grid.fit(x_trainInstrument_xformed, y_trainInstrument)\n",
    "\n",
    "print(\"Best score: \", grid.best_score_)\n",
    "print(\"Best gamma: \", grid.best_estimator_.gamma)\n",
    "print(\"Best C: \", grid.best_estimator_.C)"
   ]
  },
  {
   "cell_type": "code",
   "execution_count": 54,
   "metadata": {
    "collapsed": true
   },
   "outputs": [],
   "source": [
    "model = SVC(kernel='rbf', C = grid.best_estimator_.C, gamma = grid.best_estimator_.gamma, class_weight='balanced', probability=True)"
   ]
  },
  {
   "cell_type": "code",
   "execution_count": 55,
   "metadata": {
    "scrolled": true
   },
   "outputs": [
    {
     "data": {
      "text/plain": [
       "SVC(C=1000.0, cache_size=200, class_weight='balanced', coef0=0.0,\n",
       "  decision_function_shape='ovr', degree=3, gamma=1.0, kernel='rbf',\n",
       "  max_iter=-1, probability=True, random_state=None, shrinking=True,\n",
       "  tol=0.001, verbose=False)"
      ]
     },
     "execution_count": 55,
     "metadata": {},
     "output_type": "execute_result"
    }
   ],
   "source": [
    "model.fit(x_trainInstrument_xformed,y_trainInstrument)"
   ]
  },
  {
   "cell_type": "code",
   "execution_count": 56,
   "metadata": {
    "scrolled": true
   },
   "outputs": [
    {
     "name": "stdout",
     "output_type": "stream",
     "text": [
      "             precision    recall  f1-score   support\n",
      "\n",
      "          0       0.99      1.00      0.99       156\n",
      "          1       1.00      0.96      0.98        47\n",
      "\n",
      "avg / total       0.99      0.99      0.99       203\n",
      "\n",
      "AUC ROC:  0.999727223131\n"
     ]
    }
   ],
   "source": [
    "y_predInstrument = model.predict(x_testInstrument_xformed)\n",
    "print(classification_report(y_testInstrument, y_predInstrument))\n",
    "y_probaInstrument = model.predict_proba(x_testInstrument_xformed)[:,1]\n",
    "print(\"AUC ROC: \",roc_auc_score(y_testInstrument, y_probaInstrument))"
   ]
  },
  {
   "cell_type": "markdown",
   "metadata": {},
   "source": [
    "### Grid Search Logistic Regression for optimal parameters"
   ]
  },
  {
   "cell_type": "code",
   "execution_count": 138,
   "metadata": {},
   "outputs": [
    {
     "name": "stdout",
     "output_type": "stream",
     "text": [
      "Best score:  1.0\n",
      "Best C:  1000.0\n"
     ]
    }
   ],
   "source": [
    "# C paramter\n",
    "Cs = np.array([1000/(10**i) for i in range(9)])\n",
    "\n",
    "param_grid = {'C':Cs}\n",
    "gridSVM = LogisticRegression(class_weight='balanced')\n",
    "scoring = 'roc_auc'\n",
    "\n",
    "gridLR = GridSearchCV(estimator=gridSVM, param_grid=param_grid, scoring=scoring)\n",
    "gridLR.fit(x_trainInstrument_xformed, y_trainInstrument)\n",
    "\n",
    "print(\"Best score: \", gridLR.best_score_)\n",
    "print(\"Best C: \", gridLR.best_estimator_.C)"
   ]
  },
  {
   "cell_type": "code",
   "execution_count": 139,
   "metadata": {},
   "outputs": [
    {
     "name": "stdout",
     "output_type": "stream",
     "text": [
      "Best score:  0.911175710594\n",
      "Best C:  1e-05\n"
     ]
    }
   ],
   "source": [
    "# C paramter\n",
    "Cs = np.array([1000/(10**i) for i in range(9)])\n",
    "\n",
    "param_grid = {'C':Cs}\n",
    "gridSVM = LogisticRegression(class_weight='balanced')\n",
    "scoring = 'roc_auc'\n",
    "\n",
    "gridLR = GridSearchCV(estimator=gridSVM, param_grid=param_grid, scoring=scoring)\n",
    "gridLR.fit(x_trainChem_xformed, y_trainChem)\n",
    "\n",
    "print(\"Best score: \", gridLR.best_score_)\n",
    "print(\"Best C: \", gridLR.best_estimator_.C)"
   ]
  },
  {
   "cell_type": "code",
   "execution_count": 140,
   "metadata": {},
   "outputs": [
    {
     "name": "stdout",
     "output_type": "stream",
     "text": [
      "Best score:  1.0\n",
      "Best C:  1000.0\n"
     ]
    }
   ],
   "source": [
    "# C paramter\n",
    "Cs = np.array([1000/(10**i) for i in range(9)])\n",
    "\n",
    "param_grid = {'C':Cs}\n",
    "gridSVM = LogisticRegression(class_weight='balanced')\n",
    "scoring = 'roc_auc'\n",
    "\n",
    "gridLR = GridSearchCV(estimator=gridSVM, param_grid=param_grid, scoring=scoring)\n",
    "gridLR.fit(x_trainCountry_xformed, y_trainCountry)\n",
    "\n",
    "print(\"Best score: \", gridLR.best_score_)\n",
    "print(\"Best C: \", gridLR.best_estimator_.C)"
   ]
  },
  {
   "cell_type": "code",
   "execution_count": 59,
   "metadata": {
    "collapsed": true
   },
   "outputs": [],
   "source": [
    "model2 = LogisticRegression(C = gridLR.best_estimator_.C, class_weight='balanced')"
   ]
  },
  {
   "cell_type": "code",
   "execution_count": 61,
   "metadata": {},
   "outputs": [
    {
     "data": {
      "text/plain": [
       "LogisticRegression(C=0.001, class_weight='balanced', dual=False,\n",
       "          fit_intercept=True, intercept_scaling=1, max_iter=100,\n",
       "          multi_class='ovr', n_jobs=1, penalty='l2', random_state=None,\n",
       "          solver='liblinear', tol=0.0001, verbose=0, warm_start=False)"
      ]
     },
     "execution_count": 61,
     "metadata": {},
     "output_type": "execute_result"
    }
   ],
   "source": [
    "model2.fit(x_trainInstrument_xformed,y_trainInstrument)"
   ]
  },
  {
   "cell_type": "code",
   "execution_count": null,
   "metadata": {
    "collapsed": true
   },
   "outputs": [],
   "source": [
    "model2.fit(x_trainInstrument_xformed,y_trainInstrument)"
   ]
  },
  {
   "cell_type": "code",
   "execution_count": null,
   "metadata": {
    "collapsed": true
   },
   "outputs": [],
   "source": [
    "model2.fit(x_trainInstrument_xformed,y_trainInstrument)"
   ]
  },
  {
   "cell_type": "code",
   "execution_count": 141,
   "metadata": {},
   "outputs": [
    {
     "name": "stdout",
     "output_type": "stream",
     "text": [
      "             precision    recall  f1-score   support\n",
      "\n",
      "          0       0.98      0.27      0.42       156\n",
      "          1       0.29      0.98      0.44        47\n",
      "\n",
      "avg / total       0.82      0.43      0.43       203\n",
      "\n",
      "AUC ROC:  0.864020731042\n"
     ]
    }
   ],
   "source": [
    "y_pred2Instrument = model2.predict(x_testInstrument_xformed)\n",
    "y_proba2Instrument = model2.predict_proba(x_testInstrument_xformed)[:,1]\n",
    "print(classification_report(y_testInstrument, y_pred2Instrument))\n",
    "print(\"AUC ROC: \",roc_auc_score(y_testInstrument, y_proba2Instrument))"
   ]
  },
  {
   "cell_type": "code",
   "execution_count": 142,
   "metadata": {},
   "outputs": [
    {
     "name": "stdout",
     "output_type": "stream",
     "text": [
      "intercept:  [-0.01621926]  coeffs:  [[-0.01882423 -0.0059948   0.23107123 -0.07083561 -0.05376686]]\n"
     ]
    }
   ],
   "source": [
    "print(\"intercept: \", model2.intercept_, \" coeffs: \", model2.coef_)"
   ]
  },
  {
   "cell_type": "code",
   "execution_count": null,
   "metadata": {
    "collapsed": true
   },
   "outputs": [],
   "source": []
  }
 ],
 "metadata": {
  "kernelspec": {
   "display_name": "Python 3",
   "language": "python",
   "name": "python3"
  },
  "language_info": {
   "codemirror_mode": {
    "name": "ipython",
    "version": 3
   },
   "file_extension": ".py",
   "mimetype": "text/x-python",
   "name": "python",
   "nbconvert_exporter": "python",
   "pygments_lexer": "ipython3",
   "version": "3.6.3"
  }
 },
 "nbformat": 4,
 "nbformat_minor": 2
}
