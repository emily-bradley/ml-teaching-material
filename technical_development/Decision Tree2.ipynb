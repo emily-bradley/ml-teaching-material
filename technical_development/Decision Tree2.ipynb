{
 "cells": [
  {
   "cell_type": "markdown",
   "id": "17a2f888",
   "metadata": {},
   "source": [
    "## Decision Tree to Find Splits"
   ]
  },
  {
   "cell_type": "markdown",
   "id": "ebe49fd8",
   "metadata": {},
   "source": [
    "Decision tree algorithm: CART - Classification and Regression Trees\n",
    "* Form a binary tree and minimize the error in each leaf of the tree (greed algorithm)\n",
    "* Each node represents a single input variable (x)\n",
    "* Each leaf represents an output variable (y)\n",
    "* Given new input, the tree is traversed by evaluating the specific input starting at the root node of the tree\n",
    "* Recursive binary splitting - that is, you choose a sequence of binary splits (True and False)\n",
    "* Goal: unimix the labels as we proceed down; to provide the purest possible distribution of the labels at each node\n",
    "\n",
    "\n",
    "* When the input into a node only contains a certain type of a label, it is perfectly unmixed (there is no uncertainty about that type of label).\n",
    "* When input is still mixed, we need to ask more questions\n",
    "* To build an effective tree, we must understand which questiosn to ask and when to ask them. To do that, we need to quantify how much a label helps to unmix the lables"
   ]
  },
  {
   "cell_type": "markdown",
   "id": "56dcafca",
   "metadata": {},
   "source": [
    "Decison Tree Algorithm:\n",
    "\n",
    "Step 1. Add a root to the node of the tree\n",
    "* All nodes receive a list of rows as output\n",
    "* The root will receive the entire training set\n",
    "* Each node asks a T/F question about one of the features\n",
    "\n",
    "\n",
    "Step 2. We split or partition the data into two subsets based on the T/F questions\n",
    "* We do this by finding the split with the lowest cost. This is the sum squarred error across all training samples that fall within the range (sum y-precision)^2\n",
    "* The gini index function is used to decide how 'pure' a function is (how mixed the training data assigned to each node is)\n",
    "* **Gini impurity** - a metric that can quanitfy the amount of uncertainty in a single node\n",
    "    * G = sum(pk*(1-pk))\n",
    "    * G is the gini index over all classes\n",
    "    * pk is the proportion of training instances with class k\n",
    "    * a node with all classes of the same type gives us G=0\n",
    "    * a node with a 50/50 split gives us G=0.5\n",
    "* **Information Gain** - a metric that can quantify how much a questiond reduces the gini impurity (uncertainty)\n",
    "    * Gini index calcuation for each nodes is weighted by the total number of instances in the parent node\n",
    "\n",
    "\n",
    "Step 3. The subset then becomes the input to two child nodes we add to the tree\n",
    "* we will continue dividing the data until there are no further questions to ask. At that point, we add a leaf"
   ]
  },
  {
   "cell_type": "markdown",
   "metadata": {},
   "source": [
    "# Binary Classification Decision Tree - Best Split Determination\n",
    "\n",
    "We are going to implement an over simplified version of a binary classification decision tree that determines the best split and outputs a tree."
   ]
  },
  {
   "cell_type": "code",
   "execution_count": 1,
   "metadata": {},
   "outputs": [],
   "source": [
    "import pandas as pd\n",
    "import numpy as np"
   ]
  },
  {
   "cell_type": "markdown",
   "metadata": {},
   "source": [
    "Make up a pandas dataframe with random data"
   ]
  },
  {
   "cell_type": "code",
   "execution_count": 25,
   "metadata": {},
   "outputs": [
    {
     "data": {
      "text/html": [
       "<div>\n",
       "<style scoped>\n",
       "    .dataframe tbody tr th:only-of-type {\n",
       "        vertical-align: middle;\n",
       "    }\n",
       "\n",
       "    .dataframe tbody tr th {\n",
       "        vertical-align: top;\n",
       "    }\n",
       "\n",
       "    .dataframe thead th {\n",
       "        text-align: right;\n",
       "    }\n",
       "</style>\n",
       "<table border=\"1\" class=\"dataframe\">\n",
       "  <thead>\n",
       "    <tr style=\"text-align: right;\">\n",
       "      <th></th>\n",
       "      <th>A</th>\n",
       "      <th>B</th>\n",
       "      <th>C</th>\n",
       "      <th>D</th>\n",
       "    </tr>\n",
       "  </thead>\n",
       "  <tbody>\n",
       "    <tr>\n",
       "      <th>0</th>\n",
       "      <td>3</td>\n",
       "      <td>3</td>\n",
       "      <td>0</td>\n",
       "      <td>3</td>\n",
       "    </tr>\n",
       "    <tr>\n",
       "      <th>1</th>\n",
       "      <td>2</td>\n",
       "      <td>2</td>\n",
       "      <td>1</td>\n",
       "      <td>0</td>\n",
       "    </tr>\n",
       "    <tr>\n",
       "      <th>2</th>\n",
       "      <td>3</td>\n",
       "      <td>2</td>\n",
       "      <td>1</td>\n",
       "      <td>1</td>\n",
       "    </tr>\n",
       "    <tr>\n",
       "      <th>3</th>\n",
       "      <td>2</td>\n",
       "      <td>0</td>\n",
       "      <td>3</td>\n",
       "      <td>0</td>\n",
       "    </tr>\n",
       "    <tr>\n",
       "      <th>4</th>\n",
       "      <td>1</td>\n",
       "      <td>0</td>\n",
       "      <td>3</td>\n",
       "      <td>0</td>\n",
       "    </tr>\n",
       "    <tr>\n",
       "      <th>...</th>\n",
       "      <td>...</td>\n",
       "      <td>...</td>\n",
       "      <td>...</td>\n",
       "      <td>...</td>\n",
       "    </tr>\n",
       "    <tr>\n",
       "      <th>95</th>\n",
       "      <td>0</td>\n",
       "      <td>2</td>\n",
       "      <td>3</td>\n",
       "      <td>3</td>\n",
       "    </tr>\n",
       "    <tr>\n",
       "      <th>96</th>\n",
       "      <td>0</td>\n",
       "      <td>3</td>\n",
       "      <td>3</td>\n",
       "      <td>1</td>\n",
       "    </tr>\n",
       "    <tr>\n",
       "      <th>97</th>\n",
       "      <td>2</td>\n",
       "      <td>3</td>\n",
       "      <td>3</td>\n",
       "      <td>2</td>\n",
       "    </tr>\n",
       "    <tr>\n",
       "      <th>98</th>\n",
       "      <td>1</td>\n",
       "      <td>1</td>\n",
       "      <td>3</td>\n",
       "      <td>1</td>\n",
       "    </tr>\n",
       "    <tr>\n",
       "      <th>99</th>\n",
       "      <td>0</td>\n",
       "      <td>3</td>\n",
       "      <td>3</td>\n",
       "      <td>0</td>\n",
       "    </tr>\n",
       "  </tbody>\n",
       "</table>\n",
       "<p>100 rows × 4 columns</p>\n",
       "</div>"
      ],
      "text/plain": [
       "    A  B  C  D\n",
       "0   3  3  0  3\n",
       "1   2  2  1  0\n",
       "2   3  2  1  1\n",
       "3   2  0  3  0\n",
       "4   1  0  3  0\n",
       ".. .. .. .. ..\n",
       "95  0  2  3  3\n",
       "96  0  3  3  1\n",
       "97  2  3  3  2\n",
       "98  1  1  3  1\n",
       "99  0  3  3  0\n",
       "\n",
       "[100 rows x 4 columns]"
      ]
     },
     "execution_count": 25,
     "metadata": {},
     "output_type": "execute_result"
    }
   ],
   "source": [
    "X = pd.DataFrame(np.random.randint(0,4,size=(100, 4)), columns=list('ABCD'))\n",
    "X"
   ]
  },
  {
   "cell_type": "code",
   "execution_count": 23,
   "metadata": {},
   "outputs": [
    {
     "data": {
      "text/html": [
       "<div>\n",
       "<style scoped>\n",
       "    .dataframe tbody tr th:only-of-type {\n",
       "        vertical-align: middle;\n",
       "    }\n",
       "\n",
       "    .dataframe tbody tr th {\n",
       "        vertical-align: top;\n",
       "    }\n",
       "\n",
       "    .dataframe thead th {\n",
       "        text-align: right;\n",
       "    }\n",
       "</style>\n",
       "<table border=\"1\" class=\"dataframe\">\n",
       "  <thead>\n",
       "    <tr style=\"text-align: right;\">\n",
       "      <th></th>\n",
       "      <th>Y</th>\n",
       "    </tr>\n",
       "  </thead>\n",
       "  <tbody>\n",
       "    <tr>\n",
       "      <th>0</th>\n",
       "      <td>1</td>\n",
       "    </tr>\n",
       "    <tr>\n",
       "      <th>1</th>\n",
       "      <td>1</td>\n",
       "    </tr>\n",
       "    <tr>\n",
       "      <th>2</th>\n",
       "      <td>1</td>\n",
       "    </tr>\n",
       "    <tr>\n",
       "      <th>3</th>\n",
       "      <td>1</td>\n",
       "    </tr>\n",
       "    <tr>\n",
       "      <th>4</th>\n",
       "      <td>0</td>\n",
       "    </tr>\n",
       "    <tr>\n",
       "      <th>...</th>\n",
       "      <td>...</td>\n",
       "    </tr>\n",
       "    <tr>\n",
       "      <th>95</th>\n",
       "      <td>1</td>\n",
       "    </tr>\n",
       "    <tr>\n",
       "      <th>96</th>\n",
       "      <td>1</td>\n",
       "    </tr>\n",
       "    <tr>\n",
       "      <th>97</th>\n",
       "      <td>0</td>\n",
       "    </tr>\n",
       "    <tr>\n",
       "      <th>98</th>\n",
       "      <td>1</td>\n",
       "    </tr>\n",
       "    <tr>\n",
       "      <th>99</th>\n",
       "      <td>0</td>\n",
       "    </tr>\n",
       "  </tbody>\n",
       "</table>\n",
       "<p>100 rows × 1 columns</p>\n",
       "</div>"
      ],
      "text/plain": [
       "    Y\n",
       "0   1\n",
       "1   1\n",
       "2   1\n",
       "3   1\n",
       "4   0\n",
       ".. ..\n",
       "95  1\n",
       "96  1\n",
       "97  0\n",
       "98  1\n",
       "99  0\n",
       "\n",
       "[100 rows x 1 columns]"
      ]
     },
     "execution_count": 23,
     "metadata": {},
     "output_type": "execute_result"
    }
   ],
   "source": [
    "y = pd.DataFrame(np.random.randint(0,2,size=(100, 1)), columns=['Y'])\n",
    "y"
   ]
  },
  {
   "cell_type": "code",
   "execution_count": 26,
   "metadata": {},
   "outputs": [
    {
     "data": {
      "text/html": [
       "<div>\n",
       "<style scoped>\n",
       "    .dataframe tbody tr th:only-of-type {\n",
       "        vertical-align: middle;\n",
       "    }\n",
       "\n",
       "    .dataframe tbody tr th {\n",
       "        vertical-align: top;\n",
       "    }\n",
       "\n",
       "    .dataframe thead th {\n",
       "        text-align: right;\n",
       "    }\n",
       "</style>\n",
       "<table border=\"1\" class=\"dataframe\">\n",
       "  <thead>\n",
       "    <tr style=\"text-align: right;\">\n",
       "      <th></th>\n",
       "      <th>A</th>\n",
       "      <th>B</th>\n",
       "      <th>C</th>\n",
       "      <th>D</th>\n",
       "      <th>Y</th>\n",
       "    </tr>\n",
       "  </thead>\n",
       "  <tbody>\n",
       "    <tr>\n",
       "      <th>0</th>\n",
       "      <td>3</td>\n",
       "      <td>3</td>\n",
       "      <td>0</td>\n",
       "      <td>3</td>\n",
       "      <td>1</td>\n",
       "    </tr>\n",
       "    <tr>\n",
       "      <th>1</th>\n",
       "      <td>2</td>\n",
       "      <td>2</td>\n",
       "      <td>1</td>\n",
       "      <td>0</td>\n",
       "      <td>1</td>\n",
       "    </tr>\n",
       "    <tr>\n",
       "      <th>2</th>\n",
       "      <td>3</td>\n",
       "      <td>2</td>\n",
       "      <td>1</td>\n",
       "      <td>1</td>\n",
       "      <td>1</td>\n",
       "    </tr>\n",
       "    <tr>\n",
       "      <th>3</th>\n",
       "      <td>2</td>\n",
       "      <td>0</td>\n",
       "      <td>3</td>\n",
       "      <td>0</td>\n",
       "      <td>1</td>\n",
       "    </tr>\n",
       "    <tr>\n",
       "      <th>4</th>\n",
       "      <td>1</td>\n",
       "      <td>0</td>\n",
       "      <td>3</td>\n",
       "      <td>0</td>\n",
       "      <td>0</td>\n",
       "    </tr>\n",
       "  </tbody>\n",
       "</table>\n",
       "</div>"
      ],
      "text/plain": [
       "   A  B  C  D  Y\n",
       "0  3  3  0  3  1\n",
       "1  2  2  1  0  1\n",
       "2  3  2  1  1  1\n",
       "3  2  0  3  0  1\n",
       "4  1  0  3  0  0"
      ]
     },
     "execution_count": 26,
     "metadata": {},
     "output_type": "execute_result"
    }
   ],
   "source": [
    "df = X.copy()\n",
    "df['Y'] = y\n",
    "df.head()"
   ]
  },
  {
   "cell_type": "markdown",
   "metadata": {},
   "source": [
    "gini impurity = 1 - p(class1)^2 - p(class2)^2"
   ]
  },
  {
   "cell_type": "code",
   "execution_count": 16,
   "metadata": {},
   "outputs": [],
   "source": [
    "def calculate_gini_impurity(x_feature, y_target, feature_split):\n",
    "    # YOUR CODE HERE\n",
    "    # calculate the proportion of x_feature to y_target using the feature split\n",
    "    class0_counts = (y_target == 0).sum()\n",
    "    class1_counts = (y_target == 1).sum()\n",
    "    gini = 1 - (class0_counts / (class0_counts + class1_counts))**2 - (class1_counts / (class0_counts + class1_counts))**2\n",
    "    return gini"
   ]
  },
  {
   "cell_type": "code",
   "execution_count": 17,
   "metadata": {},
   "outputs": [],
   "source": [
    "def find_splits(data):\n",
    "    # Find all the possible splits\n",
    "    splits = np.unique(data)\n",
    "    return splits"
   ]
  },
  {
   "cell_type": "code",
   "execution_count": 18,
   "metadata": {},
   "outputs": [],
   "source": [
    "def determine_best_split(x_features, y_target):\n",
    "    # For all features, evaluate reduction in impurity at each split possiblity\n",
    "    # Return the best split\n",
    "    num_features = np.shape(x_features)[1]\n",
    "    feature_gini_list = [] * num_columns\n",
    "    best_split = x_features[0]\n",
    "    current_gini_impurity = 1\n",
    "    # Loop over all of the the possible feature splits\n",
    "    for feature_index in num_features:\n",
    "        # 1. Find splits\n",
    "        splits = find_splits(x_features[feature_index])\n",
    "        for split in splits:\n",
    "            # 2. Calculate the gini of all the splits for all the features\n",
    "            split_gini_impurity = calcualte_gini_impurity(feature, y_target, split)\n",
    "            feature_gini_list.append(split_gini_impurity)\n",
    "            # 3. Update the best split if the gini impurity is lower\n",
    "            if split_gini_impurity < current_gini_impurity:\n",
    "                current_gini_impurity = split_gini_impurity\n",
    "                best_split = x_features[feature_index]\n",
    "                \n",
    "    return best_split"
   ]
  },
  {
   "cell_type": "code",
   "execution_count": null,
   "metadata": {},
   "outputs": [],
   "source": [
    "def create_split(tree, x_features, y_target, previous_split, current_split_count, max_split):\n",
    "    current_split_count += 1\n",
    "    if current_split_count == max_split:\n",
    "        return tree\n",
    "    tree[previous_split] = determine_best_split(x_features, y_target)\n",
    "    node = create_split(tree, x_features, y_target, previous_split, current_split_count, max_split)\n",
    "    return tree.append([node])"
   ]
  },
  {
   "cell_type": "code",
   "execution_count": 29,
   "metadata": {},
   "outputs": [
    {
     "data": {
      "text/plain": [
       "['A', ['B']]"
      ]
     },
     "execution_count": 29,
     "metadata": {},
     "output_type": "execute_result"
    }
   ],
   "source": [
    "my_list = ['A']\n",
    "my_list.extend([['B']])\n",
    "my_list"
   ]
  },
  {
   "cell_type": "code",
   "execution_count": null,
   "metadata": {},
   "outputs": [],
   "source": [
    "def build_tree(x_features, y_target, max_splits=3):\n",
    "    tree = []\n",
    "    \n",
    "    # create_splits is a recursive method that will call itself until it no longer finds a split that is good\n",
    "    tree = create_split(tree, x_features, y_target, previous_split, -1, max_splits)\n",
    "    \n",
    "    # 1. Calculate the gini impurity of the dataset using x_features and y_target\n",
    "    tree = calculate_lowest_gini_impurity(x_features, y_target)\n",
    "    # 2. Compare the gini impurity of \n",
    "    if new_split_gini != None\n",
    "        # continue building the tree\n",
    "    else:\n",
    "    # the column position and value of that column with lowest gini_impurity\n",
    "    # [column_position, split_value, gini_impurity_of_split]\n",
    "        return best_split\n",
    "    \n",
    "    \n",
    "    current_node_impurity = 1\n",
    "    # Decision Tree Algorithm\n",
    "    # 1. Determine the Best Split of the Given Features\n",
    "    best_split = determine_best_split(x_features, y_target)\n",
    "    # 2. Evaluate if the Best Split is better than the Current Node (i.e. does it decrease impurity).\n",
    "    # If the Split is better, then add the split and continue checking the data\n",
    "    if best_split > current_node_impurity:\n",
    "        # If the split is better than the current node and reduces the impurity, then add the split\n",
    "        # Add the node to the tree\n",
    "        stack = \n",
    "        # Split the data\n",
    "        # Send each Split to Each node and evaluate the splits\n",
    "        best_split = determine_best_split(x_features, y_target)\n",
    "        \n",
    "    return tree"
   ]
  },
  {
   "cell_type": "code",
   "execution_count": 9,
   "metadata": {},
   "outputs": [
    {
     "ename": "SyntaxError",
     "evalue": "invalid syntax (<ipython-input-9-9d436fe9e97f>, line 11)",
     "output_type": "error",
     "traceback": [
      "\u001b[0;36m  File \u001b[0;32m\"<ipython-input-9-9d436fe9e97f>\"\u001b[0;36m, line \u001b[0;32m11\u001b[0m\n\u001b[0;31m    stack =\u001b[0m\n\u001b[0m            ^\u001b[0m\n\u001b[0;31mSyntaxError\u001b[0m\u001b[0;31m:\u001b[0m invalid syntax\n"
     ]
    }
   ],
   "source": []
  },
  {
   "cell_type": "markdown",
   "metadata": {},
   "source": [
    "Question: How could this oversimplified algorithm be enhanced?"
   ]
  },
  {
   "cell_type": "code",
   "execution_count": null,
   "metadata": {},
   "outputs": [],
   "source": []
  }
 ],
 "metadata": {
  "kernelspec": {
   "display_name": "Python 3",
   "language": "python",
   "name": "python3"
  },
  "language_info": {
   "codemirror_mode": {
    "name": "ipython",
    "version": 3
   },
   "file_extension": ".py",
   "mimetype": "text/x-python",
   "name": "python",
   "nbconvert_exporter": "python",
   "pygments_lexer": "ipython3",
   "version": "3.8.8"
  }
 },
 "nbformat": 4,
 "nbformat_minor": 4
}
