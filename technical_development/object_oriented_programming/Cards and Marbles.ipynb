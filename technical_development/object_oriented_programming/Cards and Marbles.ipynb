{
 "cells": [
  {
   "cell_type": "markdown",
   "id": "012782d6",
   "metadata": {},
   "source": [
    "## Cards and Marbles"
   ]
  },
  {
   "cell_type": "markdown",
   "id": "bd55edc0",
   "metadata": {},
   "source": [
    "Write code in this Jupyter Notebook to solve the following problems. Please upload this **Notebook** with your solutions to your GitHub repository and gradescope.\n",
    "\n",
    "Assignment due date: 11:59PM PT the night before the Week 8 Live Session."
   ]
  },
  {
   "cell_type": "markdown",
   "id": "4c3f0e68",
   "metadata": {},
   "source": [
    "## Objectives:\n",
    "\n",
    "- Demonstrate how to define classes\n",
    "- Design and implement class objects and class interactions\n",
    "- Understand how to call methods from both inside and outside of classes\n",
    "- Understand how to set internal attribute within a class"
   ]
  },
  {
   "cell_type": "markdown",
   "id": "2060565c",
   "metadata": {},
   "source": [
    "## General Guidelines:\n",
    "\n",
    "- All calculations need to be done in the classes (that includes any formatting of the output)\n",
    "- Name your classes exactly as written in the problem statement\n",
    "- Do NOT make separate input() statements. The classes will be passed the input as shown in the examples\n",
    "- The examples are using the '>>>' as the command entered into a Jupyter coding cell with the example output shown below it. \n",
    "- The examples given are samples of how we will test/grade your code. Please ensure your classes output the same information\n",
    "- Inputs to classes and methods do need to be validated or checked where the problem or examples specifically state to check for inputs. Otherwise, you can assume that the correct input will be sent as shown in the examples.\n",
    "- Docstrings and comments in your code are strongly suggested but won't be graded\n",
    "- In each code block, do NOT delete the ### comment at the top of a cell (it's needed for the auto-grading!)\n",
    "  - Do NOT print or put other statements in the grading cells. The autograder will fail - if this happens please delete those statments and re-submit \n",
    "  - You will get 80 points from the autograder for this assignment and 20 points will be hidden. That is, passing all of the visible tests will give you 80 points. Make sure you are meeting the requirements of the problem to get the other 20 points.\n",
    "  - You may upload and run the autograder as many times as needed in your time window to get full points\n",
    "  - The assignment needs to be named HW_Unit_07.ipynb to be graded from the autograder!\n",
    "  - The examples given are samples of how we will test/grade your code. Please ensure your code outputs the same information.\n",
    "    - In addition to the given example, the autograder will test other examples\n",
    "    - Each autograder test tells you what input it is using\n",
    "  - Once complete, the autograder will show each tests, if that test is passed or failed, and your total score\n",
    "  - The autograder fails for a couple of reasons:\n",
    "    - Your code crashes with that input (for example: `Test Failed: string index out of range`)\n",
    "    - Your code output does not match the 'correct' output (for example: `Test Failed: '1 2 3 2 1' != '1 4 6 4 1'`)"
   ]
  },
  {
   "cell_type": "markdown",
   "id": "d11d8b28",
   "metadata": {},
   "source": [
    "## 7-1 Deck of Cards (50 points)\n",
    "\n",
    "Please design two classes in this notebook as follows:\n",
    "\n",
    "1\\. Please create a class called **PlayingCard**. (20 points)<br>\n",
    "This class should have: <br>\n",
    "- An attribute, \"rank\" that takes a value of \"2\", \"3\", \"4\", \"5\", \"6\", \"7\", \"8\", \"9\", \"10\", \"J\", \"Q\", \"K\", or \"A\"<br>\n",
    "- An attribute, \"suit\" that takes a value of \"♠\" \"♥\" \"♦\" or \"♣\". (If you don't know how to make these characters you can cut and paste from this block)<br>  \n",
    "- An __init__ method that:\n",
    "    -  Accepts as parameters a specific rank (as a string) and suit (as a string).\n",
    "    -  **Raise a TypeError** with \"Invalid rank!\" or \"Invalid suit!\" when a rank or suit is not valid.\n",
    "- The ```__str__``` and ```__repr__``` methods to display the cards correctly (as shown below in the examples)\n",
    "\n",
    "2\\. Please create a class called **Deck**. (30 points)<br>\n",
    "This class should have: <br>\n",
    "- An attribute, \"cards\", that holds a list of PlayingCard objects. <br>\n",
    "- An __init__ method that: \n",
    "\n",
    "    - By default stores a full deck of 52 playing card (with proper numbers and suits) in the \"cards\" list. Each cards will be  of the class PlayingCard above<br>\n",
    "    - Allows the user to specify a specific suit of the 4 (\"♠\" \"♥\" \"♦\" or \"♣\"). In this case, the program should only populate the deck with the 13 cards of that suit.\n",
    "    - After the cards object is initialized, call the \"shuffle_deck()\" function (below).<br>\n",
    "    \n",
    "- A \"shuffle_deck()\" method that randomly changes the order of cards in the deck.<br>\n",
    "    - Import the random library to 'shuffle' the deck: https://docs.python.org/3.9/library/random.html#random.shuffle\n",
    "    - Please import it at the top of your block instead of inside the class / methods.\n",
    "\n",
    "- A \"deal_card(card_count)\" method that:\n",
    "    - **Removes** the first `card_count` cards from the deck and **returns** them as a **list**.<br>\n",
    "    - If the deck doesnt have the `card_count` number of cards left to deal, **return** the message `Cannot deal <x> cards. The deck only has <y> cards left!` (do not raise an exception or print inside the method).\n",
    "    \n",
    "\n",
    "Example:\n",
    "```\n",
    ">>> card1 = PlayingCard(\"A\", \"♠\")\n",
    ">>> print(card1)\n",
    "A of ♠\n",
    "\n",
    ">>> card2 = PlayingCard(\"15\", \"♠\")\n",
    "< error stack >\n",
    "TypeError: Invalid rank!\n",
    "\n",
    ">>> card2 = PlayingCard(\"10\", \"bunnies\")\n",
    "< error stack >\n",
    "TypeError: Invalid suit!\n",
    "\n",
    ">>> deck1 = Deck()\n",
    ">>> print(deck1.cards)\n",
    "[K of ♠, A of ♥, 6 of ♣, 7 of ♠, J of ♦, 6 of ♠, Q of ♦, 5 of ♣, 10 of ♦, 2 of ♥, 8 of ♣, 8 of ♦, 4 of ♦, 7 of ♦, 3 of ♣, K of ♣, 9 of ♠, 4 of ♥, 10 of ♥, 10 of ♣, A of ♠, 9 of ♥, 7 of ♥, 9 of ♣, 7 of ♣, 5 of ♠, 3 of ♦, 10 of ♠, Q of ♥, J of ♣, 5 of ♥, K of ♥, K of ♦, 2 of ♠, 8 of ♠, Q of ♣, 3 of ♠, 6 of ♥, 6 of ♦, A of ♣, A of ♦, 3 of ♥, J of ♠, 4 of ♣, 5 of ♦, 2 of ♦, 4 of ♠, 2 of ♣, Q of ♠, J of ♥, 8 of ♥, 9 of ♦] \n",
    "\n",
    ">>> deck2 = Deck('♠')\n",
    ">>> deck2.shuffle_deck()\n",
    ">>> deck2.cards\n",
    "[A of ♠, 10 of ♠, 3 of ♠, 7 of ♠, 5 of ♠, 4 of ♠, 8 of ♠, J of ♠, 9 of ♠, Q of ♠, 6 of ♠, 2 of ♠, K of ♠]\n",
    "\n",
    ">>> hand = deck2.deal_card(7)\n",
    ">>> hand\n",
    "[A of ♠, 10 of ♠, 3 of ♠, 7 of ♠, 5 of ♠, 4 of ♠, 8 of ♠]\n",
    "\n",
    ">>> deck2.deal_card(7)\n",
    "'Cannot deal 7 cards. The deck only has 6 cards left!'\n",
    "```"
   ]
  },
  {
   "cell_type": "code",
   "execution_count": 50,
   "id": "755b576b",
   "metadata": {},
   "outputs": [],
   "source": [
    "# Q7-1 Grading Tag:\n",
    "from itertools import product\n",
    "import random\n",
    "\n",
    "\n",
    "class PlayingCard:\n",
    "    def __init__(self, rank, suit):\n",
    "        ranks = [\"2\", \"3\", \"4\", \"5\", \"6\", \"7\", \"8\", \"9\", \"10\", \"J\", \"Q\", \"K\", \"A\"]\n",
    "        suits = [\"♠\", \"♥\", \"♦\", \"♣\"]\n",
    "        \n",
    "        if not isinstance(rank, str) or rank not in ranks:\n",
    "            raise TypeError(\"Invalid rank!\")\n",
    "        if not isinstance(suit, str) or suit not in suits:\n",
    "            raise TypeError(\"Invalid suit!\")\n",
    "            \n",
    "        self.rank = rank\n",
    "        self.suit = suit\n",
    "        \n",
    "    def __str__(self):\n",
    "        return f\"{self.rank} of {self.suit}\"\n",
    "        \n",
    "    def __repr__(self):\n",
    "        return f\"{self.rank} of {self.suit}\"\n",
    "\n",
    "class Deck:\n",
    "    def __init__(self, deck_suit=None):\n",
    "        ranks = [\"2\", \"3\", \"4\", \"5\", \"6\", \"7\", \"8\", \"9\", \"10\", \"J\", \"Q\", \"K\", \"A\"]\n",
    "        suits = [\"♠\", \"♥\", \"♦\", \"♣\"]\n",
    "\n",
    "        if deck_suit is None:\n",
    "            deck_suit = suits\n",
    "\n",
    "        if any(not isinstance(suit, str) for suit in deck_suit) or any(suit not in suits for suit in deck_suit):\n",
    "                raise TypeError(\"Invalid suit!\")    \n",
    "\n",
    "        self.cards = [PlayingCard(rank, suit) for rank, suit in list(product(ranks, deck_suit))]\n",
    "    \n",
    "    def __str__(self):\n",
    "        return str(self.cards)\n",
    "        \n",
    "    def __repr__(self):\n",
    "        return str(self.cards)\n",
    "\n",
    "    def shuffle_deck(self):\n",
    "        \"\"\"\n",
    "        Method that randomly changes the order of cards in the deck\n",
    "        \"\"\"\n",
    "        random.shuffle(self.cards)\n",
    "\n",
    "        return self.cards\n",
    "\n",
    "    def deal_card(self, card_count):\n",
    "        if len(self.cards) < card_count:\n",
    "            return f\"Cannot deal {card_count} cards. The deck only has {len(self.cards)} cards left!\"\n",
    "        \n",
    "        cards_to_deal = self.cards[:card_count]\n",
    "        del self.cards[:card_count]\n",
    "        \n",
    "        return cards_to_deal"
   ]
  },
  {
   "cell_type": "code",
   "execution_count": 49,
   "id": "2af41bb9",
   "metadata": {},
   "outputs": [
    {
     "name": "stdout",
     "output_type": "stream",
     "text": [
      "['c']\n"
     ]
    }
   ],
   "source": [
    "this = [\"a\", \"b\", \"c\"]\n",
    "del this[:2]\n",
    "print(this)"
   ]
  },
  {
   "cell_type": "code",
   "execution_count": 24,
   "id": "03a41019",
   "metadata": {},
   "outputs": [
    {
     "name": "stdout",
     "output_type": "stream",
     "text": [
      "A of ♠\n"
     ]
    }
   ],
   "source": [
    "card1 = PlayingCard(\"A\", \"♠\")\n",
    "print(card1)"
   ]
  },
  {
   "cell_type": "code",
   "execution_count": 8,
   "id": "d87e4239",
   "metadata": {},
   "outputs": [
    {
     "ename": "TypeError",
     "evalue": "Invalid rank!",
     "output_type": "error",
     "traceback": [
      "\u001b[0;31m---------------------------------------------------------------------------\u001b[0m",
      "\u001b[0;31mTypeError\u001b[0m                                 Traceback (most recent call last)",
      "\u001b[0;32m<ipython-input-8-881707090d91>\u001b[0m in \u001b[0;36m<module>\u001b[0;34m\u001b[0m\n\u001b[0;32m----> 1\u001b[0;31m \u001b[0mcard2\u001b[0m \u001b[0;34m=\u001b[0m \u001b[0mPlayingCard\u001b[0m\u001b[0;34m(\u001b[0m\u001b[0;34m\"15\"\u001b[0m\u001b[0;34m,\u001b[0m \u001b[0;34m\"♠\"\u001b[0m\u001b[0;34m)\u001b[0m\u001b[0;34m\u001b[0m\u001b[0;34m\u001b[0m\u001b[0m\n\u001b[0m",
      "\u001b[0;32m<ipython-input-5-de58a42f8e13>\u001b[0m in \u001b[0;36m__init__\u001b[0;34m(self, rank, suit)\u001b[0m\n\u001b[1;32m      5\u001b[0m         \u001b[0msuits\u001b[0m \u001b[0;34m=\u001b[0m \u001b[0;34m[\u001b[0m\u001b[0;34m\"♠\"\u001b[0m\u001b[0;34m,\u001b[0m \u001b[0;34m\"♥\"\u001b[0m\u001b[0;34m,\u001b[0m \u001b[0;34m\"♦\"\u001b[0m\u001b[0;34m,\u001b[0m \u001b[0;34m\"♣\"\u001b[0m\u001b[0;34m]\u001b[0m\u001b[0;34m\u001b[0m\u001b[0;34m\u001b[0m\u001b[0m\n\u001b[1;32m      6\u001b[0m         \u001b[0;32mif\u001b[0m \u001b[0;32mnot\u001b[0m \u001b[0misinstance\u001b[0m\u001b[0;34m(\u001b[0m\u001b[0mrank\u001b[0m\u001b[0;34m,\u001b[0m \u001b[0mstr\u001b[0m\u001b[0;34m)\u001b[0m \u001b[0;32mor\u001b[0m \u001b[0mrank\u001b[0m \u001b[0;32mnot\u001b[0m \u001b[0;32min\u001b[0m \u001b[0mranks\u001b[0m\u001b[0;34m:\u001b[0m\u001b[0;34m\u001b[0m\u001b[0;34m\u001b[0m\u001b[0m\n\u001b[0;32m----> 7\u001b[0;31m             \u001b[0;32mraise\u001b[0m \u001b[0mTypeError\u001b[0m\u001b[0;34m(\u001b[0m\u001b[0;34m\"Invalid rank!\"\u001b[0m\u001b[0;34m)\u001b[0m\u001b[0;34m\u001b[0m\u001b[0;34m\u001b[0m\u001b[0m\n\u001b[0m\u001b[1;32m      8\u001b[0m         \u001b[0;32mif\u001b[0m \u001b[0;32mnot\u001b[0m \u001b[0misinstance\u001b[0m\u001b[0;34m(\u001b[0m\u001b[0msuit\u001b[0m\u001b[0;34m,\u001b[0m \u001b[0mstr\u001b[0m\u001b[0;34m)\u001b[0m \u001b[0;32mor\u001b[0m \u001b[0msuit\u001b[0m \u001b[0;32mnot\u001b[0m \u001b[0;32min\u001b[0m \u001b[0msuits\u001b[0m\u001b[0;34m:\u001b[0m\u001b[0;34m\u001b[0m\u001b[0;34m\u001b[0m\u001b[0m\n\u001b[1;32m      9\u001b[0m             \u001b[0;32mraise\u001b[0m \u001b[0mTypeError\u001b[0m\u001b[0;34m(\u001b[0m\u001b[0;34m\"Invalid suit!\"\u001b[0m\u001b[0;34m)\u001b[0m\u001b[0;34m\u001b[0m\u001b[0;34m\u001b[0m\u001b[0m\n",
      "\u001b[0;31mTypeError\u001b[0m: Invalid rank!"
     ]
    }
   ],
   "source": [
    "card2 = PlayingCard(\"15\", \"♠\")"
   ]
  },
  {
   "cell_type": "code",
   "execution_count": 9,
   "id": "5b7aa581",
   "metadata": {},
   "outputs": [
    {
     "ename": "TypeError",
     "evalue": "Invalid suit!",
     "output_type": "error",
     "traceback": [
      "\u001b[0;31m---------------------------------------------------------------------------\u001b[0m",
      "\u001b[0;31mTypeError\u001b[0m                                 Traceback (most recent call last)",
      "\u001b[0;32m<ipython-input-9-813a3aa99920>\u001b[0m in \u001b[0;36m<module>\u001b[0;34m\u001b[0m\n\u001b[0;32m----> 1\u001b[0;31m \u001b[0mcard2\u001b[0m \u001b[0;34m=\u001b[0m \u001b[0mPlayingCard\u001b[0m\u001b[0;34m(\u001b[0m\u001b[0;34m\"10\"\u001b[0m\u001b[0;34m,\u001b[0m \u001b[0;34m\"bunnies\"\u001b[0m\u001b[0;34m)\u001b[0m\u001b[0;34m\u001b[0m\u001b[0;34m\u001b[0m\u001b[0m\n\u001b[0m",
      "\u001b[0;32m<ipython-input-5-de58a42f8e13>\u001b[0m in \u001b[0;36m__init__\u001b[0;34m(self, rank, suit)\u001b[0m\n\u001b[1;32m      7\u001b[0m             \u001b[0;32mraise\u001b[0m \u001b[0mTypeError\u001b[0m\u001b[0;34m(\u001b[0m\u001b[0;34m\"Invalid rank!\"\u001b[0m\u001b[0;34m)\u001b[0m\u001b[0;34m\u001b[0m\u001b[0;34m\u001b[0m\u001b[0m\n\u001b[1;32m      8\u001b[0m         \u001b[0;32mif\u001b[0m \u001b[0;32mnot\u001b[0m \u001b[0misinstance\u001b[0m\u001b[0;34m(\u001b[0m\u001b[0msuit\u001b[0m\u001b[0;34m,\u001b[0m \u001b[0mstr\u001b[0m\u001b[0;34m)\u001b[0m \u001b[0;32mor\u001b[0m \u001b[0msuit\u001b[0m \u001b[0;32mnot\u001b[0m \u001b[0;32min\u001b[0m \u001b[0msuits\u001b[0m\u001b[0;34m:\u001b[0m\u001b[0;34m\u001b[0m\u001b[0;34m\u001b[0m\u001b[0m\n\u001b[0;32m----> 9\u001b[0;31m             \u001b[0;32mraise\u001b[0m \u001b[0mTypeError\u001b[0m\u001b[0;34m(\u001b[0m\u001b[0;34m\"Invalid suit!\"\u001b[0m\u001b[0;34m)\u001b[0m\u001b[0;34m\u001b[0m\u001b[0;34m\u001b[0m\u001b[0m\n\u001b[0m\u001b[1;32m     10\u001b[0m         \u001b[0mself\u001b[0m\u001b[0;34m.\u001b[0m\u001b[0mrank\u001b[0m \u001b[0;34m=\u001b[0m \u001b[0mrank\u001b[0m\u001b[0;34m\u001b[0m\u001b[0;34m\u001b[0m\u001b[0m\n\u001b[1;32m     11\u001b[0m         \u001b[0mself\u001b[0m\u001b[0;34m.\u001b[0m\u001b[0msuit\u001b[0m \u001b[0;34m=\u001b[0m \u001b[0msuit\u001b[0m\u001b[0;34m\u001b[0m\u001b[0;34m\u001b[0m\u001b[0m\n",
      "\u001b[0;31mTypeError\u001b[0m: Invalid suit!"
     ]
    }
   ],
   "source": [
    "card2 = PlayingCard(\"10\", \"bunnies\")"
   ]
  },
  {
   "cell_type": "code",
   "execution_count": 32,
   "id": "c78b25a1",
   "metadata": {},
   "outputs": [
    {
     "name": "stdout",
     "output_type": "stream",
     "text": [
      "[2 of ♠, 2 of ♥, 2 of ♦, 2 of ♣, 3 of ♠, 3 of ♥, 3 of ♦, 3 of ♣, 4 of ♠, 4 of ♥, 4 of ♦, 4 of ♣, 5 of ♠, 5 of ♥, 5 of ♦, 5 of ♣, 6 of ♠, 6 of ♥, 6 of ♦, 6 of ♣, 7 of ♠, 7 of ♥, 7 of ♦, 7 of ♣, 8 of ♠, 8 of ♥, 8 of ♦, 8 of ♣, 9 of ♠, 9 of ♥, 9 of ♦, 9 of ♣, 10 of ♠, 10 of ♥, 10 of ♦, 10 of ♣, J of ♠, J of ♥, J of ♦, J of ♣, Q of ♠, Q of ♥, Q of ♦, Q of ♣, K of ♠, K of ♥, K of ♦, K of ♣, A of ♠, A of ♥, A of ♦, A of ♣]\n"
     ]
    }
   ],
   "source": [
    "deck1 = Deck()\n",
    "print(deck1)"
   ]
  },
  {
   "cell_type": "code",
   "execution_count": 53,
   "id": "0ea4a8f7",
   "metadata": {},
   "outputs": [
    {
     "data": {
      "text/plain": [
       "[Q of ♠,\n",
       " 9 of ♠,\n",
       " K of ♠,\n",
       " 2 of ♠,\n",
       " 8 of ♠,\n",
       " 10 of ♠,\n",
       " 5 of ♠,\n",
       " 6 of ♠,\n",
       " J of ♠,\n",
       " A of ♠,\n",
       " 7 of ♠,\n",
       " 4 of ♠,\n",
       " 3 of ♠]"
      ]
     },
     "execution_count": 53,
     "metadata": {},
     "output_type": "execute_result"
    }
   ],
   "source": [
    "deck2 = Deck('♠')\n",
    "deck2.shuffle_deck()\n",
    "deck2.cards"
   ]
  },
  {
   "cell_type": "code",
   "execution_count": 54,
   "id": "005b138e",
   "metadata": {},
   "outputs": [
    {
     "data": {
      "text/plain": [
       "[Q of ♠, 9 of ♠, K of ♠, 2 of ♠, 8 of ♠, 10 of ♠, 5 of ♠]"
      ]
     },
     "execution_count": 54,
     "metadata": {},
     "output_type": "execute_result"
    }
   ],
   "source": [
    "hand = deck2.deal_card(7)\n",
    "hand"
   ]
  },
  {
   "cell_type": "code",
   "execution_count": 55,
   "id": "f4b538c2",
   "metadata": {},
   "outputs": [
    {
     "data": {
      "text/plain": [
       "'Cannot deal 7 cards. The deck only has 6 cards left!'"
      ]
     },
     "execution_count": 55,
     "metadata": {},
     "output_type": "execute_result"
    }
   ],
   "source": [
    "deck2.deal_card(7)"
   ]
  },
  {
   "cell_type": "markdown",
   "id": "3428a122",
   "metadata": {},
   "source": [
    "## 7-2 Sorting Marbles (50 points)\n",
    "\n",
    "In a particular board game, there is exactly one row and it comprises N spaces, numbered 0 through N - 1 from left to right. There are also N marbles, numbered 0 through N - 1, initially placed in some arbitrary order. After that, there are two moves available that only can be done one at a time:\n",
    "\n",
    "- Switch: Switch the marbles in positions 0 and 1.\n",
    "- Rotate: Move the marble in position 0 to position N - 1, and move all other marbles one space to the left (one index lower).\n",
    "\n",
    "The objective is to arrange the marbles in order, with each marble i in position i.\n",
    "\n",
    "1\\. Write a class, **MarblesBoard**, to represent the game above. (25 points) \n",
    "- Write an `__init__` function that takes a starting sequence of marbles (the number of each marble listed in the positions from 0 to N - 1). (Notice in the sequence all the marbles are different numbers and are sequential numbered but not in order!)\n",
    "- Next, write `switch()` and `rotate()` methods to simulate the player's moves as described above. \n",
    "- Write a method, `is_solved()`, that returns True if the marbles are in the correct order or False otherwise.\n",
    "- Additionally, write `__str__` and `__repr__` methods to display the current state of the board. \n",
    "\n",
    "Your class should behave like the following example:\n",
    "```\n",
    ">>> board = MarblesBoard((3,6,7,4,1,0,8,2,5)) \n",
    ">>> board \n",
    "3 6 7 4 1 0 8 2 5 \n",
    ">>> board.switch() \n",
    ">>> board \n",
    "6 3 7 4 1 0 8 2 5 \n",
    ">>> board.rotate() \n",
    ">>> board \n",
    "3 7 4 1 0 8 2 5 6 \n",
    ">>> board.switch() \n",
    ">>> board \n",
    "7 3 4 1 0 8 2 5 6\n",
    "```\n",
    "\n",
    "2\\. Write a second class, **Solver**, that actually plays the MarblesGame. (25 points)\n",
    "- Write an `__init__` method that takes a MarblesBoard class in its initializer and stores it in an attribute: `board`. \n",
    "- Write a `solve()` method:\n",
    "  - Which repeatedly calls the switch() or the rotate() method of the given MarblesBoard until the game is solved. \n",
    "  - Before the first switch or rotate, make a **list** of **tuples** with the starting tuple of `('start', <board starting state>)`\n",
    "  - After each step ('switch' or 'rotate'), append to the  above **list** a tuple of: \n",
    "    - What step ('switch' or 'rotate') was performed. Remember, you can only do one switch or one rotate per step!\n",
    "    - The state of the board \n",
    "  - Return the above list as output to this method.\n",
    "  - You are to come up with your own algorithm for solving the marbles game. Before you write your solve() method, you may want to practice solving some small versions of the marbles game yourself.\n",
    "  - Your Solver should strive to make the algorithm reasonably efficient and strive to be the fastest runtime. (10 points are awarded based on algorithm efficiency)\n",
    "\n",
    "Below is an example:\n",
    "```\n",
    ">>> board2 = MarblesBoard((1,3,0,2))\n",
    ">>> solver = Solver(board2)\n",
    ">>> solver.solve()\n",
    "[('start', 1 3 0 2),\n",
    " ('rotate', 3 0 2 1),\n",
    " ('rotate', 0 2 1 3),\n",
    " ('rotate', 2 1 3 0),\n",
    " ('switch', 1 2 3 0),\n",
    " ('rotate', 2 3 0 1),\n",
    " ('rotate', 3 0 1 2),\n",
    " ('rotate', 0 1 2 3)]\n",
    "```\n",
    "\n",
    "You may be interested to know that your program is a variation of a well-known sorting algorithm called bubble sort. Bubble sort would normally be used on a list of items, not on a rotating track, but adapting your algorithm to this setting could be straight-forward."
   ]
  },
  {
   "cell_type": "code",
   "execution_count": 585,
   "id": "1c9ee04d",
   "metadata": {},
   "outputs": [],
   "source": [
    "# Q7-2 Grading Tag:\n",
    "class MarblesBoard:\n",
    "    def __init__(self, marbles_sequence):\n",
    "        self.marbles_sequence = marbles_sequence\n",
    "        \n",
    "    def switch(self):\n",
    "        marbles_list = list(self.marbles_sequence)\n",
    "        marbles_list[0], marbles_list[1] = marbles_list[1], marbles_list[0]\n",
    "        self.marbles_sequence = marbles_list\n",
    "        return\n",
    "    \n",
    "    def rotate(self):\n",
    "        marbles_list = list(self.marbles_sequence)\n",
    "        # Move the marble in position 0 to position N - 1\n",
    "        # capture the last marble\n",
    "        marbles_list[len(marbles_list) - 1], last_marble = marbles_list[0], marbles_list[len(marbles_list) - 1]\n",
    "        \n",
    "        # and move all other marbles one space to the left (one index lower).\n",
    "        for idx, marble in enumerate(marbles_list):\n",
    "            if idx == len(marbles_list) - 1:\n",
    "                break\n",
    "            elif idx == len(marbles_list) - 2:\n",
    "                marbles_list[idx] = last_marble\n",
    "            else:\n",
    "                marbles_list[idx] = marbles_list[idx + 1]\n",
    "            \n",
    "        self.marbles_sequence = marbles_list\n",
    "        return\n",
    "    \n",
    "    def is_solved(self):\n",
    "        for i in range(0, len(self.marbles_sequence) - 1):\n",
    "            if self.marbles_sequence[i] > self.marbles_sequence[i + 1]:\n",
    "                return False\n",
    "        return True\n",
    "\n",
    "    def __str__(self):\n",
    "        return (' '.join(str(e) for e in self.marbles_sequence))\n",
    "        \n",
    "    def __repr__(self):\n",
    "        return (' '.join(str(e) for e in self.marbles_sequence))\n",
    "    \n",
    "class Solver:\n",
    "    def __init__(self, board):\n",
    "        self.board = board\n",
    "        self.steps = []\n",
    "        \n",
    "    def solve(self):\n",
    "        # get the min\n",
    "        min_marble = min(self.board.marbles_sequence)\n",
    "        max_marble = max(self.board.marbles_sequence)\n",
    "        self.steps.append(('start', repr(self.board)))\n",
    "        true_order_counter = 0\n",
    "        \n",
    "        while true_order_counter < len(self.board.marbles_sequence):\n",
    "        \n",
    "            current_marble = self.board.marbles_sequence[0]\n",
    "            next_marble = self.board.marbles_sequence[1]\n",
    "\n",
    "            if current_marble > next_marble and current_marble != max_marble:\n",
    "                true_order_counter = 0\n",
    "                self.board.switch()\n",
    "                self.steps.append(('switch', repr(self.board)))\n",
    "                if self.board.is_solved():\n",
    "                    break\n",
    "                self.board.rotate()\n",
    "                self.steps.append(('rotate', repr(self.board)))\n",
    "                if self.board.is_solved():\n",
    "                    break\n",
    "            else:\n",
    "                true_order_counter += 1\n",
    "                self.board.rotate()\n",
    "                self.steps.append(('rotate', repr(self.board)))\n",
    "                if self.board.is_solved():\n",
    "                    break\n",
    "                \n",
    "                \n",
    "        # order the sequence\n",
    "        while True:\n",
    "            if self.board.marbles_sequence[0] == min_marble:\n",
    "                break\n",
    "            else:\n",
    "                self.board.rotate()\n",
    "                self.steps.append(('rotate', repr(self.board)))\n",
    "            \n",
    "        return self.steps\n",
    "    \n"
   ]
  },
  {
   "cell_type": "code",
   "execution_count": 570,
   "id": "b4093546",
   "metadata": {},
   "outputs": [
    {
     "data": {
      "text/plain": [
       "3 6 7 4 1 0 8 2 5"
      ]
     },
     "execution_count": 570,
     "metadata": {},
     "output_type": "execute_result"
    }
   ],
   "source": [
    "board = MarblesBoard((3,6,7,4,1,0,8,2,5)) \n",
    "board "
   ]
  },
  {
   "cell_type": "code",
   "execution_count": 571,
   "id": "764b4d17",
   "metadata": {},
   "outputs": [
    {
     "data": {
      "text/plain": [
       "6 3 7 4 1 0 8 2 5"
      ]
     },
     "execution_count": 571,
     "metadata": {},
     "output_type": "execute_result"
    }
   ],
   "source": [
    "board.switch()\n",
    "board"
   ]
  },
  {
   "cell_type": "code",
   "execution_count": 572,
   "id": "e73c7dd9",
   "metadata": {},
   "outputs": [
    {
     "data": {
      "text/plain": [
       "3 7 4 1 0 8 2 5 6"
      ]
     },
     "execution_count": 572,
     "metadata": {},
     "output_type": "execute_result"
    }
   ],
   "source": [
    "board.rotate()\n",
    "board"
   ]
  },
  {
   "cell_type": "code",
   "execution_count": 573,
   "id": "bdc0b01e",
   "metadata": {},
   "outputs": [],
   "source": [
    "board2 = MarblesBoard((1,3,0,2))"
   ]
  },
  {
   "cell_type": "code",
   "execution_count": 574,
   "id": "30d19f0e",
   "metadata": {},
   "outputs": [],
   "source": [
    "solver = Solver(board2)"
   ]
  },
  {
   "cell_type": "code",
   "execution_count": 575,
   "id": "e56b7aa1",
   "metadata": {},
   "outputs": [
    {
     "data": {
      "text/plain": [
       "[('start', '1 3 0 2'),\n",
       " ('rotate', '3 0 2 1'),\n",
       " ('rotate', '0 2 1 3'),\n",
       " ('rotate', '2 1 3 0'),\n",
       " ('switch', '1 2 3 0'),\n",
       " ('rotate', '2 3 0 1'),\n",
       " ('rotate', '3 0 1 2'),\n",
       " ('rotate', '0 1 2 3'),\n",
       " ('rotate', '1 2 3 0'),\n",
       " ('rotate', '2 3 0 1'),\n",
       " ('rotate', '3 0 1 2'),\n",
       " ('rotate', '0 1 2 3')]"
      ]
     },
     "execution_count": 575,
     "metadata": {},
     "output_type": "execute_result"
    }
   ],
   "source": [
    "solver.solve()"
   ]
  },
  {
   "cell_type": "code",
   "execution_count": 564,
   "id": "8abafb86",
   "metadata": {},
   "outputs": [
    {
     "data": {
      "text/plain": [
       "True"
      ]
     },
     "execution_count": 564,
     "metadata": {},
     "output_type": "execute_result"
    }
   ],
   "source": [
    "solver.is_solved()"
   ]
  },
  {
   "cell_type": "code",
   "execution_count": 582,
   "id": "eda14c1e",
   "metadata": {},
   "outputs": [
    {
     "data": {
      "text/plain": [
       "True"
      ]
     },
     "execution_count": 582,
     "metadata": {},
     "output_type": "execute_result"
    }
   ],
   "source": [
    "MarblesBoard((0,1,2,3)).is_solved()"
   ]
  },
  {
   "cell_type": "code",
   "execution_count": 587,
   "id": "daccdc1b",
   "metadata": {},
   "outputs": [
    {
     "data": {
      "text/plain": [
       "[('start', '1 3 0 2'),\n",
       " ('rotate', '3 0 2 1'),\n",
       " ('rotate', '0 2 1 3'),\n",
       " ('rotate', '2 1 3 0'),\n",
       " ('switch', '1 2 3 0'),\n",
       " ('rotate', '2 3 0 1'),\n",
       " ('rotate', '3 0 1 2'),\n",
       " ('rotate', '0 1 2 3')]"
      ]
     },
     "execution_count": 587,
     "metadata": {},
     "output_type": "execute_result"
    }
   ],
   "source": [
    "Solver(MarblesBoard((1,3,0,2))).solve()"
   ]
  },
  {
   "cell_type": "code",
   "execution_count": 588,
   "id": "758c5721",
   "metadata": {},
   "outputs": [
    {
     "data": {
      "text/plain": [
       "15"
      ]
     },
     "execution_count": 588,
     "metadata": {},
     "output_type": "execute_result"
    }
   ],
   "source": [
    "len(Solver(MarblesBoard((1,3,2,0,4))).solve())"
   ]
  },
  {
   "cell_type": "code",
   "execution_count": null,
   "id": "dbd167d3",
   "metadata": {},
   "outputs": [],
   "source": []
  }
 ],
 "metadata": {
  "kernelspec": {
   "display_name": "Python 3",
   "language": "python",
   "name": "python3"
  },
  "language_info": {
   "codemirror_mode": {
    "name": "ipython",
    "version": 3
   },
   "file_extension": ".py",
   "mimetype": "text/x-python",
   "name": "python",
   "nbconvert_exporter": "python",
   "pygments_lexer": "ipython3",
   "version": "3.8.8"
  }
 },
 "nbformat": 4,
 "nbformat_minor": 5
}
