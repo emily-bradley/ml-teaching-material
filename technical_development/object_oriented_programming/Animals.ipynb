{
 "cells": [
  {
   "cell_type": "markdown",
   "metadata": {},
   "source": [
    "# Animals\n",
    "\n",
    "Let's have some fun with object oriented programming!\n",
    "\n",
    "For the first half of this activity, we'll give you some code.  Please review this workbook as a team and discuss each module.  Please actually discuss each line and why it is set up the way it is.\n",
    "\n",
    "Let's start with a simple base class Pet and subclasses Cat and Dog:\n"
   ]
  },
  {
   "cell_type": "code",
   "execution_count": 2,
   "metadata": {},
   "outputs": [],
   "source": [
    "from IPython.display import Image, display"
   ]
  },
  {
   "cell_type": "markdown",
   "metadata": {},
   "source": [
    "## define the base class"
   ]
  },
  {
   "cell_type": "code",
   "execution_count": 3,
   "metadata": {},
   "outputs": [],
   "source": [
    "class Pet():\n",
    "    \n",
    "    def __init__(self, name):\n",
    "        self.name = name\n",
    "        self.owner = None\n",
    "        self.image_path = None\n",
    "        self.noise = None\n",
    "        \n",
    "    def display_image(self):\n",
    "        if self.image_path is not None:\n",
    "            display(Image(filename=self.image_path))\n",
    "            \n",
    "    def make_noise(self):\n",
    "        if self.noise is not None:\n",
    "            print(self.noise)"
   ]
  },
  {
   "cell_type": "markdown",
   "metadata": {},
   "source": [
    "## define the subclasses\n",
    "\n",
    "Please discuss as a team how inheritence works in the sample codes below.  Specifically:\n",
    "- Why do we use Pet., self., and Dog. in different places?"
   ]
  },
  {
   "cell_type": "code",
   "execution_count": 4,
   "metadata": {},
   "outputs": [],
   "source": [
    "class Dog(Pet):\n",
    "    \n",
    "    count = 0 # class variable to keep track of how many dogs we have\n",
    "    \n",
    "    def __init__(self, name, breed):\n",
    "        Pet.__init__(self,name)\n",
    "        self.breed = breed\n",
    "        Dog.count += 1\n",
    "        self.noise = \"woof woof\" # generic dog noise\n",
    "        "
   ]
  },
  {
   "cell_type": "code",
   "execution_count": 5,
   "metadata": {},
   "outputs": [],
   "source": [
    "class Cat(Pet):\n",
    "    \n",
    "    count = 0\n",
    "    \n",
    "    def __init__(self, name, breed):\n",
    "        Pet.__init__(self,name)\n",
    "        self.breed = breed\n",
    "        Cat.count += 1\n",
    "        self.noise = \"meow\" # generic cat noise\n",
    "    \n"
   ]
  },
  {
   "cell_type": "markdown",
   "metadata": {},
   "source": [
    "## create some instances of our subclasses\n",
    "\n",
    "Let's build some pets!\n",
    "\n",
    "Notice how we never actually create an instance of the base class."
   ]
  },
  {
   "cell_type": "code",
   "execution_count": 6,
   "metadata": {},
   "outputs": [
    {
     "ename": "FileNotFoundError",
     "evalue": "[Errno 2] No such file or directory: 'muttley.jpg'",
     "output_type": "error",
     "traceback": [
      "\u001b[0;31m---------------------------------------------------------------------------\u001b[0m",
      "\u001b[0;31mFileNotFoundError\u001b[0m                         Traceback (most recent call last)",
      "\u001b[0;32m<ipython-input-6-ef31a07c4338>\u001b[0m in \u001b[0;36m<module>\u001b[0;34m\u001b[0m\n\u001b[1;32m      3\u001b[0m \u001b[0md\u001b[0m\u001b[0;34m.\u001b[0m\u001b[0mowner\u001b[0m \u001b[0;34m=\u001b[0m \u001b[0;34m'Dick Dastardly'\u001b[0m\u001b[0;34m\u001b[0m\u001b[0;34m\u001b[0m\u001b[0m\n\u001b[1;32m      4\u001b[0m \u001b[0md\u001b[0m\u001b[0;34m.\u001b[0m\u001b[0mimage_path\u001b[0m \u001b[0;34m=\u001b[0m \u001b[0;34m'muttley.jpg'\u001b[0m\u001b[0;34m\u001b[0m\u001b[0;34m\u001b[0m\u001b[0m\n\u001b[0;32m----> 5\u001b[0;31m \u001b[0md\u001b[0m\u001b[0;34m.\u001b[0m\u001b[0mdisplay_image\u001b[0m\u001b[0;34m(\u001b[0m\u001b[0;34m)\u001b[0m\u001b[0;34m\u001b[0m\u001b[0;34m\u001b[0m\u001b[0m\n\u001b[0m\u001b[1;32m      6\u001b[0m \u001b[0md\u001b[0m\u001b[0;34m.\u001b[0m\u001b[0mmake_noise\u001b[0m\u001b[0;34m(\u001b[0m\u001b[0;34m)\u001b[0m\u001b[0;34m\u001b[0m\u001b[0;34m\u001b[0m\u001b[0m\n",
      "\u001b[0;32m<ipython-input-3-396f0e42b724>\u001b[0m in \u001b[0;36mdisplay_image\u001b[0;34m(self)\u001b[0m\n\u001b[1;32m      9\u001b[0m     \u001b[0;32mdef\u001b[0m \u001b[0mdisplay_image\u001b[0m\u001b[0;34m(\u001b[0m\u001b[0mself\u001b[0m\u001b[0;34m)\u001b[0m\u001b[0;34m:\u001b[0m\u001b[0;34m\u001b[0m\u001b[0;34m\u001b[0m\u001b[0m\n\u001b[1;32m     10\u001b[0m         \u001b[0;32mif\u001b[0m \u001b[0mself\u001b[0m\u001b[0;34m.\u001b[0m\u001b[0mimage_path\u001b[0m \u001b[0;32mis\u001b[0m \u001b[0;32mnot\u001b[0m \u001b[0;32mNone\u001b[0m\u001b[0;34m:\u001b[0m\u001b[0;34m\u001b[0m\u001b[0;34m\u001b[0m\u001b[0m\n\u001b[0;32m---> 11\u001b[0;31m             \u001b[0mdisplay\u001b[0m\u001b[0;34m(\u001b[0m\u001b[0mImage\u001b[0m\u001b[0;34m(\u001b[0m\u001b[0mfilename\u001b[0m\u001b[0;34m=\u001b[0m\u001b[0mself\u001b[0m\u001b[0;34m.\u001b[0m\u001b[0mimage_path\u001b[0m\u001b[0;34m)\u001b[0m\u001b[0;34m)\u001b[0m\u001b[0;34m\u001b[0m\u001b[0;34m\u001b[0m\u001b[0m\n\u001b[0m\u001b[1;32m     12\u001b[0m \u001b[0;34m\u001b[0m\u001b[0m\n\u001b[1;32m     13\u001b[0m     \u001b[0;32mdef\u001b[0m \u001b[0mmake_noise\u001b[0m\u001b[0;34m(\u001b[0m\u001b[0mself\u001b[0m\u001b[0;34m)\u001b[0m\u001b[0;34m:\u001b[0m\u001b[0;34m\u001b[0m\u001b[0;34m\u001b[0m\u001b[0m\n",
      "\u001b[0;32m~/opt/anaconda3/lib/python3.8/site-packages/IPython/core/display.py\u001b[0m in \u001b[0;36m__init__\u001b[0;34m(self, data, url, filename, format, embed, width, height, retina, unconfined, metadata)\u001b[0m\n\u001b[1;32m   1222\u001b[0m         \u001b[0mself\u001b[0m\u001b[0;34m.\u001b[0m\u001b[0mretina\u001b[0m \u001b[0;34m=\u001b[0m \u001b[0mretina\u001b[0m\u001b[0;34m\u001b[0m\u001b[0;34m\u001b[0m\u001b[0m\n\u001b[1;32m   1223\u001b[0m         \u001b[0mself\u001b[0m\u001b[0;34m.\u001b[0m\u001b[0munconfined\u001b[0m \u001b[0;34m=\u001b[0m \u001b[0munconfined\u001b[0m\u001b[0;34m\u001b[0m\u001b[0;34m\u001b[0m\u001b[0m\n\u001b[0;32m-> 1224\u001b[0;31m         super(Image, self).__init__(data=data, url=url, filename=filename, \n\u001b[0m\u001b[1;32m   1225\u001b[0m                 metadata=metadata)\n\u001b[1;32m   1226\u001b[0m \u001b[0;34m\u001b[0m\u001b[0m\n",
      "\u001b[0;32m~/opt/anaconda3/lib/python3.8/site-packages/IPython/core/display.py\u001b[0m in \u001b[0;36m__init__\u001b[0;34m(self, data, url, filename, metadata)\u001b[0m\n\u001b[1;32m    628\u001b[0m             \u001b[0mself\u001b[0m\u001b[0;34m.\u001b[0m\u001b[0mmetadata\u001b[0m \u001b[0;34m=\u001b[0m \u001b[0;34m{\u001b[0m\u001b[0;34m}\u001b[0m\u001b[0;34m\u001b[0m\u001b[0;34m\u001b[0m\u001b[0m\n\u001b[1;32m    629\u001b[0m \u001b[0;34m\u001b[0m\u001b[0m\n\u001b[0;32m--> 630\u001b[0;31m         \u001b[0mself\u001b[0m\u001b[0;34m.\u001b[0m\u001b[0mreload\u001b[0m\u001b[0;34m(\u001b[0m\u001b[0;34m)\u001b[0m\u001b[0;34m\u001b[0m\u001b[0;34m\u001b[0m\u001b[0m\n\u001b[0m\u001b[1;32m    631\u001b[0m         \u001b[0mself\u001b[0m\u001b[0;34m.\u001b[0m\u001b[0m_check_data\u001b[0m\u001b[0;34m(\u001b[0m\u001b[0;34m)\u001b[0m\u001b[0;34m\u001b[0m\u001b[0;34m\u001b[0m\u001b[0m\n\u001b[1;32m    632\u001b[0m \u001b[0;34m\u001b[0m\u001b[0m\n",
      "\u001b[0;32m~/opt/anaconda3/lib/python3.8/site-packages/IPython/core/display.py\u001b[0m in \u001b[0;36mreload\u001b[0;34m(self)\u001b[0m\n\u001b[1;32m   1254\u001b[0m         \u001b[0;34m\"\"\"Reload the raw data from file or URL.\"\"\"\u001b[0m\u001b[0;34m\u001b[0m\u001b[0;34m\u001b[0m\u001b[0m\n\u001b[1;32m   1255\u001b[0m         \u001b[0;32mif\u001b[0m \u001b[0mself\u001b[0m\u001b[0;34m.\u001b[0m\u001b[0membed\u001b[0m\u001b[0;34m:\u001b[0m\u001b[0;34m\u001b[0m\u001b[0;34m\u001b[0m\u001b[0m\n\u001b[0;32m-> 1256\u001b[0;31m             \u001b[0msuper\u001b[0m\u001b[0;34m(\u001b[0m\u001b[0mImage\u001b[0m\u001b[0;34m,\u001b[0m\u001b[0mself\u001b[0m\u001b[0;34m)\u001b[0m\u001b[0;34m.\u001b[0m\u001b[0mreload\u001b[0m\u001b[0;34m(\u001b[0m\u001b[0;34m)\u001b[0m\u001b[0;34m\u001b[0m\u001b[0;34m\u001b[0m\u001b[0m\n\u001b[0m\u001b[1;32m   1257\u001b[0m             \u001b[0;32mif\u001b[0m \u001b[0mself\u001b[0m\u001b[0;34m.\u001b[0m\u001b[0mretina\u001b[0m\u001b[0;34m:\u001b[0m\u001b[0;34m\u001b[0m\u001b[0;34m\u001b[0m\u001b[0m\n\u001b[1;32m   1258\u001b[0m                 \u001b[0mself\u001b[0m\u001b[0;34m.\u001b[0m\u001b[0m_retina_shape\u001b[0m\u001b[0;34m(\u001b[0m\u001b[0;34m)\u001b[0m\u001b[0;34m\u001b[0m\u001b[0;34m\u001b[0m\u001b[0m\n",
      "\u001b[0;32m~/opt/anaconda3/lib/python3.8/site-packages/IPython/core/display.py\u001b[0m in \u001b[0;36mreload\u001b[0;34m(self)\u001b[0m\n\u001b[1;32m    653\u001b[0m         \u001b[0;34m\"\"\"Reload the raw data from file or URL.\"\"\"\u001b[0m\u001b[0;34m\u001b[0m\u001b[0;34m\u001b[0m\u001b[0m\n\u001b[1;32m    654\u001b[0m         \u001b[0;32mif\u001b[0m \u001b[0mself\u001b[0m\u001b[0;34m.\u001b[0m\u001b[0mfilename\u001b[0m \u001b[0;32mis\u001b[0m \u001b[0;32mnot\u001b[0m \u001b[0;32mNone\u001b[0m\u001b[0;34m:\u001b[0m\u001b[0;34m\u001b[0m\u001b[0;34m\u001b[0m\u001b[0m\n\u001b[0;32m--> 655\u001b[0;31m             \u001b[0;32mwith\u001b[0m \u001b[0mopen\u001b[0m\u001b[0;34m(\u001b[0m\u001b[0mself\u001b[0m\u001b[0;34m.\u001b[0m\u001b[0mfilename\u001b[0m\u001b[0;34m,\u001b[0m \u001b[0mself\u001b[0m\u001b[0;34m.\u001b[0m\u001b[0m_read_flags\u001b[0m\u001b[0;34m)\u001b[0m \u001b[0;32mas\u001b[0m \u001b[0mf\u001b[0m\u001b[0;34m:\u001b[0m\u001b[0;34m\u001b[0m\u001b[0;34m\u001b[0m\u001b[0m\n\u001b[0m\u001b[1;32m    656\u001b[0m                 \u001b[0mself\u001b[0m\u001b[0;34m.\u001b[0m\u001b[0mdata\u001b[0m \u001b[0;34m=\u001b[0m \u001b[0mf\u001b[0m\u001b[0;34m.\u001b[0m\u001b[0mread\u001b[0m\u001b[0;34m(\u001b[0m\u001b[0;34m)\u001b[0m\u001b[0;34m\u001b[0m\u001b[0;34m\u001b[0m\u001b[0m\n\u001b[1;32m    657\u001b[0m         \u001b[0;32melif\u001b[0m \u001b[0mself\u001b[0m\u001b[0;34m.\u001b[0m\u001b[0murl\u001b[0m \u001b[0;32mis\u001b[0m \u001b[0;32mnot\u001b[0m \u001b[0;32mNone\u001b[0m\u001b[0;34m:\u001b[0m\u001b[0;34m\u001b[0m\u001b[0;34m\u001b[0m\u001b[0m\n",
      "\u001b[0;31mFileNotFoundError\u001b[0m: [Errno 2] No such file or directory: 'muttley.jpg'"
     ]
    }
   ],
   "source": [
    "# a new dog\n",
    "d = Dog('Muttley', 'mutt')\n",
    "d.owner = 'Dick Dastardly'\n",
    "d.image_path = 'muttley.jpg'\n",
    "d.display_image()\n",
    "d.make_noise()"
   ]
  },
  {
   "cell_type": "code",
   "execution_count": 7,
   "metadata": {},
   "outputs": [
    {
     "data": {
      "text/plain": [
       "{'name': 'Muttley',\n",
       " 'owner': 'Dick Dastardly',\n",
       " 'image_path': 'muttley.jpg',\n",
       " 'noise': 'woof woof',\n",
       " 'breed': 'mutt',\n",
       " 'color': 'brown'}"
      ]
     },
     "execution_count": 7,
     "metadata": {},
     "output_type": "execute_result"
    }
   ],
   "source": [
    "# it is possible put new member variable into the class .. but not recommended.\n",
    "d.color = 'brown'\n",
    "\n",
    "# you can see all the member variables this way\n",
    "d.__dict__"
   ]
  },
  {
   "cell_type": "code",
   "execution_count": 8,
   "metadata": {},
   "outputs": [
    {
     "name": "stdout",
     "output_type": "stream",
     "text": [
      "meow\n"
     ]
    }
   ],
   "source": [
    "# a new cat\n",
    "c = Cat('MAD', 'cartoon')\n",
    "c.owner = 'Dr Claw'\n",
    "# c.image_path = 'Doctor_Claw.jpg'\n",
    "c.display_image()\n",
    "c.make_noise()"
   ]
  },
  {
   "cell_type": "code",
   "execution_count": 9,
   "metadata": {},
   "outputs": [
    {
     "name": "stdout",
     "output_type": "stream",
     "text": [
      "scooby dooby dooooo\n"
     ]
    }
   ],
   "source": [
    "# another dog\n",
    "d2 = Dog('Scooby Doo', 'great dane')\n",
    "d2.owner = 'Shaggy'\n",
    "d2.image_path = 'scooby.png'\n",
    "# d2.display_image()\n",
    "d2.noise = \"scooby dooby dooooo\"\n",
    "d2.make_noise()"
   ]
  },
  {
   "cell_type": "markdown",
   "metadata": {},
   "source": [
    "### using static variables"
   ]
  },
  {
   "cell_type": "code",
   "execution_count": 10,
   "metadata": {},
   "outputs": [
    {
     "name": "stdout",
     "output_type": "stream",
     "text": [
      "2\n"
     ]
    }
   ],
   "source": [
    "# how many dogs do we have?\n",
    "# Dog.count is a static member variable \n",
    "print(Dog.count)"
   ]
  },
  {
   "cell_type": "markdown",
   "metadata": {},
   "source": [
    "### using instances of our classes\n",
    "\n",
    "Please talk through the code below.  It is subtle.  What is the \"cls\" function doing!??\n",
    "\n",
    "Note - this part of the code will not work in Python 2.0."
   ]
  },
  {
   "cell_type": "code",
   "execution_count": 15,
   "metadata": {},
   "outputs": [
    {
     "data": {
      "text/plain": [
       "'this'"
      ]
     },
     "execution_count": 15,
     "metadata": {},
     "output_type": "execute_result"
    }
   ],
   "source": [
    "d2 = Dog('Scooby Doo', 'great dane')\n",
    "test_cls = type(d2)\n",
    "d3 = test_cls('this', 'a breed')\n",
    "d3.name"
   ]
  },
  {
   "cell_type": "code",
   "execution_count": 17,
   "metadata": {},
   "outputs": [],
   "source": [
    "def make_baby(pet1, pet2, name):\n",
    "    # check for compatible species\n",
    "    if type(pet1) == type(pet2):\n",
    "        cls = type(pet1)\n",
    "        if pet1.breed == pet2.breed:\n",
    "            # pure breed\n",
    "            new_breed = pet1.breed\n",
    "        else:\n",
    "            # mixed breed\n",
    "            new_breed = pet1.breed + '-' + pet2.breed\n",
    "        \n",
    "        baby = cls(name,new_breed)\n",
    "        return baby\n",
    "    else:\n",
    "        raise Exception(\"sorry, can't intermingle species\")"
   ]
  },
  {
   "cell_type": "code",
   "execution_count": 18,
   "metadata": {},
   "outputs": [
    {
     "data": {
      "text/plain": [
       "{'name': 'fred',\n",
       " 'owner': None,\n",
       " 'image_path': None,\n",
       " 'noise': 'woof woof',\n",
       " 'breed': 'mutt-great dane'}"
      ]
     },
     "execution_count": 18,
     "metadata": {},
     "output_type": "execute_result"
    }
   ],
   "source": [
    "# make one baby dog\n",
    "b = make_baby(d,d2,'fred')\n",
    "b.__dict__\n",
    "\n"
   ]
  },
  {
   "cell_type": "code",
   "execution_count": 19,
   "metadata": {},
   "outputs": [
    {
     "ename": "Exception",
     "evalue": "sorry, can't intermingle species",
     "output_type": "error",
     "traceback": [
      "\u001b[0;31m---------------------------------------------------------------------------\u001b[0m",
      "\u001b[0;31mException\u001b[0m                                 Traceback (most recent call last)",
      "\u001b[0;32m<ipython-input-19-0818f3f71490>\u001b[0m in \u001b[0;36m<module>\u001b[0;34m\u001b[0m\n\u001b[1;32m      1\u001b[0m \u001b[0;31m# try to make a dog-cat baby\u001b[0m\u001b[0;34m\u001b[0m\u001b[0;34m\u001b[0m\u001b[0;34m\u001b[0m\u001b[0m\n\u001b[0;32m----> 2\u001b[0;31m \u001b[0mb2\u001b[0m \u001b[0;34m=\u001b[0m \u001b[0mmake_baby\u001b[0m\u001b[0;34m(\u001b[0m\u001b[0md\u001b[0m\u001b[0;34m,\u001b[0m\u001b[0mc\u001b[0m\u001b[0;34m,\u001b[0m\u001b[0;34m'jeff'\u001b[0m\u001b[0;34m)\u001b[0m\u001b[0;34m\u001b[0m\u001b[0;34m\u001b[0m\u001b[0m\n\u001b[0m",
      "\u001b[0;32m<ipython-input-17-94278aa1c903>\u001b[0m in \u001b[0;36mmake_baby\u001b[0;34m(pet1, pet2, name)\u001b[0m\n\u001b[1;32m     13\u001b[0m         \u001b[0;32mreturn\u001b[0m \u001b[0mbaby\u001b[0m\u001b[0;34m\u001b[0m\u001b[0;34m\u001b[0m\u001b[0m\n\u001b[1;32m     14\u001b[0m     \u001b[0;32melse\u001b[0m\u001b[0;34m:\u001b[0m\u001b[0;34m\u001b[0m\u001b[0;34m\u001b[0m\u001b[0m\n\u001b[0;32m---> 15\u001b[0;31m         \u001b[0;32mraise\u001b[0m \u001b[0mException\u001b[0m\u001b[0;34m(\u001b[0m\u001b[0;34m\"sorry, can't intermingle species\"\u001b[0m\u001b[0;34m)\u001b[0m\u001b[0;34m\u001b[0m\u001b[0;34m\u001b[0m\u001b[0m\n\u001b[0m",
      "\u001b[0;31mException\u001b[0m: sorry, can't intermingle species"
     ]
    }
   ],
   "source": [
    "# try to make a dog-cat baby\n",
    "b2 = make_baby(d,c,'jeff')"
   ]
  },
  {
   "cell_type": "markdown",
   "metadata": {},
   "source": [
    "## things to do now\n",
    "\n",
    "* make another subclass for another kind of pet"
   ]
  },
  {
   "cell_type": "code",
   "execution_count": null,
   "metadata": {
    "collapsed": true
   },
   "outputs": [],
   "source": [
    "class Lion(Pet):\n",
    "    \n",
    "    count = 0\n",
    "    \n",
    "    def __init__(self, name, color):\n",
    "        Pet.__init__(self,name)\n",
    "        self.color = color\n",
    "        Cat.count += 1\n",
    "        self.noise = \"roar\""
   ]
  },
  {
   "cell_type": "markdown",
   "metadata": {},
   "source": [
    "* add a method to Pet that applies to all pets"
   ]
  },
  {
   "cell_type": "code",
   "execution_count": null,
   "metadata": {
    "collapsed": true
   },
   "outputs": [],
   "source": [
    "class Pet():\n",
    "    \n",
    "    def __init__(self, name):\n",
    "        self.name = name\n",
    "        self.__owner = None\n",
    "        self.image_path = None\n",
    "        self.noise = None\n",
    "        \n",
    "    def display_image(self):\n",
    "        if self.image_path is not None:\n",
    "            display(Image(filename=self.image_path))\n",
    "            \n",
    "    def make_noise(self):\n",
    "        if self.noise is not None:\n",
    "            print(self.noise)\n",
    "    \n",
    "    def change_owner(self, new_owner):\n",
    "        self.__owner = new_owner"
   ]
  },
  {
   "cell_type": "markdown",
   "metadata": {},
   "source": [
    "* add at least one new method to Dog and Cat that is specific to that pet"
   ]
  },
  {
   "cell_type": "code",
   "execution_count": 20,
   "metadata": {},
   "outputs": [],
   "source": [
    "class Dog(Pet):\n",
    "    \n",
    "    count = 0 # class variable to keep track of how many dogs we have\n",
    "    \n",
    "    def __init__(self, name, breed):\n",
    "        Pet.__init__(self,name)\n",
    "        self.breed = breed\n",
    "        Dog.count += 1\n",
    "        self.noise = \"woof woof\" # generic dog noise\n",
    "    \n",
    "        "
   ]
  },
  {
   "cell_type": "code",
   "execution_count": 21,
   "metadata": {},
   "outputs": [],
   "source": [
    "class Cat(Pet):\n",
    "    \n",
    "    count = 0\n",
    "    \n",
    "    def __init__(self, name, breed):\n",
    "        Pet.__init__(self,name)\n",
    "        self.breed = breed\n",
    "        Cat.count += 1\n",
    "        self.noise = \"meow\" # generic cat noise\n",
    "    "
   ]
  },
  {
   "cell_type": "code",
   "execution_count": null,
   "metadata": {
    "collapsed": true
   },
   "outputs": [],
   "source": []
  },
  {
   "cell_type": "markdown",
   "metadata": {},
   "source": [
    "# The Game section \n",
    "* Make a world and populate it with your animals\n",
    "\n",
    "* this exercise is based on this post  https://learnpythonthehardway.org/book/ex43.html\n",
    "* Here are some beginnier rooms which will load animals"
   ]
  },
  {
   "cell_type": "code",
   "execution_count": 23,
   "metadata": {},
   "outputs": [],
   "source": [
    "from sys import exit\n",
    "from random import randint\n",
    "\n",
    "# make rooms of different size that specify different number of encounters\n",
    "class Mapitem(object):\n",
    "    NPA = [c, d, d2, b] # possible non player animals objects              \n",
    "    def enter(self):\n",
    "        print (\"this is the base for rooms, the enter method is replaced\")\n",
    "        exit(1)\n",
    "\n",
    "#################################\n",
    "        \n",
    "class BigRoom(Mapitem):\n",
    "    \n",
    "    NumAnimals=3 # meet 3 non-player animals\n",
    "\n",
    "    def enter(self):\n",
    "        self.NumAnimal=3\n",
    "        print ('There are ', self.NumAnimal, ' ANIMALs in here!')\n",
    "        while self.NumAnimal > 0:\n",
    "            Animal= (self.NPA[randint(0, len(self.NPA)-1)])\n",
    "            Animal.make_noise()\n",
    "            self.NumAnimal -= 1\n",
    "    \n",
    "class MedRoom(Mapitem): #2 interactions\n",
    "    \n",
    "    NumAnimals=2 # meet 2 non-player animals\n",
    "\n",
    "    def enter(self):\n",
    "\n",
    "        self.NumAnimal=2\n",
    "        print ('There are ', self.NumAnimal, ' ANIMALs in here!')\n",
    "        while self.NumAnimal > 0:\n",
    "            Animal= (self.NPA[randint(0, len(self.NPA)-1)])\n",
    "            Animal.make_noise()\n",
    "            self.NumAnimal -= 1\n",
    "        return 'SmRoom'\n",
    "\n",
    "class SmRoom(Mapitem): #1 interaction\n",
    "\n",
    "    def enter(self):\n",
    "        self.NumAnimal=1\n",
    "        print ('There is ', self.NumAnimal, ' ANIMAL in here!')\n",
    "        while self.NumAnimal > 0:\n",
    "            Animal= (self.NPA[randint(0, len(self.NPA)-1)])\n",
    "            Animal.make_noise()\n",
    "            self.NumAnimal -= 1\n",
    "        return 'BigRoom'"
   ]
  },
  {
   "cell_type": "markdown",
   "metadata": {},
   "source": [
    "* Write code to initalize then go to three rooms of any size in series\n",
    "* Note that each room will print the name of a \"Next Room\". We will use that below..."
   ]
  },
  {
   "cell_type": "code",
   "execution_count": 29,
   "metadata": {},
   "outputs": [
    {
     "data": {
      "text/plain": [
       "<__main__.MedRoom at 0x7fa8a03b94f0>"
      ]
     },
     "execution_count": 29,
     "metadata": {},
     "output_type": "execute_result"
    }
   ],
   "source": [
    "rooms['MedRoom']"
   ]
  },
  {
   "cell_type": "markdown",
   "metadata": {},
   "source": [
    "* Use the output of the room object to go to specify the next room\n",
    "* Use the provided room dictionary to specify the object with just a string (e.g.'MedRoom')"
   ]
  },
  {
   "cell_type": "code",
   "execution_count": 31,
   "metadata": {},
   "outputs": [
    {
     "name": "stdout",
     "output_type": "stream",
     "text": [
      "There are  2  ANIMALs in here!\n",
      "woof woof\n",
      "woof woof\n",
      "I am going to the  SmRoom\n",
      "There is  1  ANIMAL in here!\n",
      "woof woof\n"
     ]
    },
    {
     "data": {
      "text/plain": [
       "'BigRoom'"
      ]
     },
     "execution_count": 31,
     "metadata": {},
     "output_type": "execute_result"
    }
   ],
   "source": [
    "rooms = {'MedRoom': MedRoom(),'SmRoom': SmRoom(),'BigRoom': BigRoom()}\n",
    "\n",
    "# initialise the current room\n",
    "# enter the current room \n",
    "current_room = rooms['MedRoom']\n",
    "next_room = current_room.enter()\n",
    "\n",
    "print (\"I am going to the \", next_room)\n",
    "# reset the value of the current object to the next object\n",
    "current_room = rooms[next_room]\n",
    "# enter the current room \n",
    "current_room.enter()"
   ]
  },
  {
   "cell_type": "code",
   "execution_count": null,
   "metadata": {
    "collapsed": true
   },
   "outputs": [],
   "source": []
  },
  {
   "cell_type": "code",
   "execution_count": null,
   "metadata": {
    "collapsed": true
   },
   "outputs": [],
   "source": [
    "# Advanced challenge \n",
    "\n",
    "- Refer to this example, which the game code is based on:\n",
    "http://learnpythonthehardway.org/book/ex43.html\n",
    "    \n",
    "#write ENGINE and MAP objects which will build the room objects \n",
    "#automatically as you move through the building "
   ]
  },
  {
   "cell_type": "code",
   "execution_count": null,
   "metadata": {},
   "outputs": [],
   "source": [
    "from sys import exit\n",
    "from random import randint\n",
    "\n",
    "# make rooms of different size that specify different number of encounters\n",
    "class Mapitem(object):\n",
    "    NPA = [c, d, d2, b] # possible non player animals objects              \n",
    "    def enter(self):\n",
    "        print (\"this is the base for rooms, the enter method is replaced\")\n",
    "        exit(1)"
   ]
  },
  {
   "cell_type": "code",
   "execution_count": 42,
   "metadata": {},
   "outputs": [],
   "source": [
    "class Room(Mapitem):\n",
    "    \n",
    "    def __init__(self, NumAnimals):\n",
    "        self.NumAnimals = NumAnimals # meet x non-player animals\n",
    "\n",
    "    def enter(self):\n",
    "        print ('There are ', self.NumAnimals, ' ANIMALs in here!')\n",
    "        while self.NumAnimals > 0:\n",
    "            Animal= (self.NPA[randint(0, len(self.NPA)-1)])\n",
    "            Animal.make_noise()\n",
    "            self.NumAnimals -= 1"
   ]
  },
  {
   "cell_type": "code",
   "execution_count": 43,
   "metadata": {},
   "outputs": [
    {
     "name": "stdout",
     "output_type": "stream",
     "text": [
      "There are  1  ANIMALs in here!\n",
      "woof woof\n"
     ]
    }
   ],
   "source": [
    "SmRoom = Room(1)\n",
    "SmRoom.enter()"
   ]
  },
  {
   "cell_type": "code",
   "execution_count": 45,
   "metadata": {},
   "outputs": [
    {
     "name": "stdout",
     "output_type": "stream",
     "text": [
      "There are  1  ANIMALs in here!\n",
      "woof woof\n",
      "There are  2  ANIMALs in here!\n",
      "meow\n",
      "woof woof\n",
      "There are  3  ANIMALs in here!\n",
      "woof woof\n",
      "woof woof\n",
      "meow\n"
     ]
    }
   ],
   "source": [
    "for i in range(1, 4):\n",
    "    current_room = Room(i)\n",
    "    current_room.enter()"
   ]
  },
  {
   "cell_type": "code",
   "execution_count": null,
   "metadata": {},
   "outputs": [],
   "source": []
  }
 ],
 "metadata": {
  "kernelspec": {
   "display_name": "Python 3",
   "language": "python",
   "name": "python3"
  },
  "language_info": {
   "codemirror_mode": {
    "name": "ipython",
    "version": 3
   },
   "file_extension": ".py",
   "mimetype": "text/x-python",
   "name": "python",
   "nbconvert_exporter": "python",
   "pygments_lexer": "ipython3",
   "version": "3.8.8"
  }
 },
 "nbformat": 4,
 "nbformat_minor": 1
}
