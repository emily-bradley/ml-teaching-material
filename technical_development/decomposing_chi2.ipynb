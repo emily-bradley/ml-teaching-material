{
 "cells": [
  {
   "cell_type": "markdown",
   "id": "69fcc77d",
   "metadata": {},
   "source": [
    "# Decomposing Sklearn Chi2 Implementation"
   ]
  },
  {
   "cell_type": "markdown",
   "id": "c715037a",
   "metadata": {},
   "source": [
    "Source:  https://scikit-learn.org/stable/modules/generated/sklearn.feature_selection.chi2.html\n",
    "\n",
    "This notebook breaks down the sklearn implementation of the chi2 algoirthm"
   ]
  },
  {
   "cell_type": "code",
   "execution_count": 31,
   "id": "fa636ba7",
   "metadata": {},
   "outputs": [],
   "source": [
    "import numpy as np\n",
    "from scipy import special"
   ]
  },
  {
   "cell_type": "markdown",
   "id": "50735c36",
   "metadata": {},
   "source": [
    "### Chi 2\n"
   ]
  },
  {
   "cell_type": "markdown",
   "id": "33700dfd",
   "metadata": {},
   "source": [
    "### Create Input Data\n",
    "\n",
    "First, create the Y labels you are tryign to predict and the X features.\\\n",
    "These variabest are passed to sklearn's chi2."
   ]
  },
  {
   "cell_type": "code",
   "execution_count": 32,
   "id": "4b942317",
   "metadata": {},
   "outputs": [
    {
     "name": "stdout",
     "output_type": "stream",
     "text": [
      "Y lables: \n",
      "[[0]\n",
      " [1]\n",
      " [0]]\n",
      "\n",
      "X features: \n",
      "[[ 0 10  0  3]\n",
      " [ 1  9  1  7]\n",
      " [ 0 10  0 11]]\n"
     ]
    }
   ],
   "source": [
    "# Create the Y labels you are trying to predict\n",
    "Y = np.array([[0], \n",
    "              [1], \n",
    "              [0]])\n",
    "print(f\"Y lables: \\n{Y}\\n\")\n",
    "\n",
    "# The X features\n",
    "X = np.matrix([[0, 10, 0, 3],\n",
    "               [1, 9, 1, 7],\n",
    "               [0, 10, 0, 11]])\n",
    "print(f\"X features: \\n{X}\")"
   ]
  },
  {
   "cell_type": "markdown",
   "id": "93779755",
   "metadata": {},
   "source": [
    "### Step 1\n",
    "Represent the Y labels in a one v all fashion (i.e. calculates a column to represent the other categorical labels).\\\n",
    "Note: This is a binary classification example"
   ]
  },
  {
   "cell_type": "code",
   "execution_count": 33,
   "id": "ae565f63",
   "metadata": {},
   "outputs": [
    {
     "name": "stdout",
     "output_type": "stream",
     "text": [
      "Y: \n",
      "[[1 0]\n",
      " [0 1]\n",
      " [1 0]]\n"
     ]
    }
   ],
   "source": [
    "# Create 1 v all columns for lables\n",
    "Y.shape[1]\n",
    "Y = np.append(1 - Y, Y, axis=1)\n",
    "print(f\"Y: \\n{Y}\")"
   ]
  },
  {
   "cell_type": "markdown",
   "id": "d268d3fd",
   "metadata": {},
   "source": [
    "### Step 2\n",
    "Transpose Y so that it is a row vector\\\n",
    "Calculate the observed by taking the dot product of Y and X\\\n",
    "Two row vectors in np.dot is equavalent to a<sup>T</sup>b, column_vector$\\times$row_vector"
   ]
  },
  {
   "cell_type": "code",
   "execution_count": 34,
   "id": "5af57ca3",
   "metadata": {},
   "outputs": [
    {
     "name": "stdout",
     "output_type": "stream",
     "text": [
      "observed: \n",
      "[[ 0 20  0 14]\n",
      " [ 1  9  1  7]]\n"
     ]
    }
   ],
   "source": [
    "# Calculate observed as the dot product of Y and X\n",
    "observed = np.dot(Y.T, X)\n",
    "print(f\"observed: \\n{observed}\")"
   ]
  },
  {
   "cell_type": "markdown",
   "id": "49389e35",
   "metadata": {},
   "source": [
    "### Step 3\n",
    "Feature count sums the values of the x variables, column-wise"
   ]
  },
  {
   "cell_type": "code",
   "execution_count": 35,
   "id": "827a3fc0",
   "metadata": {},
   "outputs": [
    {
     "name": "stdout",
     "output_type": "stream",
     "text": [
      "X features: \n",
      "[[ 0 10  0  3]\n",
      " [ 1  9  1  7]\n",
      " [ 0 10  0 11]]\n",
      "\n",
      "feature count: \n",
      "[[ 1 29  1 21]]\n"
     ]
    }
   ],
   "source": [
    "# Sum the value of the variables by column\n",
    "feature_count = X.sum(axis=0).reshape(1, -1)\n",
    "print(f\"X features: \\n{X}\\n\")\n",
    "\n",
    "print(f\"feature count: \\n{feature_count}\")"
   ]
  },
  {
   "cell_type": "markdown",
   "id": "a0502885",
   "metadata": {},
   "source": [
    "### Step 4\n",
    "Calculate the average value for each label\\\n",
    "Since the label is one hot encoded, it can only be zero or one, so this represents the probability"
   ]
  },
  {
   "cell_type": "code",
   "execution_count": 36,
   "id": "9e74864b",
   "metadata": {},
   "outputs": [
    {
     "name": "stdout",
     "output_type": "stream",
     "text": [
      "Y: \n",
      "[[1 0]\n",
      " [0 1]\n",
      " [1 0]]\n",
      "\n",
      "class prob: \n",
      "[[0.66666667 0.33333333]]\n"
     ]
    }
   ],
   "source": [
    "# Calculate the class probability for each Y label\n",
    "class_prob = Y.mean(axis=0).reshape(1, -1)\n",
    "print(f\"Y: \\n{Y}\\n\")\n",
    "\n",
    "print(f\"class prob: \\n{class_prob}\")"
   ]
  },
  {
   "cell_type": "markdown",
   "id": "6308d4a5",
   "metadata": {},
   "source": [
    "### Step 5\n",
    "Take the outer dot product of class_prob and feature_count"
   ]
  },
  {
   "cell_type": "code",
   "execution_count": 37,
   "id": "5d19137b",
   "metadata": {},
   "outputs": [
    {
     "name": "stdout",
     "output_type": "stream",
     "text": [
      "class prob: \n",
      "[[0.66666667 0.33333333]]\n",
      "\n",
      "feature count: \n",
      "[[ 1 29  1 21]]\n",
      "\n",
      "expected: \n",
      "[[ 0.66666667 19.33333333  0.66666667 14.        ]\n",
      " [ 0.33333333  9.66666667  0.33333333  7.        ]]\n"
     ]
    }
   ],
   "source": [
    "# calculate expected\n",
    "expected = np.dot(class_prob.T, feature_count)\n",
    "\n",
    "print(f\"class prob: \\n{class_prob}\\n\")\n",
    "print(f\"feature count: \\n{feature_count}\\n\")\n",
    "print(f\"expected: \\n{expected}\")"
   ]
  },
  {
   "cell_type": "markdown",
   "id": "1d25ed51",
   "metadata": {},
   "source": [
    "### Step 6\n",
    "Convert the observed matrix to an array with floating numbers"
   ]
  },
  {
   "cell_type": "code",
   "execution_count": 38,
   "id": "264978c3",
   "metadata": {},
   "outputs": [
    {
     "name": "stdout",
     "output_type": "stream",
     "text": [
      "observed array: \n",
      "[[ 0. 20.  0. 14.]\n",
      " [ 1.  9.  1.  7.]]\n"
     ]
    }
   ],
   "source": [
    "# Cast as floats\n",
    "observed = np.asarray(observed, dtype=np.float64)\n",
    "print(f\"observed array: \\n{observed}\")"
   ]
  },
  {
   "cell_type": "markdown",
   "id": "a0e34865",
   "metadata": {},
   "source": [
    "### Step 7\n",
    "Calculate the degrees of freedom by first calculating k as the number of labels\\\n",
    "Since this is a binary classification problem, we have k=2\\\n",
    "When we pass k to special.chdtrc, we take k-1 to get the degrees of freedom"
   ]
  },
  {
   "cell_type": "code",
   "execution_count": 39,
   "id": "4997cd99",
   "metadata": {},
   "outputs": [
    {
     "name": "stdout",
     "output_type": "stream",
     "text": [
      "K: 2\n"
     ]
    }
   ],
   "source": [
    "k = len(observed)\n",
    "print(f\"K: {k}\")"
   ]
  },
  {
   "cell_type": "markdown",
   "id": "d1e04d99",
   "metadata": {},
   "source": [
    "### Step 8\n",
    "Calculate chi2 as:\\\n",
    "$\\sum_{}^{} \\frac{(observed - expected)^2}{expected}$"
   ]
  },
  {
   "cell_type": "code",
   "execution_count": 40,
   "id": "14186e0d",
   "metadata": {},
   "outputs": [
    {
     "name": "stdout",
     "output_type": "stream",
     "text": [
      "observed: \n",
      "[[ 0. 20.  0. 14.]\n",
      " [ 1.  9.  1.  7.]]\n",
      "\n",
      "expected: \n",
      "[[ 0.66666667 19.33333333  0.66666667 14.        ]\n",
      " [ 0.33333333  9.66666667  0.33333333  7.        ]]\n",
      "\n",
      "observed - expected: \n",
      "[[-0.66666667  0.66666667 -0.66666667  0.        ]\n",
      " [ 0.66666667 -0.66666667  0.66666667  0.        ]]\n",
      "\n",
      "squared: \n",
      "[[0.44444444 0.44444444 0.44444444 0.        ]\n",
      " [0.44444444 0.44444444 0.44444444 0.        ]]\n",
      "\n",
      "divided by expected: \n",
      "[[0.66666667 0.02298851 0.66666667 0.        ]\n",
      " [1.33333333 0.04597701 1.33333333 0.        ]]\n",
      "\n",
      "sum to calculate chisq: \n",
      "[2.         0.06896552 2.         0.        ]\n"
     ]
    }
   ],
   "source": [
    "# calculate chi2 step by step\n",
    "print(f\"observed: \\n{observed}\\n\")\n",
    "\n",
    "print(f\"expected: \\n{expected}\\n\")\n",
    "\n",
    "chisq = observed\n",
    "chisq -= expected\n",
    "\n",
    "print(f\"observed - expected: \\n{chisq}\\n\")\n",
    "\n",
    "chisq **= 2\n",
    "\n",
    "print(f\"squared: \\n{chisq}\\n\")\n",
    "\n",
    "chisq /= expected\n",
    "\n",
    "print(f\"divided by expected: \\n{chisq}\\n\")\n",
    "\n",
    "chisq = chisq.sum(axis=0)\n",
    "\n",
    "print(f\"sum to calculate chisq: \\n{chisq}\")"
   ]
  },
  {
   "cell_type": "markdown",
   "id": "f1ee0c59",
   "metadata": {},
   "source": [
    "### Step 9\n",
    "special.chdtrc(k - 1, chisq) returns the area under the right hadn tail (from x to infinity) of the chi square probability density function with v degrees of freedom\n",
    "\n",
    "Returns the area under the right tail for each of the features\\\n",
    "https://en.wikipedia.org/wiki/Chi-squared_distribution \\\n",
    "https://people.richland.edu/james/lecture/m170/tbl-chi.html\n",
    "\n",
    "The smaller the value, the better"
   ]
  },
  {
   "cell_type": "code",
   "execution_count": 41,
   "id": "fdd957ac",
   "metadata": {},
   "outputs": [
    {
     "name": "stdout",
     "output_type": "stream",
     "text": [
      "Area under right tail: \n",
      "[0.15729921 0.79284898 0.15729921 1.        ]\n",
      "\n",
      "chisq: \n",
      "[2.         0.06896552 2.         0.        ]\n"
     ]
    }
   ],
   "source": [
    "aurt = special.chdtrc(k -1, chisq)\n",
    "print(f\"Area under right tail: \\n{aurt}\\n\")\n",
    "\n",
    "print(f\"chisq: \\n{chisq}\")"
   ]
  },
  {
   "cell_type": "markdown",
   "id": "e5960f66",
   "metadata": {},
   "source": [
    "### Compare the results to the sklearn implementation"
   ]
  },
  {
   "cell_type": "code",
   "execution_count": 42,
   "id": "bdfa920c",
   "metadata": {},
   "outputs": [],
   "source": [
    "from sklearn.feature_selection import SelectKBest\n",
    "from sklearn.feature_selection import chi2"
   ]
  },
  {
   "cell_type": "code",
   "execution_count": 44,
   "id": "e2aaa077",
   "metadata": {},
   "outputs": [],
   "source": [
    "selector = SelectKBest(chi2, k=2)"
   ]
  },
  {
   "cell_type": "code",
   "execution_count": 45,
   "id": "61ca4c34",
   "metadata": {},
   "outputs": [
    {
     "data": {
      "text/plain": [
       "SelectKBest(k=2, score_func=<function chi2 at 0x7f86e04f4040>)"
      ]
     },
     "execution_count": 45,
     "metadata": {},
     "output_type": "execute_result"
    }
   ],
   "source": [
    "selector.fit(X, Y)"
   ]
  },
  {
   "cell_type": "code",
   "execution_count": 46,
   "id": "1bea3cda",
   "metadata": {},
   "outputs": [
    {
     "data": {
      "text/plain": [
       "array([2.        , 0.06896552, 2.        , 0.        ])"
      ]
     },
     "execution_count": 46,
     "metadata": {},
     "output_type": "execute_result"
    }
   ],
   "source": [
    "selector.scores_"
   ]
  },
  {
   "cell_type": "markdown",
   "id": "a0c9fded",
   "metadata": {},
   "source": [
    "### Exercises\n",
    "* Manually calculate chi2 with a multiclass classification problem"
   ]
  },
  {
   "cell_type": "markdown",
   "id": "748c9fb9",
   "metadata": {},
   "source": [
    "### Additional Resources and Concepts\n",
    "* "
   ]
  },
  {
   "cell_type": "code",
   "execution_count": null,
   "id": "be23acd2",
   "metadata": {},
   "outputs": [],
   "source": []
  }
 ],
 "metadata": {
  "kernelspec": {
   "display_name": "Python 3",
   "language": "python",
   "name": "python3"
  },
  "language_info": {
   "codemirror_mode": {
    "name": "ipython",
    "version": 3
   },
   "file_extension": ".py",
   "mimetype": "text/x-python",
   "name": "python",
   "nbconvert_exporter": "python",
   "pygments_lexer": "ipython3",
   "version": "3.8.8"
  }
 },
 "nbformat": 4,
 "nbformat_minor": 5
}
