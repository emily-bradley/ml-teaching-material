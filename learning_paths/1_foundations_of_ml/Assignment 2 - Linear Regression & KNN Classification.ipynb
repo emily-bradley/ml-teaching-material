{
 "cells": [
  {
   "cell_type": "markdown",
   "id": "3114a6fb",
   "metadata": {},
   "source": [
    "# Assignment 2: Linear Regression & KNN Classification"
   ]
  },
  {
   "cell_type": "markdown",
   "id": "6e28586d",
   "metadata": {},
   "source": [
    "In this assignment, we will explore two models: Linear Regression for regression problems and KNN for classification problems. We will start with the Iris dataset from assignment 1 and build and KNN model. We will practice our visualization skills by creating simple histograms and a confusion matrix of the reuslts. For bonus points, you can apply train/test split. Then, we will create a linear regression model using Kaggle's Housing Prices dataset.\n"
   ]
  },
  {
   "cell_type": "code",
   "execution_count": 4,
   "id": "914dd5c1",
   "metadata": {},
   "outputs": [],
   "source": [
    "import pandas as pd\n",
    "import numpy as np\n",
    "import matplotlib.pyplot as plt"
   ]
  },
  {
   "cell_type": "markdown",
   "id": "8c032a92",
   "metadata": {},
   "source": [
    "## Part 1: Build a KNN Model on the Iris Dataset (30 points total)"
   ]
  },
  {
   "cell_type": "markdown",
   "id": "928db55d",
   "metadata": {
    "id": "load_auto_data_set_text"
   },
   "source": [
    "### A. Load the data\n",
    "Load the data from the Iris dataset in Assignment 1. Create your X features and your Y labels.\n"
   ]
  },
  {
   "cell_type": "code",
   "execution_count": 1,
   "id": "7667c9cc",
   "metadata": {},
   "outputs": [],
   "source": [
    "# YOUR CODE HERE\n"
   ]
  },
  {
   "cell_type": "markdown",
   "id": "87fcf0fe",
   "metadata": {},
   "source": [
    "### (optional) Train/Test Split the Data (5 bonus points)\n",
    "For extra points, split into training and testing. Use the training dataset to create the historgram and fit the model. Predict on the test dataset and create the confusion matrix."
   ]
  },
  {
   "cell_type": "code",
   "execution_count": null,
   "id": "5ac2c1f7",
   "metadata": {},
   "outputs": [],
   "source": []
  },
  {
   "cell_type": "markdown",
   "id": "222fa3d0",
   "metadata": {},
   "source": [
    "### B. Plot a Histogram\n",
    "Plotting feature histograms is a good way to start building intuition about the data. This gives us a sense of the distribution of each feature, but not how the features relate to each other.\n",
    "\n",
    "We can also use the `describe` function to look at some aggregate statistics for the \n",
    "\n",
    "Use panda's built in datafram hist to create a histogram of each feature with X.hist().\n",
    "https://pandas.pydata.org/pandas-docs/stable/reference/api/pandas.DataFrame.hist.html"
   ]
  },
  {
   "cell_type": "code",
   "execution_count": 3,
   "id": "7f068138",
   "metadata": {},
   "outputs": [],
   "source": [
    "# YOUR CODE HERE\n",
    "import pandas as pd\n",
    "\n",
    "df = pd.read_csv('housing_train.csv')"
   ]
  },
  {
   "cell_type": "code",
   "execution_count": 4,
   "id": "084e7118",
   "metadata": {},
   "outputs": [
    {
     "data": {
      "text/plain": [
       "Index(['Id', 'MSSubClass', 'MSZoning', 'LotFrontage', 'LotArea', 'Street',\n",
       "       'Alley', 'LotShape', 'LandContour', 'Utilities', 'LotConfig',\n",
       "       'LandSlope', 'Neighborhood', 'Condition1', 'Condition2', 'BldgType',\n",
       "       'HouseStyle', 'OverallQual', 'OverallCond', 'YearBuilt', 'YearRemodAdd',\n",
       "       'RoofStyle', 'RoofMatl', 'Exterior1st', 'Exterior2nd', 'MasVnrType',\n",
       "       'MasVnrArea', 'ExterQual', 'ExterCond', 'Foundation', 'BsmtQual',\n",
       "       'BsmtCond', 'BsmtExposure', 'BsmtFinType1', 'BsmtFinSF1',\n",
       "       'BsmtFinType2', 'BsmtFinSF2', 'BsmtUnfSF', 'TotalBsmtSF', 'Heating',\n",
       "       'HeatingQC', 'CentralAir', 'Electrical', '1stFlrSF', '2ndFlrSF',\n",
       "       'LowQualFinSF', 'GrLivArea', 'BsmtFullBath', 'BsmtHalfBath', 'FullBath',\n",
       "       'HalfBath', 'BedroomAbvGr', 'KitchenAbvGr', 'KitchenQual',\n",
       "       'TotRmsAbvGrd', 'Functional', 'Fireplaces', 'FireplaceQu', 'GarageType',\n",
       "       'GarageYrBlt', 'GarageFinish', 'GarageCars', 'GarageArea', 'GarageQual',\n",
       "       'GarageCond', 'PavedDrive', 'WoodDeckSF', 'OpenPorchSF',\n",
       "       'EnclosedPorch', '3SsnPorch', 'ScreenPorch', 'PoolArea', 'PoolQC',\n",
       "       'Fence', 'MiscFeature', 'MiscVal', 'MoSold', 'YrSold', 'SaleType',\n",
       "       'SaleCondition', 'SalePrice'],\n",
       "      dtype='object')"
      ]
     },
     "execution_count": 4,
     "metadata": {},
     "output_type": "execute_result"
    }
   ],
   "source": [
    "df.columns"
   ]
  },
  {
   "cell_type": "code",
   "execution_count": 6,
   "id": "f05b35e6",
   "metadata": {},
   "outputs": [
    {
     "data": {
      "text/plain": [
       "<AxesSubplot: >"
      ]
     },
     "execution_count": 6,
     "metadata": {},
     "output_type": "execute_result"
    },
    {
     "data": {
      "image/png": "[encoded data removed]",
      "text/plain": [
       "<Figure size 432x288 with 1 Axes>"
      ]
     },
     "metadata": {
      "needs_background": "light"
     },
     "output_type": "display_data"
    }
   ],
   "source": [
    "df['SalePrice'].hist()"
   ]
  },
  {
   "cell_type": "code",
   "execution_count": 9,
   "id": "5ce2045a",
   "metadata": {},
   "outputs": [
    {
     "data": {
      "text/plain": [
       "<AxesSubplot: xlabel='SalePrice', ylabel='Count'>"
      ]
     },
     "execution_count": 9,
     "metadata": {},
     "output_type": "execute_result"
    },
    {
     "data": {
      "image/png": "[encoded data removed]",
      "text/plain": [
       "<Figure size 432x288 with 1 Axes>"
      ]
     },
     "metadata": {
      "needs_background": "light"
     },
     "output_type": "display_data"
    }
   ],
   "source": [
    "import seaborn as sns\n",
    "\n",
    "sns.histplot(data=df, x=\"SalePrice\")"
   ]
  },
  {
   "cell_type": "code",
   "execution_count": null,
   "id": "f7421d0b",
   "metadata": {},
   "outputs": [],
   "source": [
    "# SOME EXAMPLE CODE\n",
    "plt.figure(figsize=(15, 3))\n",
    "for i in range(len(columns)):\n",
    "    plt.subplot(1, 5, i+1)\n",
    "    plt.hist(np.array(X[columns[i]]))\n",
    "    plt.title(columns[i])\n",
    "plt.show()\n",
    "\n",
    "display(X.describe())"
   ]
  },
  {
   "cell_type": "markdown",
   "id": "1b009fd2",
   "metadata": {},
   "source": [
    "### B. Fit the Model (5 points)\n",
    "Use sklearn's KNN to fit a model: https://scikit-learn.org/stable/modules/generated/sklearn.neighbors.KNeighborsClassifier.html"
   ]
  },
  {
   "cell_type": "code",
   "execution_count": 2,
   "id": "770aed61",
   "metadata": {},
   "outputs": [],
   "source": [
    "# YOUR CODE HERE\n"
   ]
  },
  {
   "cell_type": "markdown",
   "id": "3c347026",
   "metadata": {},
   "source": [
    "### C. Run Predict on the Fitted Model (5 points)\n",
    "Run predict on your fitted model"
   ]
  },
  {
   "cell_type": "code",
   "execution_count": null,
   "id": "fb1a6979",
   "metadata": {},
   "outputs": [],
   "source": [
    "# YOUR CODE HERE\n"
   ]
  },
  {
   "cell_type": "markdown",
   "id": "5a94b9ae",
   "metadata": {},
   "source": [
    "### D. Dispaly a Confusion Matrix of the Model Performance"
   ]
  },
  {
   "cell_type": "code",
   "execution_count": null,
   "id": "9d038b36",
   "metadata": {},
   "outputs": [],
   "source": [
    "from sklearn.metrics import ConfusionMatrixDisplay\n",
    "\n",
    "# Confusion Matrix code here"
   ]
  },
  {
   "cell_type": "markdown",
   "id": "ea6048f7",
   "metadata": {},
   "source": [
    "## Part 2: Build a Linear Regression Model on the Housing Dataset (70 points total)"
   ]
  },
  {
   "cell_type": "markdown",
   "id": "f73bd8b3",
   "metadata": {
    "id": "load_auto_data_set_text"
   },
   "source": [
    "### A. Load the data (10 points)\n",
    "Load the [House Prices](https://www.kaggle.com/competitions/house-prices-advanced-regression-techniques/overview) dataset from Kaggle. You may need to download the dataset and move it to your working location in order to read it in.\n"
   ]
  },
  {
   "cell_type": "code",
   "execution_count": null,
   "id": "e05be201",
   "metadata": {},
   "outputs": [],
   "source": [
    "# YOUR CODE HERE\n",
    "\n"
   ]
  },
  {
   "cell_type": "markdown",
   "id": "c8430c2e",
   "metadata": {},
   "source": [
    "### (optional) Train/Test Split the Data (5 bonus points)\n",
    "For extra points, split into training and testing. Use the training dataset to perform EDA (exploratory data analysis) and fit the model. Predict on the test dataset and evaluate model performance."
   ]
  },
  {
   "cell_type": "code",
   "execution_count": null,
   "id": "e26111fc",
   "metadata": {},
   "outputs": [],
   "source": []
  },
  {
   "cell_type": "markdown",
   "id": "c783c899",
   "metadata": {},
   "source": [
    "### B. Visualize Target Variable (5 points)\n",
    "Create a histogram of the target variable, `SalesPrice`"
   ]
  },
  {
   "cell_type": "code",
   "execution_count": null,
   "id": "b85678ff",
   "metadata": {},
   "outputs": [],
   "source": [
    "# YOUR CODE HERE\n"
   ]
  },
  {
   "cell_type": "markdown",
   "id": "a2a177c1",
   "metadata": {},
   "source": [
    "### C. Visualize Feature (5 points)\n",
    "Create a visualization of one feature:\n",
    "* **GrLivArea:** Above grade (ground) living area square feet"
   ]
  },
  {
   "cell_type": "code",
   "execution_count": null,
   "id": "4f968c22",
   "metadata": {},
   "outputs": [],
   "source": [
    "# YOUR CODE HERE\n"
   ]
  },
  {
   "cell_type": "markdown",
   "id": "156f34dd",
   "metadata": {},
   "source": [
    "### D. Fit a Simple Linear Regression Model (5 points)\n",
    "Create a linear model with just one X variable input: GrLivArea."
   ]
  },
  {
   "cell_type": "code",
   "execution_count": null,
   "id": "87cc86f2",
   "metadata": {},
   "outputs": [],
   "source": [
    "# YOUR CODE HERE\n"
   ]
  },
  {
   "cell_type": "markdown",
   "id": "d184df21",
   "metadata": {},
   "source": [
    "### E. Score the Model (5 points)\n",
    "Run predict on the fitted model. Pass the predictions to the mean squared error scoring function: https://scikit-learn.org/stable/modules/generated/sklearn.metrics.mean_squared_error.html"
   ]
  },
  {
   "cell_type": "code",
   "execution_count": null,
   "id": "d988ff08",
   "metadata": {},
   "outputs": [],
   "source": [
    "# YOUR CODE HERE\n"
   ]
  },
  {
   "cell_type": "markdown",
   "id": "75d88aab",
   "metadata": {},
   "source": [
    "### F. Plot the Fitted Line (10 points)\n",
    "Plot the X feature, GrLivArea, on the X axis and the Y label, SalesPrice, on the Y axis. Add the model line to the visualization."
   ]
  },
  {
   "cell_type": "code",
   "execution_count": null,
   "id": "f59bba6d",
   "metadata": {},
   "outputs": [],
   "source": [
    "# YOUR CODE HERE\n"
   ]
  },
  {
   "cell_type": "markdown",
   "id": "d38d124f",
   "metadata": {},
   "source": [
    "**Question (5 points):** What is the weight and bias or your model? What is the formula?"
   ]
  },
  {
   "cell_type": "markdown",
   "id": "afe3d25d",
   "metadata": {},
   "source": [
    "*Writen answer:*\n",
    "\n"
   ]
  },
  {
   "cell_type": "markdown",
   "id": "92a9a409",
   "metadata": {},
   "source": [
    "### G. Add More Features (20 points)\n",
    "\n",
    "The goal of this exercise is to compile a table of results -- MSE computed for 5 models:\n",
    "1. features = GrLivArea\n",
    "2. features = GrLivArea, Feature2\n",
    "3. features = GrLivArea, Feature2, Feature3\n",
    "4. features = GrLivArea, Feature2, Feature3, Feature4\n",
    "5. features = GrLivArea, Feature2, Feature3, Feature4\n",
    "\n",
    "Select 4 additional features of your personal choice."
   ]
  },
  {
   "cell_type": "code",
   "execution_count": null,
   "id": "06a5ab4a",
   "metadata": {},
   "outputs": [],
   "source": [
    "# YOUR CODE HERE\n"
   ]
  },
  {
   "cell_type": "markdown",
   "id": "49418633",
   "metadata": {},
   "source": [
    "**Question:** Enter your model results in the grid below"
   ]
  },
  {
   "cell_type": "markdown",
   "id": "3ebd3152",
   "metadata": {
    "id": "h0Zpx79_aQEC"
   },
   "source": [
    "*Written answer:*\n",
    "\n",
    "Model | MSE\n",
    "--- | ---\n",
    "GrLivArea | XXX\n",
    "+ Feature2 | XXX\n",
    "  + Feature3 | XXX\n",
    "  + Feature4 | XXX\n",
    "  + Feature5 | XXX"
   ]
  },
  {
   "cell_type": "code",
   "execution_count": null,
   "id": "5ee88926",
   "metadata": {},
   "outputs": [],
   "source": []
  }
 ],
 "metadata": {
  "kernelspec": {
   "display_name": "Python 3",
   "language": "python",
   "name": "python3"
  },
  "language_info": {
   "codemirror_mode": {
    "name": "ipython",
    "version": 3
   },
   "file_extension": ".py",
   "mimetype": "text/x-python",
   "name": "python",
   "nbconvert_exporter": "python",
   "pygments_lexer": "ipython3",
   "version": "3.8.8"
  }
 },
 "nbformat": 4,
 "nbformat_minor": 5
}
