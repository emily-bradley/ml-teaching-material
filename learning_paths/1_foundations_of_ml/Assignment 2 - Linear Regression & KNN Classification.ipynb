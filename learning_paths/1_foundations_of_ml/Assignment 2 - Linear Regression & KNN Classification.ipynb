{
 "cells": [
  {
   "cell_type": "markdown",
   "id": "e6890763",
   "metadata": {},
   "source": [
    "# Assignment 2: Linear Regression & KNN Classification"
   ]
  },
  {
   "cell_type": "markdown",
   "id": "3a8d7ac9",
   "metadata": {},
   "source": [
    "In this assignment, we will explore two models: Linear Regression for regression problems and KNN for classification problems. We will start with the Iris dataset from assignment 1 and build and KNN model. We will practice our visualization skills by creating simple histograms and a confusion matrix of the reuslts. For bonus points, you can apply train/test split. Then, we will create a linear regression model using Kaggle's Housing Prices dataset.\n"
   ]
  },
  {
   "cell_type": "code",
   "execution_count": 4,
   "id": "264b712b",
   "metadata": {},
   "outputs": [],
   "source": [
    "import pandas as pd\n",
    "import numpy as np\n",
    "import matplotlib.pyplot as plt"
   ]
  },
  {
   "cell_type": "markdown",
   "id": "cbd1eb14",
   "metadata": {},
   "source": [
    "## Part 1: Build a KNN Model on the Iris Dataset (30 points total)"
   ]
  },
  {
   "cell_type": "markdown",
   "id": "d8077e2e",
   "metadata": {
    "id": "load_auto_data_set_text"
   },
   "source": [
    "### A. Load the data\n",
    "Load the data from the Iris dataset in Assignment 1. Create your X features and your Y labels.\n"
   ]
  },
  {
   "cell_type": "code",
   "execution_count": 1,
   "id": "351c3c7c",
   "metadata": {},
   "outputs": [],
   "source": [
    "# YOUR CODE HERE\n"
   ]
  },
  {
   "cell_type": "markdown",
   "id": "1a4e8621",
   "metadata": {},
   "source": [
    "### (optional) Train/Test Split the Data (5 bonus points)\n",
    "For extra points, split into training and testing. Use the training dataset to create the historgram and fit the model. Predict on the test dataset and create the confusion matrix."
   ]
  },
  {
   "cell_type": "code",
   "execution_count": null,
   "id": "ca08f2e2",
   "metadata": {},
   "outputs": [],
   "source": []
  },
  {
   "cell_type": "markdown",
   "id": "d78fc80c",
   "metadata": {},
   "source": [
    "### B. Plot a Histogram\n",
    "Plotting feature histograms is a good way to start building intuition about the data. This gives us a sense of the distribution of each feature, but not how the features relate to each other.\n",
    "\n",
    "We can also use the `describe` function to look at some aggregate statistics for the \n",
    "\n",
    "Use panda's built in datafram hist to create a histogram of each feature with X.hist().\n",
    "https://pandas.pydata.org/pandas-docs/stable/reference/api/pandas.DataFrame.hist.html"
   ]
  },
  {
   "cell_type": "code",
   "execution_count": null,
   "id": "e323f86f",
   "metadata": {},
   "outputs": [],
   "source": [
    "# YOUR CODE HERE\n"
   ]
  },
  {
   "cell_type": "code",
   "execution_count": null,
   "id": "cf983e0c",
   "metadata": {},
   "outputs": [],
   "source": [
    "# SOME EXAMPLE CODE\n",
    "plt.figure(figsize=(15, 3))\n",
    "for i in range(len(columns)):\n",
    "    plt.subplot(1, 5, i+1)\n",
    "    plt.hist(np.array(X[columns[i]]))\n",
    "    plt.title(columns[i])\n",
    "plt.show()\n",
    "\n",
    "display(X.describe())"
   ]
  },
  {
   "cell_type": "markdown",
   "id": "d6b67b00",
   "metadata": {},
   "source": [
    "### B. Fit the Model (5 points)\n",
    "Use sklearn's KNN to fit a model: https://scikit-learn.org/stable/modules/generated/sklearn.neighbors.KNeighborsClassifier.html"
   ]
  },
  {
   "cell_type": "code",
   "execution_count": 2,
   "id": "507eb847",
   "metadata": {},
   "outputs": [],
   "source": [
    "# YOUR CODE HERE\n"
   ]
  },
  {
   "cell_type": "markdown",
   "id": "461e35bb",
   "metadata": {},
   "source": [
    "### C. Run Predict on the Fitted Model (5 points)\n",
    "Run predict on your fitted model"
   ]
  },
  {
   "cell_type": "code",
   "execution_count": null,
   "id": "969dd385",
   "metadata": {},
   "outputs": [],
   "source": [
    "# YOUR CODE HERE\n"
   ]
  },
  {
   "cell_type": "markdown",
   "id": "37c5f3af",
   "metadata": {},
   "source": [
    "### D. Dispaly a Confusion Matrix of the Model Performance"
   ]
  },
  {
   "cell_type": "code",
   "execution_count": null,
   "id": "e2d1d393",
   "metadata": {},
   "outputs": [],
   "source": [
    "from sklearn.metrics import ConfusionMatrixDisplay\n",
    "\n",
    "# Confusion Matrix code here"
   ]
  },
  {
   "cell_type": "markdown",
   "id": "76708a73",
   "metadata": {},
   "source": [
    "## Part 2: Build a Linear Regression Model on the Boston Housing Dataset (70 points total)"
   ]
  },
  {
   "cell_type": "markdown",
   "id": "aed39433",
   "metadata": {
    "id": "load_auto_data_set_text"
   },
   "source": [
    "### A. Load the data (10 points)\n",
    "Load the [House Prices](https://www.kaggle.com/competitions/house-prices-advanced-regression-techniques/overview) dataset from Kaggle. You may need to download the dataset and move it to your working location in order to read it in.\n"
   ]
  },
  {
   "cell_type": "code",
   "execution_count": null,
   "id": "b8670bde",
   "metadata": {},
   "outputs": [],
   "source": [
    "# YOUR CODE HERE\n",
    "\n"
   ]
  },
  {
   "cell_type": "markdown",
   "id": "cb2850d6",
   "metadata": {},
   "source": [
    "### (optional) Train/Test Split the Data (5 bonus points)\n",
    "For extra points, split into training and testing. Use the training dataset to perform EDA (exploratory data analysis) and fit the model. Predict on the test dataset and evaluate model performance."
   ]
  },
  {
   "cell_type": "code",
   "execution_count": null,
   "id": "fdf2943c",
   "metadata": {},
   "outputs": [],
   "source": []
  },
  {
   "cell_type": "markdown",
   "id": "cbe61490",
   "metadata": {},
   "source": [
    "### B. Visualize Target Variable (5 points)\n",
    "Create a histogram of the target variable, `SalesPrice`"
   ]
  },
  {
   "cell_type": "code",
   "execution_count": null,
   "id": "9d9b6d8b",
   "metadata": {},
   "outputs": [],
   "source": [
    "# YOUR CODE HERE\n"
   ]
  },
  {
   "cell_type": "markdown",
   "id": "a4864e5c",
   "metadata": {},
   "source": [
    "### C. Visualize Feature (5 points)\n",
    "Create a visualization of one feature:\n",
    "* **GrLivArea:** Above grade (ground) living area square feet"
   ]
  },
  {
   "cell_type": "code",
   "execution_count": null,
   "id": "18c54f7f",
   "metadata": {},
   "outputs": [],
   "source": [
    "# YOUR CODE HERE\n"
   ]
  },
  {
   "cell_type": "markdown",
   "id": "db06fee7",
   "metadata": {},
   "source": [
    "### D. Fit a Simple Linear Regression Model (5 points)\n",
    "Create a linear model with just one X variable input: GrLivArea."
   ]
  },
  {
   "cell_type": "code",
   "execution_count": null,
   "id": "56374f62",
   "metadata": {},
   "outputs": [],
   "source": [
    "# YOUR CODE HERE\n"
   ]
  },
  {
   "cell_type": "markdown",
   "id": "b5295fcc",
   "metadata": {},
   "source": [
    "### E. Score the Model (5 points)\n",
    "Run predict on the fitted model. Pass the predictions to the mean squared error scoring function: https://scikit-learn.org/stable/modules/generated/sklearn.metrics.mean_squared_error.html"
   ]
  },
  {
   "cell_type": "code",
   "execution_count": null,
   "id": "bcb15205",
   "metadata": {},
   "outputs": [],
   "source": [
    "# YOUR CODE HERE\n"
   ]
  },
  {
   "cell_type": "markdown",
   "id": "def6f1ad",
   "metadata": {},
   "source": [
    "### F. Plot the Fitted Line (10 points)\n",
    "Plot the X feature, , on the X axis and the Y label, SalesPrice, on the Y axis. Add the model line to the visualization."
   ]
  },
  {
   "cell_type": "code",
   "execution_count": null,
   "id": "720dbfc4",
   "metadata": {},
   "outputs": [],
   "source": [
    "# YOUR CODE HERE\n"
   ]
  },
  {
   "cell_type": "markdown",
   "id": "574e572a",
   "metadata": {},
   "source": [
    "**Question (5 points):** What is the weight and bias or your model? What is the formula?"
   ]
  },
  {
   "cell_type": "markdown",
   "id": "ad63f19f",
   "metadata": {},
   "source": [
    "*Writen answer:*\n"
   ]
  },
  {
   "cell_type": "markdown",
   "id": "e1066758",
   "metadata": {},
   "source": [
    "### G. Add More Features (20 points)\n",
    "\n",
    "The goal of this exercise is to compile a table of results -- MSE computed for 5 models:\n",
    "1. features = GrLivArea\n",
    "2. features = GrLivArea, Feature2\n",
    "3. features = GrLivArea, Feature2, Feature3\n",
    "4. features = GrLivArea, Feature2, Feature3, Feature4\n",
    "5. features = GrLivArea, Feature2, Feature3, Feature4\n",
    "\n",
    "Select 4 additional features of your personal choice."
   ]
  },
  {
   "cell_type": "code",
   "execution_count": null,
   "id": "4ae23b66",
   "metadata": {},
   "outputs": [],
   "source": [
    "# YOUR CODE HERE\n"
   ]
  },
  {
   "cell_type": "markdown",
   "id": "ae5014f6",
   "metadata": {},
   "source": [
    "**Question:** Enter your model results in the grid below"
   ]
  },
  {
   "cell_type": "markdown",
   "id": "3ebd3152",
   "metadata": {
    "id": "h0Zpx79_aQEC"
   },
   "source": [
    "*Written answer:*\n",
    "\n",
    "Model | MSE\n",
    "--- | ---\n",
    "GrLivArea | XXX\n",
    "+ Feature2 | XXX\n",
    "  + Feature3 | XXX\n",
    "  + Feature4 | XXX\n",
    "  + Feature5 | XXX"
   ]
  },
  {
   "cell_type": "code",
   "execution_count": null,
   "id": "f8eaecf1",
   "metadata": {},
   "outputs": [],
   "source": []
  }
 ],
 "metadata": {
  "kernelspec": {
   "display_name": "Python 3",
   "language": "python",
   "name": "python3"
  },
  "language_info": {
   "codemirror_mode": {
    "name": "ipython",
    "version": 3
   },
   "file_extension": ".py",
   "mimetype": "text/x-python",
   "name": "python",
   "nbconvert_exporter": "python",
   "pygments_lexer": "ipython3",
   "version": "3.8.8"
  }
 },
 "nbformat": 4,
 "nbformat_minor": 5
}
