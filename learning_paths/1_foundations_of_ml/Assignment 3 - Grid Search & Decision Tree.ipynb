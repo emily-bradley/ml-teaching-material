{
 "cells": [
  {
   "cell_type": "markdown",
   "id": "adeae694",
   "metadata": {},
   "source": [
    "# Assignment 3 - Grid Search & Decision Tree"
   ]
  },
  {
   "cell_type": "markdown",
   "id": "3c784222",
   "metadata": {},
   "source": [
    "## Part 1 - Grid Search (30 points)"
   ]
  },
  {
   "cell_type": "markdown",
   "id": "d34dfbc2",
   "metadata": {},
   "source": [
    "Select a dataset from this class and apply a grid search."
   ]
  },
  {
   "cell_type": "code",
   "execution_count": null,
   "id": "f4294701",
   "metadata": {},
   "outputs": [],
   "source": []
  },
  {
   "cell_type": "markdown",
   "id": "7a1271e7",
   "metadata": {},
   "source": [
    "*Question:* What parameters did you train over? What were your best parameters (the final parameters selected)?"
   ]
  },
  {
   "cell_type": "markdown",
   "id": "1cee4bea",
   "metadata": {},
   "source": [
    "*Answer:* "
   ]
  },
  {
   "cell_type": "markdown",
   "id": "b06afd53",
   "metadata": {},
   "source": [
    "## Part 2 - How Decision Trees Find Splits (70 points)"
   ]
  },
  {
   "cell_type": "markdown",
   "id": "ebe49fd8",
   "metadata": {},
   "source": [
    "Decision tree algorithm: CART - Classification and Regression Trees\n",
    "* Form a binary tree and minimize the error in each leaf of the tree (greed algorithm)\n",
    "* Each node represents a single input variable (x)\n",
    "* Each leaf represents an output variable (y)\n",
    "* Given new input, the tree is traversed by evaluating the specific input starting at the root node of the tree\n",
    "* Recursive binary splitting - that is, you choose a sequence of binary splits (True and False)\n",
    "* Goal: unimix the labels as we proceed down; to provide the purest possible distribution of the labels at each node\n",
    "\n",
    "\n",
    "* When the input into a node only contains a certain type of a label, it is perfectly unmixed (there is no uncertainty about that type of label).\n",
    "* When input is still mixed, we need to ask more questions\n",
    "* To build an effective tree, we must understand which questiosn to ask and when to ask them. To do that, we need to quantify how much a label helps to unmix the lables"
   ]
  },
  {
   "cell_type": "markdown",
   "id": "56dcafca",
   "metadata": {},
   "source": [
    "Decison Tree Algorithm:\n",
    "\n",
    "Step 1. Add a root to the node of the tree\n",
    "* All nodes receive a list of rows as output\n",
    "* The root will receive the entire training set\n",
    "* Each node asks a T/F question about one of the features\n",
    "\n",
    "\n",
    "Step 2. We split or partition the data into two subsets based on the T/F questions\n",
    "* We do this by finding the split with the lowest cost. This is the sum squarred error across all training samples that fall within the range (sum y-precision)^2\n",
    "* The gini index function is used to decide how 'pure' a function is (how mixed the training data assigned to each node is)\n",
    "* **Gini impurity** - a metric that can quanitfy the amount of uncertainty in a single node\n",
    "    * G = sum(pk*(1-pk))\n",
    "    * G is the gini index over all classes\n",
    "    * pk is the proportion of training instances with class k\n",
    "    * a node with all classes of the same type gives us G=0\n",
    "    * a node with a 50/50 split gives us G=0.5\n",
    "* **Information Gain** - a metric that can quantify how much a questiond reduces the gini impurity (uncertainty)\n",
    "    * Gini index calcuation for each nodes is weighted by the total number of instances in the parent node\n",
    "\n",
    "\n",
    "Step 3. The subset then becomes the input to two child nodes we add to the tree\n",
    "* we will continue dividing the data until there are no further questions to ask. At that point, we add a leaf"
   ]
  },
  {
   "cell_type": "markdown",
   "id": "401c4290",
   "metadata": {},
   "source": [
    "# Binary Classification Decision Tree - Best Split Determination\n",
    "\n",
    "We are going to implement an over simplified version of split determination for a decision tree. For this assignment you will implement the calculation of gini impurity."
   ]
  },
  {
   "cell_type": "code",
   "execution_count": 59,
   "id": "2ba7e5b1",
   "metadata": {},
   "outputs": [],
   "source": [
    "import pandas as pd\n",
    "import numpy as np\n",
    "import random"
   ]
  },
  {
   "cell_type": "markdown",
   "id": "e8446a63",
   "metadata": {},
   "source": [
    "Make up a pandas dataframe with random data"
   ]
  },
  {
   "cell_type": "code",
   "execution_count": 68,
   "id": "62eb78bd",
   "metadata": {},
   "outputs": [
    {
     "data": {
      "text/html": [
       "<div>\n",
       "<style scoped>\n",
       "    .dataframe tbody tr th:only-of-type {\n",
       "        vertical-align: middle;\n",
       "    }\n",
       "\n",
       "    .dataframe tbody tr th {\n",
       "        vertical-align: top;\n",
       "    }\n",
       "\n",
       "    .dataframe thead th {\n",
       "        text-align: right;\n",
       "    }\n",
       "</style>\n",
       "<table border=\"1\" class=\"dataframe\">\n",
       "  <thead>\n",
       "    <tr style=\"text-align: right;\">\n",
       "      <th></th>\n",
       "      <th>A</th>\n",
       "      <th>B</th>\n",
       "      <th>C</th>\n",
       "      <th>D</th>\n",
       "    </tr>\n",
       "  </thead>\n",
       "  <tbody>\n",
       "    <tr>\n",
       "      <th>0</th>\n",
       "      <td>1</td>\n",
       "      <td>0</td>\n",
       "      <td>0</td>\n",
       "      <td>0</td>\n",
       "    </tr>\n",
       "    <tr>\n",
       "      <th>1</th>\n",
       "      <td>0</td>\n",
       "      <td>1</td>\n",
       "      <td>1</td>\n",
       "      <td>1</td>\n",
       "    </tr>\n",
       "    <tr>\n",
       "      <th>2</th>\n",
       "      <td>0</td>\n",
       "      <td>1</td>\n",
       "      <td>1</td>\n",
       "      <td>0</td>\n",
       "    </tr>\n",
       "    <tr>\n",
       "      <th>3</th>\n",
       "      <td>1</td>\n",
       "      <td>1</td>\n",
       "      <td>0</td>\n",
       "      <td>0</td>\n",
       "    </tr>\n",
       "    <tr>\n",
       "      <th>4</th>\n",
       "      <td>1</td>\n",
       "      <td>0</td>\n",
       "      <td>0</td>\n",
       "      <td>0</td>\n",
       "    </tr>\n",
       "    <tr>\n",
       "      <th>...</th>\n",
       "      <td>...</td>\n",
       "      <td>...</td>\n",
       "      <td>...</td>\n",
       "      <td>...</td>\n",
       "    </tr>\n",
       "    <tr>\n",
       "      <th>95</th>\n",
       "      <td>1</td>\n",
       "      <td>0</td>\n",
       "      <td>1</td>\n",
       "      <td>0</td>\n",
       "    </tr>\n",
       "    <tr>\n",
       "      <th>96</th>\n",
       "      <td>0</td>\n",
       "      <td>1</td>\n",
       "      <td>1</td>\n",
       "      <td>1</td>\n",
       "    </tr>\n",
       "    <tr>\n",
       "      <th>97</th>\n",
       "      <td>0</td>\n",
       "      <td>0</td>\n",
       "      <td>0</td>\n",
       "      <td>1</td>\n",
       "    </tr>\n",
       "    <tr>\n",
       "      <th>98</th>\n",
       "      <td>1</td>\n",
       "      <td>0</td>\n",
       "      <td>0</td>\n",
       "      <td>0</td>\n",
       "    </tr>\n",
       "    <tr>\n",
       "      <th>99</th>\n",
       "      <td>1</td>\n",
       "      <td>1</td>\n",
       "      <td>1</td>\n",
       "      <td>1</td>\n",
       "    </tr>\n",
       "  </tbody>\n",
       "</table>\n",
       "<p>100 rows × 4 columns</p>\n",
       "</div>"
      ],
      "text/plain": [
       "    A  B  C  D\n",
       "0   1  0  0  0\n",
       "1   0  1  1  1\n",
       "2   0  1  1  0\n",
       "3   1  1  0  0\n",
       "4   1  0  0  0\n",
       ".. .. .. .. ..\n",
       "95  1  0  1  0\n",
       "96  0  1  1  1\n",
       "97  0  0  0  1\n",
       "98  1  0  0  0\n",
       "99  1  1  1  1\n",
       "\n",
       "[100 rows x 4 columns]"
      ]
     },
     "execution_count": 68,
     "metadata": {},
     "output_type": "execute_result"
    }
   ],
   "source": [
    "X = pd.DataFrame(np.random.randint(0,2,size=(100, 4)), columns=list('ABCD'))\n",
    "X"
   ]
  },
  {
   "cell_type": "code",
   "execution_count": 7,
   "id": "3682e64d",
   "metadata": {},
   "outputs": [
    {
     "data": {
      "text/html": [
       "<div>\n",
       "<style scoped>\n",
       "    .dataframe tbody tr th:only-of-type {\n",
       "        vertical-align: middle;\n",
       "    }\n",
       "\n",
       "    .dataframe tbody tr th {\n",
       "        vertical-align: top;\n",
       "    }\n",
       "\n",
       "    .dataframe thead th {\n",
       "        text-align: right;\n",
       "    }\n",
       "</style>\n",
       "<table border=\"1\" class=\"dataframe\">\n",
       "  <thead>\n",
       "    <tr style=\"text-align: right;\">\n",
       "      <th></th>\n",
       "      <th>Y</th>\n",
       "    </tr>\n",
       "  </thead>\n",
       "  <tbody>\n",
       "    <tr>\n",
       "      <th>0</th>\n",
       "      <td>1</td>\n",
       "    </tr>\n",
       "    <tr>\n",
       "      <th>1</th>\n",
       "      <td>0</td>\n",
       "    </tr>\n",
       "    <tr>\n",
       "      <th>2</th>\n",
       "      <td>1</td>\n",
       "    </tr>\n",
       "    <tr>\n",
       "      <th>3</th>\n",
       "      <td>1</td>\n",
       "    </tr>\n",
       "    <tr>\n",
       "      <th>4</th>\n",
       "      <td>0</td>\n",
       "    </tr>\n",
       "    <tr>\n",
       "      <th>...</th>\n",
       "      <td>...</td>\n",
       "    </tr>\n",
       "    <tr>\n",
       "      <th>95</th>\n",
       "      <td>1</td>\n",
       "    </tr>\n",
       "    <tr>\n",
       "      <th>96</th>\n",
       "      <td>0</td>\n",
       "    </tr>\n",
       "    <tr>\n",
       "      <th>97</th>\n",
       "      <td>0</td>\n",
       "    </tr>\n",
       "    <tr>\n",
       "      <th>98</th>\n",
       "      <td>1</td>\n",
       "    </tr>\n",
       "    <tr>\n",
       "      <th>99</th>\n",
       "      <td>0</td>\n",
       "    </tr>\n",
       "  </tbody>\n",
       "</table>\n",
       "<p>100 rows × 1 columns</p>\n",
       "</div>"
      ],
      "text/plain": [
       "    Y\n",
       "0   1\n",
       "1   0\n",
       "2   1\n",
       "3   1\n",
       "4   0\n",
       ".. ..\n",
       "95  1\n",
       "96  0\n",
       "97  0\n",
       "98  1\n",
       "99  0\n",
       "\n",
       "[100 rows x 1 columns]"
      ]
     },
     "execution_count": 7,
     "metadata": {},
     "output_type": "execute_result"
    }
   ],
   "source": [
    "y = pd.DataFrame(np.random.randint(0,2,size=(100, 1)), columns=['Y'])\n",
    "y"
   ]
  },
  {
   "cell_type": "markdown",
   "id": "e22b9eb7",
   "metadata": {},
   "source": [
    "Implement gini impurity to select which column to split on\n",
    "\n",
    "gini impurity = 1 - p(class1)^2 - p(class2)^2"
   ]
  },
  {
   "cell_type": "code",
   "execution_count": 78,
   "id": "67d191b8",
   "metadata": {},
   "outputs": [],
   "source": [
    "def calculate_gini_impurity(x_col, y_target):\n",
    "    # YOUR CODE HERE\n",
    "    # calculate the proportion of x_feature to y_target using the feature split\n",
    "    # replace the random function with your gini impurity calculation\n",
    "    gini = random.uniform(0, 1)\n",
    "    \n",
    "    return gini"
   ]
  },
  {
   "cell_type": "code",
   "execution_count": 79,
   "id": "1bce4f5f",
   "metadata": {},
   "outputs": [],
   "source": [
    "# note! this code assumes all input data is either 0 or 1\n",
    "def determine_best_split(x_features, y_target):\n",
    "    print(\"Determining best split for your dataset...\\n\")\n",
    "    # For all features, evaluate reduction in impurity at each split possiblity\n",
    "    # Return the best split\n",
    "    best_split = None\n",
    "    current_gini_impurity = 1\n",
    "    # 1. Loop over all of the the possible feature splits\n",
    "    for idx, col_name in enumerate(x_features):\n",
    "        print(f\"Evaluating column {col_name}\")\n",
    "        # 2. Calculate the gini of the feature\n",
    "        split_gini_impurity = calculate_gini_impurity(x_features[col_name], y_target)\n",
    "        print(f\"    Impurity: {split_gini_impurity}\")\n",
    "        # 3. Update the best split if the gini impurity is lower\n",
    "        if split_gini_impurity < current_gini_impurity:\n",
    "            current_gini_impurity = split_gini_impurity\n",
    "            best_split = col_name\n",
    "    \n",
    "    print(f\"\\nThe best column to split on is for the dataset is {best_split} with an impurity of {current_gini_impurity}\")\n",
    "    \n",
    "    return best_split"
   ]
  },
  {
   "cell_type": "code",
   "execution_count": 80,
   "id": "305cffcf",
   "metadata": {},
   "outputs": [
    {
     "name": "stdout",
     "output_type": "stream",
     "text": [
      "Determining best split for your dataset...\n",
      "\n",
      "Evaluating column A\n",
      "    Impurity: 0.9073644394376177\n",
      "Evaluating column B\n",
      "    Impurity: 0.6433790921950571\n",
      "Evaluating column C\n",
      "    Impurity: 0.46198207974210714\n",
      "Evaluating column D\n",
      "    Impurity: 0.4803703793848917\n",
      "\n",
      "The best column to split on is for the dataset is C with an impurity of 0.46198207974210714\n"
     ]
    }
   ],
   "source": [
    "best_split_col = determine_best_split(X, y)"
   ]
  },
  {
   "cell_type": "code",
   "execution_count": null,
   "id": "aba4a334",
   "metadata": {},
   "outputs": [],
   "source": []
  },
  {
   "cell_type": "markdown",
   "id": "0fc54eb7",
   "metadata": {},
   "source": [
    "*Question:* At the moment, our dataset only contains features with the vaues 0 and 1. Theoretically, how might this algorithm be extended to handle a column with three distinct values: 0, 1, and 2?"
   ]
  },
  {
   "cell_type": "markdown",
   "id": "c989f497",
   "metadata": {},
   "source": [
    "*Answer:* "
   ]
  },
  {
   "cell_type": "code",
   "execution_count": null,
   "id": "3e077ac4",
   "metadata": {},
   "outputs": [],
   "source": []
  }
 ],
 "metadata": {
  "kernelspec": {
   "display_name": "Python 3",
   "language": "python",
   "name": "python3"
  },
  "language_info": {
   "codemirror_mode": {
    "name": "ipython",
    "version": 3
   },
   "file_extension": ".py",
   "mimetype": "text/x-python",
   "name": "python",
   "nbconvert_exporter": "python",
   "pygments_lexer": "ipython3",
   "version": "3.8.8"
  }
 },
 "nbformat": 4,
 "nbformat_minor": 5
}
