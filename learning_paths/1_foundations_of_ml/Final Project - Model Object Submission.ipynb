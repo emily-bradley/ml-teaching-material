{
 "cells": [
  {
   "cell_type": "markdown",
   "id": "3bc6e68b",
   "metadata": {},
   "source": [
    "# Final Model Object Submission"
   ]
  },
  {
   "attachments": {},
   "cell_type": "markdown",
   "id": "c14fad5c",
   "metadata": {},
   "source": [
    "Train a model object over this dataset: https://www.kaggle.com/datasets/kartik2112/fraud-detection/data![image.png](attachment:image.png)\n",
    "\n",
    "Note! Use only the `fraudTrain.csv`\n",
    "\n",
    "Student models will be compared across the test set for performance."
   ]
  },
  {
   "cell_type": "code",
   "execution_count": 1,
   "id": "e24250a2",
   "metadata": {},
   "outputs": [],
   "source": [
    "### YOUR CODE HERE\n"
   ]
  },
  {
   "cell_type": "code",
   "execution_count": null,
   "id": "88d2d4a1",
   "metadata": {},
   "outputs": [],
   "source": []
  },
  {
   "cell_type": "markdown",
   "id": "28bb5b3f",
   "metadata": {},
   "source": [
    "#### Save the Model Object\n",
    "You will submit the saved model object, along with the code you used to train it"
   ]
  },
  {
   "cell_type": "code",
   "execution_count": null,
   "id": "294a8ac5",
   "metadata": {},
   "outputs": [],
   "source": [
    "from joblib import dump, load\n",
    "\n",
    "dump(best_estimator, 'my_awesome_model.joblib')"
   ]
  },
  {
   "cell_type": "markdown",
   "id": "f931b2a1",
   "metadata": {},
   "source": [
    "## Validate Reading the Saved Model Object"
   ]
  },
  {
   "cell_type": "code",
   "execution_count": null,
   "id": "a678b617",
   "metadata": {},
   "outputs": [],
   "source": [
    "from joblib import dump, load\n",
    "\n",
    "load(best_estimator, 'my_awesome_model.joblib')"
   ]
  }
 ],
 "metadata": {
  "kernelspec": {
   "display_name": "Python 3",
   "language": "python",
   "name": "python3"
  },
  "language_info": {
   "codemirror_mode": {
    "name": "ipython",
    "version": 3
   },
   "file_extension": ".py",
   "mimetype": "text/x-python",
   "name": "python",
   "nbconvert_exporter": "python",
   "pygments_lexer": "ipython3",
   "version": "3.8.8"
  }
 },
 "nbformat": 4,
 "nbformat_minor": 5
}
