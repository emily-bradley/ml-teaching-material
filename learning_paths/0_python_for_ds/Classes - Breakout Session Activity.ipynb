{
 "cells": [
  {
   "cell_type": "markdown",
   "metadata": {
    "application/vnd.databricks.v1+cell": {
     "cellMetadata": {},
     "inputWidgets": {},
     "nuid": "c8572eba-e11e-4391-a217-aacc8dccb0ac",
     "showTitle": false,
     "title": ""
    }
   },
   "source": [
    "%md\n",
    "# Classes - Breakout Activities\n",
    "\n",
    "## Activity 2 -  Class Practice"
   ]
  },
  {
   "cell_type": "markdown",
   "metadata": {
    "application/vnd.databricks.v1+cell": {
     "cellMetadata": {},
     "inputWidgets": {},
     "nuid": "25723b80-8ad6-4424-b59f-70c362236700",
     "showTitle": false,
     "title": ""
    }
   },
   "source": [
    "## 1-A Deck of Cards\n",
    "\n",
    "1\\. Please create a class called **PlayingCard**. (20 points)<br>\n",
    "This class should have: <br>\n",
    "- An attribute, \"rank\" that takes a value of \"2\", \"3\", \"4\", \"5\", \"6\", \"7\", \"8\", \"9\", \"10\", \"J\", \"Q\", \"K\", or \"A\"<br>\n",
    "- An attribute, \"suit\" that takes a value of \"♠\" \"♥\" \"♦\" or \"♣\". (If you don't know how to make these characters you can cut and paste from this block)<br>  \n",
    "- An __init__ method that:\n",
    "    -  Accepts as parameters a specific rank (as a string) and suit (as a string).\n",
    "- (templated) The ```__str__``` and ```__repr__``` methods to display the cards correctly (as shown below in the examples)\n",
    "```\n",
    "    def __str__(self):\n",
    "        return f\"{self.rank} of {self.suit}\"\n",
    "        \n",
    "    def __repr__(self):\n",
    "        return f\"{self.rank} of {self.suit}\"\n",
    "```\n",
    "\n",
    "2\\. Please create a class called **Deck**. (30 points)<br>\n",
    "This class should have: <br>\n",
    "- An attribute, \"cards\", that holds a list of PlayingCard objects. <br>\n",
    "- An __init__ method that: \n",
    "\n",
    "    - By default stores a full deck of 52 playing card (with proper numbers and suits) in the \"cards\" list. Each cards will be  of the class PlayingCard above<br>\n",
    "    - Allows the user to specify a specific suit of the 4 (\"♠\" \"♥\" \"♦\" or \"♣\"). In this case, the program should only populate the deck with the 13 cards of that suit.\n",
    "    - After the cards object is initialized, call the \"shuffle_deck()\" function (below).<br>\n",
    "    \n",
    "- A \"shuffle_deck()\" method that randomly changes the order of cards in the deck.<br>\n",
    "    - Import the random library to 'shuffle' the deck: https://docs.python.org/3.9/library/random.html#random.shuffle\n",
    "    - Please import it at the top of your block instead of inside the class / methods.\n",
    "\n",
    "- A \"deal_card(card_count)\" method that:\n",
    "    - **Removes** the first `card_count` cards from the deck and **returns** them as a **list**.<br>\n",
    "    - If the deck doesnt have the `card_count` number of cards left to deal, **return** the message `Cannot deal <x> cards. The deck only has <y> cards left!` (do not raise an exception or print inside the method).\n",
    "    \n",
    "\n",
    "Example:\n",
    "```\n",
    ">>> card1 = PlayingCard(\"A\", \"♠\")\n",
    ">>> print(card1)\n",
    "A of ♠\n",
    "\n",
    ">>> card2 = PlayingCard(\"15\", \"♠\")\n",
    "< error stack >\n",
    "TypeError: Invalid rank!\n",
    "\n",
    ">>> card2 = PlayingCard(\"10\", \"bunnies\")\n",
    "< error stack >\n",
    "TypeError: Invalid suit!\n",
    "\n",
    ">>> deck1 = Deck()\n",
    ">>> print(deck1.cards)\n",
    "[K of ♠, A of ♥, 6 of ♣, 7 of ♠, J of ♦, 6 of ♠, Q of ♦, 5 of ♣, 10 of ♦, 2 of ♥, 8 of ♣, 8 of ♦, 4 of ♦, 7 of ♦, 3 of ♣, K of ♣, 9 of ♠, 4 of ♥, 10 of ♥, 10 of ♣, A of ♠, 9 of ♥, 7 of ♥, 9 of ♣, 7 of ♣, 5 of ♠, 3 of ♦, 10 of ♠, Q of ♥, J of ♣, 5 of ♥, K of ♥, K of ♦, 2 of ♠, 8 of ♠, Q of ♣, 3 of ♠, 6 of ♥, 6 of ♦, A of ♣, A of ♦, 3 of ♥, J of ♠, 4 of ♣, 5 of ♦, 2 of ♦, 4 of ♠, 2 of ♣, Q of ♠, J of ♥, 8 of ♥, 9 of ♦] \n",
    "\n",
    ">>> deck2 = Deck('♠')\n",
    ">>> deck2.shuffle_deck()\n",
    ">>> deck2.cards\n",
    "[A of ♠, 10 of ♠, 3 of ♠, 7 of ♠, 5 of ♠, 4 of ♠, 8 of ♠, J of ♠, 9 of ♠, Q of ♠, 6 of ♠, 2 of ♠, K of ♠]\n",
    "\n",
    ">>> hand = deck2.deal_card(7)\n",
    ">>> hand\n",
    "[A of ♠, 10 of ♠, 3 of ♠, 7 of ♠, 5 of ♠, 4 of ♠, 8 of ♠]\n",
    "\n",
    ">>> deck2.deal_card(7)\n",
    "'Cannot deal 7 cards. The deck only has 6 cards left!'\n",
    "```"
   ]
  },
  {
   "cell_type": "code",
   "execution_count": 0,
   "metadata": {
    "application/vnd.databricks.v1+cell": {
     "cellMetadata": {
      "byteLimit": 2048000,
      "rowLimit": 10000
     },
     "inputWidgets": {},
     "nuid": "08d679fc-703b-4f64-8f67-34008eeff126",
     "showTitle": false,
     "title": ""
    }
   },
   "outputs": [],
   "source": []
  }
 ],
 "metadata": {
  "application/vnd.databricks.v1+notebook": {
   "dashboards": [],
   "language": "python",
   "notebookMetadata": {
    "pythonIndentUnit": 4
   },
   "notebookName": "Classes - Breakout Session Activity",
   "widgets": {}
  },
  "kernelspec": {
   "display_name": "Python 3",
   "language": "python",
   "name": "python3"
  },
  "language_info": {
   "codemirror_mode": {
    "name": "ipython",
    "version": 3
   },
   "file_extension": ".py",
   "mimetype": "text/x-python",
   "name": "python",
   "nbconvert_exporter": "python",
   "pygments_lexer": "ipython3",
   "version": "3.8.8"
  }
 },
 "nbformat": 4,
 "nbformat_minor": 0
}
