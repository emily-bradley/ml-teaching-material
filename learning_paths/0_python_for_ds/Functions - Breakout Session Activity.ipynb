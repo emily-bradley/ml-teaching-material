{
 "cells": [
  {
   "cell_type": "markdown",
   "metadata": {
    "application/vnd.databricks.v1+cell": {
     "cellMetadata": {},
     "inputWidgets": {},
     "nuid": "e9a9017d-3553-465c-b818-a098273710f9",
     "showTitle": false,
     "title": ""
    }
   },
   "source": [
    "# Functions - Breakout Activities\n",
    "\n",
    "## Activity 1 -  Function Practice\n"
   ]
  },
  {
   "cell_type": "markdown",
   "metadata": {
    "application/vnd.databricks.v1+cell": {
     "cellMetadata": {},
     "inputWidgets": {},
     "nuid": "dd57b5a1-0ac8-4961-a5e6-bf706a4ea5ea",
     "showTitle": false,
     "title": ""
    }
   },
   "source": [
    "### 1-A\n",
    "\n",
    "You are performing an analysis of text from different authors.  As part of this, you decide to write some functions that assign numerical scores to words.\n",
    "\n",
    "Create three functions:\n",
    "\n",
    "1. The first should be called \"doubly\".  It should take in a word and return the number of repeated letters (e.g. oo or ee) in the word.\n",
    "\n",
    "2. The second should be called \"vowel_density\".  It should take in a word and a vowel and return the number of time that vowel appears in the word, divided by the total number of letters.\n",
    "\n",
    "3. The third function should be one you design to create a score for a word.\n",
    "\n",
    "\n",
    "Sample Output:\n",
    "```python\n",
    "print(doubly('beer'))\n",
    "print(vowel_density('beer', 'e'))\n",
    "1\n",
    "0.5\n",
    "```\n"
   ]
  },
  {
   "cell_type": "code",
   "execution_count": 0,
   "metadata": {
    "application/vnd.databricks.v1+cell": {
     "cellMetadata": {
      "byteLimit": 2048000,
      "rowLimit": 10000
     },
     "inputWidgets": {},
     "nuid": "fda4b508-c798-494d-ae6c-0ff6c637fdd4",
     "showTitle": false,
     "title": ""
    }
   },
   "outputs": [
    {
     "output_type": "stream",
     "name": "stdout",
     "output_type": "stream",
     "text": [
      "Out[2]: True"
     ]
    }
   ],
   "source": [
    "my_test_word = 'beer'\n",
    "'ee' in my_test_word"
   ]
  },
  {
   "cell_type": "code",
   "execution_count": 0,
   "metadata": {
    "application/vnd.databricks.v1+cell": {
     "cellMetadata": {},
     "inputWidgets": {},
     "nuid": "a5758399-8802-4181-97a7-8657e688ea3b",
     "showTitle": false,
     "title": ""
    }
   },
   "outputs": [],
   "source": [
    "def doubly(chars):\n",
    "    volew_doubles = ['aa', 'ee', 'ii']\n",
    "    if volew_doubles in chars:"
   ]
  },
  {
   "cell_type": "code",
   "execution_count": 0,
   "metadata": {
    "application/vnd.databricks.v1+cell": {
     "cellMetadata": {},
     "inputWidgets": {},
     "nuid": "46bc996e-8390-43e4-b163-35cb735249ad",
     "showTitle": false,
     "title": ""
    }
   },
   "outputs": [
    {
     "output_type": "display_data",
     "data": {
      "text/plain": [
       "\u001B[0;31m---------------------------------------------------------------------------\u001B[0m\n",
       "\u001B[0;31mNameError\u001B[0m                                 Traceback (most recent call last)\n",
       "\u001B[0;32m<ipython-input-1-6d2986248963>\u001B[0m in \u001B[0;36m<module>\u001B[0;34m\u001B[0m\n",
       "\u001B[0;32m----> 1\u001B[0;31m \u001B[0mprint\u001B[0m\u001B[0;34m(\u001B[0m\u001B[0mdoubly\u001B[0m\u001B[0;34m(\u001B[0m\u001B[0;34m'beer'\u001B[0m\u001B[0;34m)\u001B[0m\u001B[0;34m)\u001B[0m\u001B[0;34m\u001B[0m\u001B[0;34m\u001B[0m\u001B[0m\n",
       "\u001B[0m\u001B[1;32m      2\u001B[0m \u001B[0mprint\u001B[0m\u001B[0;34m(\u001B[0m\u001B[0mvowel_density\u001B[0m\u001B[0;34m(\u001B[0m\u001B[0;34m'beer'\u001B[0m\u001B[0;34m,\u001B[0m \u001B[0;34m'e'\u001B[0m\u001B[0;34m)\u001B[0m\u001B[0;34m)\u001B[0m\u001B[0;34m\u001B[0m\u001B[0;34m\u001B[0m\u001B[0m\n",
       "\n",
       "\u001B[0;31mNameError\u001B[0m: name 'doubly' is not defined"
      ]
     },
     "metadata": {
      "application/vnd.databricks.v1+output": {
       "arguments": {},
       "data": "\u001B[0;31m---------------------------------------------------------------------------\u001B[0m\n\u001B[0;31mNameError\u001B[0m                                 Traceback (most recent call last)\n\u001B[0;32m<ipython-input-1-6d2986248963>\u001B[0m in \u001B[0;36m<module>\u001B[0;34m\u001B[0m\n\u001B[0;32m----> 1\u001B[0;31m \u001B[0mprint\u001B[0m\u001B[0;34m(\u001B[0m\u001B[0mdoubly\u001B[0m\u001B[0;34m(\u001B[0m\u001B[0;34m'beer'\u001B[0m\u001B[0;34m)\u001B[0m\u001B[0;34m)\u001B[0m\u001B[0;34m\u001B[0m\u001B[0;34m\u001B[0m\u001B[0m\n\u001B[0m\u001B[1;32m      2\u001B[0m \u001B[0mprint\u001B[0m\u001B[0;34m(\u001B[0m\u001B[0mvowel_density\u001B[0m\u001B[0;34m(\u001B[0m\u001B[0;34m'beer'\u001B[0m\u001B[0;34m,\u001B[0m \u001B[0;34m'e'\u001B[0m\u001B[0;34m)\u001B[0m\u001B[0;34m)\u001B[0m\u001B[0;34m\u001B[0m\u001B[0;34m\u001B[0m\u001B[0m\n\n\u001B[0;31mNameError\u001B[0m: name 'doubly' is not defined",
       "errorSummary": "<span class='ansi-red-fg'>NameError</span>: name 'doubly' is not defined",
       "errorTraceType": "ansi",
       "metadata": {},
       "type": "ipynbError"
      }
     },
     "output_type": "display_data"
    }
   ],
   "source": [
    "print(doubly('beer'))\n",
    "print(vowel_density('beer', 'e'))"
   ]
  },
  {
   "cell_type": "markdown",
   "metadata": {
    "application/vnd.databricks.v1+cell": {
     "cellMetadata": {},
     "inputWidgets": {},
     "nuid": "91e63999-6bb1-4ce7-a432-2890f11ee2bf",
     "showTitle": false,
     "title": ""
    }
   },
   "source": [
    "Below, you will see some tests for the functions you are writing.\n",
    "\n",
    "Note, a good practice is to write these tests *first*, before you attempt to write your function.  This is part of a process that developers call *test-driven development*."
   ]
  },
  {
   "cell_type": "code",
   "execution_count": 0,
   "metadata": {
    "application/vnd.databricks.v1+cell": {
     "cellMetadata": {},
     "inputWidgets": {},
     "nuid": "53b64256-380b-4974-b8d0-956f1c71402a",
     "showTitle": false,
     "title": ""
    }
   },
   "outputs": [],
   "source": [
    "assert(doubly('beer') == 1)\n",
    "assert(vowel_density('beer','e') == 0.5)"
   ]
  },
  {
   "cell_type": "markdown",
   "metadata": {
    "application/vnd.databricks.v1+cell": {
     "cellMetadata": {},
     "inputWidgets": {},
     "nuid": "ac982048-96d7-4c5c-a555-59bf1aa660e1",
     "showTitle": false,
     "title": ""
    }
   },
   "source": [
    "### 1-B"
   ]
  },
  {
   "cell_type": "markdown",
   "metadata": {
    "application/vnd.databricks.v1+cell": {
     "cellMetadata": {},
     "inputWidgets": {},
     "nuid": "81b9754a-6a48-4a66-8f5c-df98daed81db",
     "showTitle": false,
     "title": ""
    }
   },
   "source": [
    "Because your functions are objects, they can serve as inputs to other functions!  Create a new function, called \"best_word()\".  This function should take two parameters.\n",
    "1. The first parameter will be a function.  The argument you pass for the parameter will be one of the functions you wrote above.\n",
    "2. The second parameter will be a list of words.\n",
    "\n",
    "Your function should generate a score for each word using the first parameter and then output the word with the highest score.\n",
    "\n",
    "If this is unclear, see the sample output below:\n",
    "```python\n",
    "best_word(vowelly, ['beer', 'balloon'])\n",
    "beer\n",
    "best_word(doubly, ['beer', 'balloon'])\n",
    "balloon\n",
    "```"
   ]
  },
  {
   "cell_type": "code",
   "execution_count": 0,
   "metadata": {
    "application/vnd.databricks.v1+cell": {
     "cellMetadata": {},
     "inputWidgets": {},
     "nuid": "20d2e39f-d3d2-43d8-b70e-c649dc79a597",
     "showTitle": false,
     "title": ""
    },
    "collapsed": true
   },
   "outputs": [],
   "source": [
    "### Functions as Objects - Create a function that takes functions"
   ]
  }
 ],
 "metadata": {
  "anaconda-cloud": {},
  "application/vnd.databricks.v1+notebook": {
   "dashboards": [],
   "language": "python",
   "notebookMetadata": {
    "pythonIndentUnit": 4
   },
   "notebookName": "Functions - Breakout Session Activity",
   "widgets": {}
  },
  "kernelspec": {
   "display_name": "Python 3",
   "language": "python",
   "name": "python3"
  },
  "language_info": {
   "codemirror_mode": {
    "name": "ipython",
    "version": 3
   },
   "file_extension": ".py",
   "mimetype": "text/x-python",
   "name": "python",
   "nbconvert_exporter": "python",
   "pygments_lexer": "ipython3",
   "version": "3.8.8"
  },
  "widgets": {
   "state": {},
   "version": "1.1.2"
  }
 },
 "nbformat": 4,
 "nbformat_minor": 0
}
