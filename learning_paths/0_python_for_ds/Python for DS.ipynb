{
 "cells": [
  {
   "cell_type": "markdown",
   "id": "745f7011",
   "metadata": {},
   "source": [
    "0. git basics\n",
    "\n",
    "1. Jupyter Notebooks\n",
    "\n",
    "2. Getting Set up with Databricks\n",
    "\n",
    "3. Python Basics (review)\n",
    "\n",
    "4. Python Best Practices & Resources\n",
    "\n",
    "5. Connecting to Data Sources with Python\n",
    "\n",
    "6. Data Wrangling: Pandas, Dataframes, and Manipulations\n",
    "\n",
    "7. Numpy\n",
    "\n",
    "8. Data Visualizations with Python\n",
    "\n",
    "9. Put it all together\n",
    "\n",
    "(advanced learning: object oriented programming)"
   ]
  },
  {
   "cell_type": "code",
   "execution_count": null,
   "id": "7d67cb92",
   "metadata": {},
   "outputs": [],
   "source": []
  }
 ],
 "metadata": {
  "kernelspec": {
   "display_name": "Python 3",
   "language": "python",
   "name": "python3"
  },
  "language_info": {
   "codemirror_mode": {
    "name": "ipython",
    "version": 3
   },
   "file_extension": ".py",
   "mimetype": "text/x-python",
   "name": "python",
   "nbconvert_exporter": "python",
   "pygments_lexer": "ipython3",
   "version": "3.8.8"
  }
 },
 "nbformat": 4,
 "nbformat_minor": 5
}
