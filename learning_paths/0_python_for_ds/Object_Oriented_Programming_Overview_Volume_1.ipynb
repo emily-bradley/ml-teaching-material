{
 "cells": [
  {
   "cell_type": "markdown",
   "metadata": {
    "application/vnd.databricks.v1+cell": {
     "cellMetadata": {},
     "inputWidgets": {},
     "nuid": "b994bbc4-bad4-4193-9eb8-e0fa20c02388",
     "showTitle": false,
     "title": ""
    },
    "pycharm": {
     "name": "#%% md\n"
    }
   },
   "source": [
    "# Object Oriented Programming Introduction\n",
    "## Volume 1: Functions and Classes"
   ]
  },
  {
   "cell_type": "markdown",
   "metadata": {
    "application/vnd.databricks.v1+cell": {
     "cellMetadata": {},
     "inputWidgets": {},
     "nuid": "84d9534c-7a17-46d5-9083-6dba354d9614",
     "showTitle": false,
     "title": ""
    },
    "pycharm": {
     "name": "#%% md\n"
    }
   },
   "source": [
    "Object Oriented Programming (OOP) is a paradigm of programming in which information is represented as objects that interact with each other. It can be contrasted to Functional Programming (often employed in scripting), which manipulates information within functions. OOP enables us to create objects that can represent real-world entities. The OOP paradigm is important for Data Science because it provides a lends itself well to the simulation of real-world events. In this notebook, we will walk through the high level basics of OOP."
   ]
  },
  {
   "cell_type": "markdown",
   "metadata": {
    "application/vnd.databricks.v1+cell": {
     "cellMetadata": {},
     "inputWidgets": {},
     "nuid": "14d8719e-6729-4658-8240-1d976346a060",
     "showTitle": false,
     "title": ""
    },
    "pycharm": {
     "name": "#%% md\n"
    }
   },
   "source": [
    "Assume you know the basics of:\n",
    "* objects\n",
    "* types\n",
    "* variables\n",
    "* control flow"
   ]
  },
  {
   "cell_type": "code",
   "execution_count": 0,
   "metadata": {
    "application/vnd.databricks.v1+cell": {
     "cellMetadata": {
      "byteLimit": 2048000,
      "rowLimit": 10000
     },
     "inputWidgets": {},
     "nuid": "d6b5e5cc-10f0-4076-8935-6d320d828790",
     "showTitle": false,
     "title": ""
    },
    "pycharm": {
     "name": "#%%\n"
    }
   },
   "outputs": [],
   "source": [
    "# imports"
   ]
  },
  {
   "cell_type": "markdown",
   "metadata": {
    "application/vnd.databricks.v1+cell": {
     "cellMetadata": {},
     "inputWidgets": {},
     "nuid": "a7f240d3-dcb1-48d8-ae88-5d25a5cf44e5",
     "showTitle": false,
     "title": ""
    },
    "pycharm": {
     "name": "#%% md\n"
    }
   },
   "source": [
    "## Part 1: Functions"
   ]
  },
  {
   "cell_type": "markdown",
   "metadata": {
    "application/vnd.databricks.v1+cell": {
     "cellMetadata": {},
     "inputWidgets": {},
     "nuid": "dffa8ba4-5d84-4fda-8776-e5ddb546c7b6",
     "showTitle": false,
     "title": ""
    },
    "pycharm": {
     "name": "#%% md\n"
    }
   },
   "source": [
    "### 1a - Functions"
   ]
  },
  {
   "cell_type": "markdown",
   "metadata": {
    "application/vnd.databricks.v1+cell": {
     "cellMetadata": {},
     "inputWidgets": {},
     "nuid": "3d405e94-e7b0-457e-98fe-7845f24e0eba",
     "showTitle": false,
     "title": ""
    },
    "pycharm": {
     "name": "#%% md\n"
    }
   },
   "source": [
    "Functions are defined with the `def` keyword. Code inside the function is indented. Executing the cell block *defines* the function for use but does not execute the code until the function is *called*."
   ]
  },
  {
   "cell_type": "code",
   "execution_count": 0,
   "metadata": {
    "application/vnd.databricks.v1+cell": {
     "cellMetadata": {
      "byteLimit": 2048000,
      "rowLimit": 10000
     },
     "inputWidgets": {},
     "nuid": "37717ec2-02ed-47c5-aeea-7fe94e9b5b7f",
     "showTitle": false,
     "title": ""
    },
    "pycharm": {
     "name": "#%%\n"
    }
   },
   "outputs": [],
   "source": [
    "def say_hello_function():\n",
    "    print(\"Hello!\")"
   ]
  },
  {
   "cell_type": "code",
   "execution_count": 0,
   "metadata": {
    "application/vnd.databricks.v1+cell": {
     "cellMetadata": {
      "byteLimit": 2048000,
      "rowLimit": 10000
     },
     "inputWidgets": {},
     "nuid": "5c009081-74ff-4987-a90c-53e4065ebabe",
     "showTitle": false,
     "title": ""
    },
    "pycharm": {
     "name": "#%%\n"
    }
   },
   "outputs": [
    {
     "name": "stdout",
     "output_type": "stream",
     "text": [
      "Hello!\n"
     ]
    }
   ],
   "source": [
    "# call the function whenever we want and as often as we want\n",
    "say_hello_function()"
   ]
  },
  {
   "cell_type": "markdown",
   "metadata": {
    "application/vnd.databricks.v1+cell": {
     "cellMetadata": {},
     "inputWidgets": {},
     "nuid": "523e7b6d-3768-41a0-8414-0a1803d2b339",
     "showTitle": false,
     "title": ""
    },
    "pycharm": {
     "name": "#%% md\n"
    }
   },
   "source": [
    "Parameters can be any object, including another function."
   ]
  },
  {
   "cell_type": "code",
   "execution_count": 0,
   "metadata": {
    "application/vnd.databricks.v1+cell": {
     "cellMetadata": {
      "byteLimit": 2048000,
      "rowLimit": 10000
     },
     "inputWidgets": {},
     "nuid": "8c620d09-77a1-48e8-a951-78ee978edb13",
     "showTitle": false,
     "title": ""
    },
    "pycharm": {
     "name": "#%%\n"
    }
   },
   "outputs": [
    {
     "name": "stdout",
     "output_type": "stream",
     "text": [
      "Hello Emily!\n"
     ]
    }
   ],
   "source": [
    "def say_hello_function(name):\n",
    "    print(\"Hello \" + name + \"!\")\n",
    "    \n",
    "say_hello_function(\"Emily\")"
   ]
  },
  {
   "cell_type": "markdown",
   "metadata": {
    "application/vnd.databricks.v1+cell": {
     "cellMetadata": {},
     "inputWidgets": {},
     "nuid": "5acc5c71-fa03-47fa-a4b8-dd84760665d5",
     "showTitle": false,
     "title": ""
    },
    "pycharm": {
     "name": "#%% md\n"
    }
   },
   "source": [
    "Functions can accept parameters in the function definition."
   ]
  },
  {
   "cell_type": "code",
   "execution_count": 0,
   "metadata": {
    "application/vnd.databricks.v1+cell": {
     "cellMetadata": {
      "byteLimit": 2048000,
      "rowLimit": 10000
     },
     "inputWidgets": {},
     "nuid": "99f8e0e4-e982-4611-9e0b-4d0e50ef22fe",
     "showTitle": false,
     "title": ""
    },
    "pycharm": {
     "name": "#%%\n"
    }
   },
   "outputs": [],
   "source": [
    "def day_type(temp):\n",
    "    if temp >= 85:\n",
    "        return \"hot!\"\n",
    "    elif temp >= 75 and temp < 85:\n",
    "        return \"pretty warm\"\n",
    "    elif temp >= 50 and temp < 75:\n",
    "        return \"temperate is cool\"\n",
    "    else:\n",
    "        return \"may be cold.\""
   ]
  },
  {
   "cell_type": "code",
   "execution_count": 0,
   "metadata": {
    "application/vnd.databricks.v1+cell": {
     "cellMetadata": {
      "byteLimit": 2048000,
      "rowLimit": 10000
     },
     "inputWidgets": {},
     "nuid": "909b2981-b96e-4860-9b9b-416275b1579c",
     "showTitle": false,
     "title": ""
    },
    "pycharm": {
     "name": "#%%\n"
    }
   },
   "outputs": [],
   "source": [
    "def show_the_weather(day, temp):\n",
    "     # this function accepts 2 parameters\n",
    "    print(f\"{day}'s weather:\")\n",
    "    print( day_type(temp) )  #this function in another function"
   ]
  },
  {
   "cell_type": "code",
   "execution_count": 0,
   "metadata": {
    "application/vnd.databricks.v1+cell": {
     "cellMetadata": {
      "byteLimit": 2048000,
      "rowLimit": 10000
     },
     "inputWidgets": {},
     "nuid": "5a887e3e-4031-4ff0-8a6a-ffbd8db43ecd",
     "showTitle": false,
     "title": ""
    },
    "pycharm": {
     "name": "#%%\n"
    }
   },
   "outputs": [
    {
     "name": "stdout",
     "output_type": "stream",
     "text": [
      "Thursday's weather:\npretty warm\n"
     ]
    }
   ],
   "source": [
    "show_the_weather(\"Thursday\", 75)"
   ]
  },
  {
   "cell_type": "markdown",
   "metadata": {
    "application/vnd.databricks.v1+cell": {
     "cellMetadata": {},
     "inputWidgets": {},
     "nuid": "3196d977-78bc-457d-b3ff-ab6f61c432c3",
     "showTitle": false,
     "title": ""
    },
    "pycharm": {
     "name": "#%% md\n"
    }
   },
   "source": [
    "Function must be defined before it is called. Generally, best practice is to define all functions at the top of the file."
   ]
  },
  {
   "cell_type": "code",
   "execution_count": 0,
   "metadata": {
    "application/vnd.databricks.v1+cell": {
     "cellMetadata": {
      "byteLimit": 2048000,
      "rowLimit": 10000
     },
     "inputWidgets": {},
     "nuid": "baf41e71-3ff4-4621-81e2-ab0129401774",
     "showTitle": false,
     "title": ""
    },
    "pycharm": {
     "name": "#%%\n"
    }
   },
   "outputs": [
    {
     "data": {
      "text/plain": [
       "\u001B[0;31m---------------------------------------------------------------------------\u001B[0m\n",
       "\u001B[0;31mNameError\u001B[0m                                 Traceback (most recent call last)\n",
       "File \u001B[0;32m<command-2658627436344796>:1\u001B[0m\n",
       "\u001B[0;32m----> 1\u001B[0m my_new_function()\n",
       "\u001B[1;32m      3\u001B[0m \u001B[38;5;28;01mdef\u001B[39;00m \u001B[38;5;21mmy_new_function\u001B[39m():\n",
       "\u001B[1;32m      4\u001B[0m     \u001B[38;5;28mprint\u001B[39m(\u001B[38;5;124m\"\u001B[39m\u001B[38;5;124mdo new things\u001B[39m\u001B[38;5;124m\"\u001B[39m)\n",
       "\n",
       "\u001B[0;31mNameError\u001B[0m: name 'my_new_function' is not defined"
      ]
     },
     "metadata": {
      "application/vnd.databricks.v1+output": {
       "arguments": {},
       "data": "\u001B[0;31m---------------------------------------------------------------------------\u001B[0m\n\u001B[0;31mNameError\u001B[0m                                 Traceback (most recent call last)\nFile \u001B[0;32m<command-2658627436344796>:1\u001B[0m\n\u001B[0;32m----> 1\u001B[0m my_new_function()\n\u001B[1;32m      3\u001B[0m \u001B[38;5;28;01mdef\u001B[39;00m \u001B[38;5;21mmy_new_function\u001B[39m():\n\u001B[1;32m      4\u001B[0m     \u001B[38;5;28mprint\u001B[39m(\u001B[38;5;124m\"\u001B[39m\u001B[38;5;124mdo new things\u001B[39m\u001B[38;5;124m\"\u001B[39m)\n\n\u001B[0;31mNameError\u001B[0m: name 'my_new_function' is not defined",
       "errorSummary": "<span class='ansi-red-fg'>NameError</span>: name 'my_new_function' is not defined",
       "errorTraceType": "ansi",
       "metadata": {},
       "type": "ipynbError"
      }
     },
     "output_type": "display_data"
    }
   ],
   "source": [
    "my_new_function()\n",
    "\n",
    "def my_new_function():\n",
    "    print(\"do new things\")"
   ]
  },
  {
   "cell_type": "markdown",
   "metadata": {
    "application/vnd.databricks.v1+cell": {
     "cellMetadata": {},
     "inputWidgets": {},
     "nuid": "ade47626-0b18-44ca-b768-38fa892d5dfb",
     "showTitle": false,
     "title": ""
    },
    "pycharm": {
     "name": "#%% md\n"
    }
   },
   "source": [
    "Parameters must be passed to the function if set up in the declaration (generally)."
   ]
  },
  {
   "cell_type": "code",
   "execution_count": 0,
   "metadata": {
    "application/vnd.databricks.v1+cell": {
     "cellMetadata": {
      "byteLimit": 2048000,
      "rowLimit": 10000
     },
     "inputWidgets": {},
     "nuid": "3ee5c04c-ce70-4440-9037-18e0440ec228",
     "showTitle": false,
     "title": ""
    },
    "pycharm": {
     "name": "#%%\n"
    }
   },
   "outputs": [
    {
     "name": "stdout",
     "output_type": "stream",
     "text": [
      "I accept a single parameter - here, called name: Dave\nbut what if we don't pass any data?\n"
     ]
    },
    {
     "data": {
      "text/plain": [
       "\u001B[0;31m---------------------------------------------------------------------------\u001B[0m\n",
       "\u001B[0;31mTypeError\u001B[0m                                 Traceback (most recent call last)\n",
       "File \u001B[0;32m<command-2658627436344798>:6\u001B[0m\n",
       "\u001B[1;32m      3\u001B[0m     \u001B[38;5;28mprint\u001B[39m(\u001B[38;5;124m\"\u001B[39m\u001B[38;5;124mbut what if we don\u001B[39m\u001B[38;5;124m'\u001B[39m\u001B[38;5;124mt pass any data?\u001B[39m\u001B[38;5;124m\"\u001B[39m)\n",
       "\u001B[1;32m      5\u001B[0m myfunction(\u001B[38;5;124m\"\u001B[39m\u001B[38;5;124mDave\u001B[39m\u001B[38;5;124m\"\u001B[39m)\n",
       "\u001B[0;32m----> 6\u001B[0m myfunction()\n",
       "\n",
       "\u001B[0;31mTypeError\u001B[0m: myfunction() missing 1 required positional argument: 'name'"
      ]
     },
     "metadata": {
      "application/vnd.databricks.v1+output": {
       "arguments": {},
       "data": "\u001B[0;31m---------------------------------------------------------------------------\u001B[0m\n\u001B[0;31mTypeError\u001B[0m                                 Traceback (most recent call last)\nFile \u001B[0;32m<command-2658627436344798>:6\u001B[0m\n\u001B[1;32m      3\u001B[0m     \u001B[38;5;28mprint\u001B[39m(\u001B[38;5;124m\"\u001B[39m\u001B[38;5;124mbut what if we don\u001B[39m\u001B[38;5;124m'\u001B[39m\u001B[38;5;124mt pass any data?\u001B[39m\u001B[38;5;124m\"\u001B[39m)\n\u001B[1;32m      5\u001B[0m myfunction(\u001B[38;5;124m\"\u001B[39m\u001B[38;5;124mDave\u001B[39m\u001B[38;5;124m\"\u001B[39m)\n\u001B[0;32m----> 6\u001B[0m myfunction()\n\n\u001B[0;31mTypeError\u001B[0m: myfunction() missing 1 required positional argument: 'name'",
       "errorSummary": "<span class='ansi-red-fg'>TypeError</span>: myfunction() missing 1 required positional argument: 'name'",
       "errorTraceType": "ansi",
       "metadata": {},
       "type": "ipynbError"
      }
     },
     "output_type": "display_data"
    }
   ],
   "source": [
    "def myfunction(name):\n",
    "    print(\"I accept a single parameter - here, called name:\", name)\n",
    "    print(\"but what if we don't pass any data?\")\n",
    "\n",
    "myfunction(\"Dave\")\n",
    "myfunction()"
   ]
  },
  {
   "cell_type": "markdown",
   "metadata": {
    "application/vnd.databricks.v1+cell": {
     "cellMetadata": {},
     "inputWidgets": {},
     "nuid": "17e4dc22-0926-4af7-8303-5c98ae3fdd64",
     "showTitle": false,
     "title": ""
    },
    "pycharm": {
     "name": "#%% md\n"
    }
   },
   "source": [
    "Functions can return a value using the keyword `return`"
   ]
  },
  {
   "cell_type": "code",
   "execution_count": 0,
   "metadata": {
    "application/vnd.databricks.v1+cell": {
     "cellMetadata": {
      "byteLimit": 2048000,
      "rowLimit": 10000
     },
     "inputWidgets": {},
     "nuid": "79aa3360-1aed-416c-80f7-acd8dc0288b3",
     "showTitle": false,
     "title": ""
    },
    "pycharm": {
     "name": "#%%\n"
    }
   },
   "outputs": [],
   "source": [
    "def multiply_by_three(num):\n",
    "    return num * 3"
   ]
  },
  {
   "cell_type": "code",
   "execution_count": 0,
   "metadata": {
    "application/vnd.databricks.v1+cell": {
     "cellMetadata": {
      "byteLimit": 2048000,
      "rowLimit": 10000
     },
     "inputWidgets": {},
     "nuid": "c5f130cf-e871-4726-8bef-95c54f186e12",
     "showTitle": false,
     "title": ""
    },
    "pycharm": {
     "name": "#%%\n"
    }
   },
   "outputs": [
    {
     "name": "stdout",
     "output_type": "stream",
     "text": [
      "Out[11]: 12"
     ]
    }
   ],
   "source": [
    "multiply_by_three(4)"
   ]
  },
  {
   "cell_type": "code",
   "execution_count": 0,
   "metadata": {
    "application/vnd.databricks.v1+cell": {
     "cellMetadata": {
      "byteLimit": 2048000,
      "rowLimit": 10000
     },
     "inputWidgets": {},
     "nuid": "a57fdebe-25b1-4edd-8209-d8283970c4a3",
     "showTitle": false,
     "title": ""
    },
    "pycharm": {
     "name": "#%%\n"
    }
   },
   "outputs": [],
   "source": [
    "#TODO: visual of return value here"
   ]
  },
  {
   "cell_type": "code",
   "execution_count": 0,
   "metadata": {
    "application/vnd.databricks.v1+cell": {
     "cellMetadata": {
      "byteLimit": 2048000,
      "rowLimit": 10000
     },
     "inputWidgets": {},
     "nuid": "fba59201-d44c-409f-bdd2-342f1c580cac",
     "showTitle": false,
     "title": ""
    },
    "pycharm": {
     "name": "#%%\n"
    }
   },
   "outputs": [
    {
     "name": "stdout",
     "output_type": "stream",
     "text": [
      "Out[13]: 24"
     ]
    }
   ],
   "source": [
    "12 + multiply_by_three(4)"
   ]
  },
  {
   "cell_type": "markdown",
   "metadata": {
    "application/vnd.databricks.v1+cell": {
     "cellMetadata": {},
     "inputWidgets": {},
     "nuid": "15511152-b0c2-437b-9645-d9eb10f89db8",
     "showTitle": false,
     "title": ""
    },
    "pycharm": {
     "name": "#%% md\n"
    }
   },
   "source": [
    "Why use functions?\n",
    "* reduce redundancy\n",
    "* ease of resuse\n",
    "* reduce human error\n",
    "* easier debugging\n",
    "* easier refactoring"
   ]
  },
  {
   "cell_type": "markdown",
   "metadata": {
    "application/vnd.databricks.v1+cell": {
     "cellMetadata": {},
     "inputWidgets": {},
     "nuid": "9f3eb6e4-fcf7-4602-8e70-7db9b73804aa",
     "showTitle": false,
     "title": ""
    },
    "pycharm": {
     "name": "#%% md\n"
    }
   },
   "source": [
    "### 1b - Scope: Global vs Local Parameters"
   ]
  },
  {
   "cell_type": "markdown",
   "metadata": {
    "application/vnd.databricks.v1+cell": {
     "cellMetadata": {},
     "inputWidgets": {},
     "nuid": "c4a59b3e-aa5b-42a4-a66f-6041462dd335",
     "showTitle": false,
     "title": ""
    },
    "pycharm": {
     "name": "#%% md\n"
    }
   },
   "source": [
    "Scope refers to which level of information the program has access to. Global variables are accessible anywhere in the program. Variables are global variables if they are defined outside of a fuction (generally)."
   ]
  },
  {
   "cell_type": "code",
   "execution_count": 0,
   "metadata": {
    "application/vnd.databricks.v1+cell": {
     "cellMetadata": {},
     "inputWidgets": {},
     "nuid": "a3d7580f-5a10-4dbf-a109-3b2d8f251387",
     "showTitle": false,
     "title": ""
    },
    "pycharm": {
     "name": "#%%\n"
    }
   },
   "outputs": [],
   "source": [
    "my_global_variable = 'I am learning python variable scope'"
   ]
  },
  {
   "cell_type": "code",
   "execution_count": 0,
   "metadata": {
    "application/vnd.databricks.v1+cell": {
     "cellMetadata": {},
     "inputWidgets": {},
     "nuid": "ceba4771-a485-44ac-a7f3-f254b790bbf2",
     "showTitle": false,
     "title": ""
    },
    "pycharm": {
     "name": "#%%\n"
    }
   },
   "outputs": [
    {
     "name": "stdout",
     "output_type": "stream",
     "text": [
      "I am learning python variable scope\n"
     ]
    }
   ],
   "source": [
    "# even though this function accepts no parameters, it can access the global variable\n",
    "def test_global_variable():\n",
    "    print(my_global_variable)\n",
    "    \n",
    "test_global_variable()"
   ]
  },
  {
   "cell_type": "code",
   "execution_count": 0,
   "metadata": {
    "application/vnd.databricks.v1+cell": {
     "cellMetadata": {},
     "inputWidgets": {},
     "nuid": "274e65ae-1e7e-4ece-893a-b8dd999803ce",
     "showTitle": false,
     "title": ""
    },
    "pycharm": {
     "name": "#%%\n"
    }
   },
   "outputs": [
    {
     "data": {
      "text/plain": [
       "'I am learning python variable scope'"
      ]
     },
     "execution_count": 38,
     "metadata": {},
     "output_type": "execute_result"
    }
   ],
   "source": [
    "# we can also access the variable outside the function\n",
    "my_global_variable"
   ]
  },
  {
   "cell_type": "code",
   "execution_count": 0,
   "metadata": {
    "application/vnd.databricks.v1+cell": {
     "cellMetadata": {},
     "inputWidgets": {},
     "nuid": "09a9d886-4812-4e25-b216-3fba4e3f0ac1",
     "showTitle": false,
     "title": ""
    },
    "pycharm": {
     "name": "#%%\n"
    }
   },
   "outputs": [
    {
     "data": {
      "text/plain": [
       "\u001B[0;31m---------------------------------------------------------------------------\u001B[0m\n",
       "\u001B[0;31mNameError\u001B[0m                                 Traceback (most recent call last)\n",
       "\u001B[0;32m<ipython-input-39-70c34aae1a3a>\u001B[0m in \u001B[0;36m<module>\u001B[0;34m\u001B[0m\n",
       "\u001B[1;32m      2\u001B[0m     \u001B[0mmy_local_variable\u001B[0m \u001B[0;34m=\u001B[0m \u001B[0;34m'can you access this?'\u001B[0m\u001B[0;34m\u001B[0m\u001B[0;34m\u001B[0m\u001B[0m\n",
       "\u001B[1;32m      3\u001B[0m \u001B[0;34m\u001B[0m\u001B[0m\n",
       "\u001B[0;32m----> 4\u001B[0;31m \u001B[0mmy_local_variable\u001B[0m\u001B[0;34m\u001B[0m\u001B[0;34m\u001B[0m\u001B[0m\n",
       "\u001B[0m\n",
       "\u001B[0;31mNameError\u001B[0m: name 'my_local_variable' is not defined"
      ]
     },
     "metadata": {
      "application/vnd.databricks.v1+output": {
       "arguments": {},
       "data": "\u001B[0;31m---------------------------------------------------------------------------\u001B[0m\n\u001B[0;31mNameError\u001B[0m                                 Traceback (most recent call last)\n\u001B[0;32m<ipython-input-39-70c34aae1a3a>\u001B[0m in \u001B[0;36m<module>\u001B[0;34m\u001B[0m\n\u001B[1;32m      2\u001B[0m     \u001B[0mmy_local_variable\u001B[0m \u001B[0;34m=\u001B[0m \u001B[0;34m'can you access this?'\u001B[0m\u001B[0;34m\u001B[0m\u001B[0;34m\u001B[0m\u001B[0m\n\u001B[1;32m      3\u001B[0m \u001B[0;34m\u001B[0m\u001B[0m\n\u001B[0;32m----> 4\u001B[0;31m \u001B[0mmy_local_variable\u001B[0m\u001B[0;34m\u001B[0m\u001B[0;34m\u001B[0m\u001B[0m\n\u001B[0m\n\u001B[0;31mNameError\u001B[0m: name 'my_local_variable' is not defined",
       "errorSummary": "<span class='ansi-red-fg'>NameError</span>: name 'my_local_variable' is not defined",
       "errorTraceType": "ansi",
       "metadata": {},
       "type": "ipynbError"
      }
     },
     "output_type": "display_data"
    }
   ],
   "source": [
    "# variables defined inside the function can only be access by the function. These are local variables.\n",
    "def test_local_variable():\n",
    "    my_local_variable = 'can you access this?'\n",
    "    \n",
    "my_local_variable"
   ]
  },
  {
   "cell_type": "markdown",
   "metadata": {
    "application/vnd.databricks.v1+cell": {
     "cellMetadata": {},
     "inputWidgets": {},
     "nuid": "759b0b3f-db18-4667-a2b9-fe55baed4282",
     "showTitle": false,
     "title": ""
    },
    "pycharm": {
     "name": "#%% md\n"
    }
   },
   "source": [
    "### (Optional) Resources"
   ]
  },
  {
   "cell_type": "code",
   "execution_count": 0,
   "metadata": {
    "application/vnd.databricks.v1+cell": {
     "cellMetadata": {},
     "inputWidgets": {},
     "nuid": "a94dc356-332b-45c9-a5da-b4a040956401",
     "showTitle": false,
     "title": ""
    },
    "pycharm": {
     "name": "#%%\n"
    }
   },
   "outputs": [],
   "source": [
    "# A function from the multi-armed bandit problem\n",
    "def action(self):\n",
    "    bandit_choice = random.choice(self.bandits)\n",
    "    return bandit_choice"
   ]
  },
  {
   "cell_type": "code",
   "execution_count": 0,
   "metadata": {
    "application/vnd.databricks.v1+cell": {
     "cellMetadata": {},
     "inputWidgets": {},
     "nuid": "657fe775-cf1c-450e-b30c-a05d2b9663d7",
     "showTitle": false,
     "title": ""
    },
    "pycharm": {
     "name": "#%%\n"
    }
   },
   "outputs": [],
   "source": [
    "# Another function from the multi-armed bandit problem\n",
    "def execute_round(self):\n",
    "    \"\"\"\n",
    "    Play a round of the gambling game.\n",
    "    Get rewards for all bandidt,\n",
    "    call all agents to choose their bandit,\n",
    "    update all agents with their respective rewards,\n",
    "    and update game data.\n",
    "    \"\"\"\n",
    "    # step 1: get rewards for bandits this round\n",
    "    bandit_rewards = [bandit.pull() for bandit in self._bandits]\n",
    "\n",
    "    # step 2: call all agent players to select their gambling choice; return the reward\n",
    "    for agent in self._agents:\n",
    "        # get the bandit award based on the agent action\n",
    "        selected_bandit = agent.action().name\n",
    "        reward = bandit_rewards[selected_bandit]\n",
    "        # step 3: return rewards to each agent\n",
    "        agent.update(selected_bandit, reward)\n",
    "        # step 4: update agent balances by reward amount dollar if the agent pulled that bandit\n",
    "        self._agent_rewards[agent.name] += reward\n",
    "        # step 5: update data for plotting\n",
    "        self._agent_rewards_over_time[agent.name].append(self._agent_rewards[agent.name])"
   ]
  },
  {
   "cell_type": "markdown",
   "metadata": {
    "application/vnd.databricks.v1+cell": {
     "cellMetadata": {},
     "inputWidgets": {},
     "nuid": "82767a5b-8404-4729-b680-d38bb11d8d0b",
     "showTitle": false,
     "title": ""
    },
    "pycharm": {
     "name": "#%% md\n"
    }
   },
   "source": [
    "More Practice:\n",
    "* https://www.tutorialspoint.com/python/python_functions.htm\n",
    "* https://www.learnpython.org/en/Functions\n",
    "\n",
    "Advanced Concepts:\n",
    "* pass by reference vs pass by value\n",
    "* keyword arguments\n",
    "* recursion"
   ]
  },
  {
   "cell_type": "markdown",
   "metadata": {
    "application/vnd.databricks.v1+cell": {
     "cellMetadata": {},
     "inputWidgets": {},
     "nuid": "679a377f-b895-4c9e-a8eb-fd39bcdce341",
     "showTitle": false,
     "title": ""
    },
    "pycharm": {
     "name": "#%% md\n"
    }
   },
   "source": [
    "### 1c - Breakout Session: Functions"
   ]
  },
  {
   "cell_type": "markdown",
   "metadata": {
    "application/vnd.databricks.v1+cell": {
     "cellMetadata": {},
     "inputWidgets": {},
     "nuid": "7b7075be-95e1-46c8-bd06-5ca9defaf417",
     "showTitle": false,
     "title": ""
    },
    "pycharm": {
     "name": "#%% md\n"
    }
   },
   "source": [
    "## Part 2: Classes"
   ]
  },
  {
   "cell_type": "markdown",
   "metadata": {
    "application/vnd.databricks.v1+cell": {
     "cellMetadata": {},
     "inputWidgets": {},
     "nuid": "7304d2cd-7642-4c05-9666-f8ab36b1d431",
     "showTitle": false,
     "title": ""
    },
    "pycharm": {
     "name": "#%% md\n"
    }
   },
   "source": [
    "### 2a - Classes\n",
    "Ojects are manifestationa of \"template\" code, called *classes*. Classes can represent real-world objects and *encapsulate* the properties of that object. \n",
    "\n",
    "For example, you might creatr a \"cat\" class that has cat actions: `purr()`, `sleep()`, `eat()`.\n",
    "\n",
    "After defining the Object, we can copy it and use that copy; this is an instance of the class. E.g., `my_cat = Cat()`\n",
    "\n",
    "Then we can set/get the various attributes of the class.\n",
    "`my_cat.name = \"Tom\"`"
   ]
  },
  {
   "cell_type": "markdown",
   "metadata": {
    "application/vnd.databricks.v1+cell": {
     "cellMetadata": {},
     "inputWidgets": {},
     "nuid": "3b6913c2-229b-47a1-9d27-3d1e31d7f972",
     "showTitle": false,
     "title": ""
    },
    "pycharm": {
     "name": "#%% md\n"
    }
   },
   "source": [
    "### 2b - Initializing Instances"
   ]
  },
  {
   "cell_type": "markdown",
   "metadata": {
    "application/vnd.databricks.v1+cell": {
     "cellMetadata": {},
     "inputWidgets": {},
     "nuid": "a85c6825-be3a-4b2f-bb38-0797f1423408",
     "showTitle": false,
     "title": ""
    },
    "pycharm": {
     "name": "#%% md\n"
    }
   },
   "source": [
    "Let's create a class with one attribute, `my_attribute`"
   ]
  },
  {
   "cell_type": "code",
   "execution_count": 0,
   "metadata": {
    "application/vnd.databricks.v1+cell": {
     "cellMetadata": {},
     "inputWidgets": {},
     "nuid": "4c4560a7-c570-4606-8864-0996ee77109a",
     "showTitle": false,
     "title": ""
    },
    "pycharm": {
     "name": "#%%\n"
    }
   },
   "outputs": [],
   "source": [
    "class my_class:\n",
    "    my_attribute = \"I'm a class attribute\""
   ]
  },
  {
   "cell_type": "markdown",
   "metadata": {
    "application/vnd.databricks.v1+cell": {
     "cellMetadata": {},
     "inputWidgets": {},
     "nuid": "fcc26d73-dde4-44a8-a65d-f5fc6a6c7e0f",
     "showTitle": false,
     "title": ""
    },
    "pycharm": {
     "name": "#%% md\n"
    }
   },
   "source": [
    "To **initialize** the class, we call the class name followed by parameter parentheses. `my_class_instance` is an **instance** of `my_class`. `my_class` has been **instantiated** as `my_class_instance`, a concrete object that can be interacted with in the program."
   ]
  },
  {
   "cell_type": "code",
   "execution_count": 0,
   "metadata": {
    "application/vnd.databricks.v1+cell": {
     "cellMetadata": {},
     "inputWidgets": {},
     "nuid": "9b1c5b0f-6f3e-41c6-8033-f9425b73076d",
     "showTitle": false,
     "title": ""
    },
    "pycharm": {
     "name": "#%%\n"
    }
   },
   "outputs": [],
   "source": [
    "my_class_instance = my_class()"
   ]
  },
  {
   "cell_type": "code",
   "execution_count": 0,
   "metadata": {
    "application/vnd.databricks.v1+cell": {
     "cellMetadata": {},
     "inputWidgets": {},
     "nuid": "1ffd343a-4c38-47f7-a6da-bcc6de1be6df",
     "showTitle": false,
     "title": ""
    },
    "pycharm": {
     "name": "#%%\n"
    }
   },
   "outputs": [
    {
     "data": {
      "text/plain": [
       "__main__.my_class"
      ]
     },
     "execution_count": 47,
     "metadata": {},
     "output_type": "execute_result"
    }
   ],
   "source": [
    "type(my_class_instance)"
   ]
  },
  {
   "cell_type": "code",
   "execution_count": 0,
   "metadata": {
    "application/vnd.databricks.v1+cell": {
     "cellMetadata": {},
     "inputWidgets": {},
     "nuid": "68533da6-6c9c-4053-a394-0d933a567b89",
     "showTitle": false,
     "title": ""
    },
    "pycharm": {
     "name": "#%%\n"
    }
   },
   "outputs": [
    {
     "name": "stdout",
     "output_type": "stream",
     "text": [
      "I'm a class attribute\n"
     ]
    }
   ],
   "source": [
    "print(my_class.my_attribute)"
   ]
  },
  {
   "cell_type": "code",
   "execution_count": 0,
   "metadata": {
    "application/vnd.databricks.v1+cell": {
     "cellMetadata": {},
     "inputWidgets": {},
     "nuid": "1d26612e-0ab8-4585-9ffc-25509aaa31fd",
     "showTitle": false,
     "title": ""
    },
    "pycharm": {
     "name": "#%%\n"
    }
   },
   "outputs": [],
   "source": [
    "my_class.my_attribute = \"I've changed the class attribute\""
   ]
  },
  {
   "cell_type": "code",
   "execution_count": 0,
   "metadata": {
    "application/vnd.databricks.v1+cell": {
     "cellMetadata": {},
     "inputWidgets": {},
     "nuid": "cffcaade-5165-42d5-992e-8eb26affdfcf",
     "showTitle": false,
     "title": ""
    },
    "pycharm": {
     "name": "#%%\n"
    }
   },
   "outputs": [
    {
     "name": "stdout",
     "output_type": "stream",
     "text": [
      "I've changed the class attribute\n"
     ]
    }
   ],
   "source": [
    "print(my_class.my_attribute)"
   ]
  },
  {
   "cell_type": "markdown",
   "metadata": {
    "application/vnd.databricks.v1+cell": {
     "cellMetadata": {},
     "inputWidgets": {},
     "nuid": "2e8ad20b-bd24-4370-820a-258e18d8317b",
     "showTitle": false,
     "title": ""
    },
    "pycharm": {
     "name": "#%% md\n"
    }
   },
   "source": [
    "Classes enable us to create multiple object instances with one code base. Classes act like a template for object creation."
   ]
  },
  {
   "cell_type": "code",
   "execution_count": 0,
   "metadata": {
    "application/vnd.databricks.v1+cell": {
     "cellMetadata": {},
     "inputWidgets": {},
     "nuid": "d13379d2-c443-44d7-b217-20c85b00720e",
     "showTitle": false,
     "title": ""
    },
    "pycharm": {
     "name": "#%%\n"
    }
   },
   "outputs": [],
   "source": [
    "my_class_instance_1 = my_class()\n",
    "my_class_instance_2 = my_class()\n",
    "my_class_instance_3 = my_class()"
   ]
  },
  {
   "cell_type": "code",
   "execution_count": 0,
   "metadata": {
    "application/vnd.databricks.v1+cell": {
     "cellMetadata": {},
     "inputWidgets": {},
     "nuid": "5c227056-dd3b-4a8e-87e6-430d27944d92",
     "showTitle": false,
     "title": ""
    },
    "pycharm": {
     "name": "#%%\n"
    }
   },
   "outputs": [],
   "source": [
    "my_class_instance_1.my_attribute = \"class attribute of instance 1\"\n",
    "my_class_instance_2.my_attribute = \"class attribute of instance 2\"\n",
    "my_class_instance_3.my_attribute = \"class attribute of instance 3\""
   ]
  },
  {
   "cell_type": "code",
   "execution_count": 0,
   "metadata": {
    "application/vnd.databricks.v1+cell": {
     "cellMetadata": {},
     "inputWidgets": {},
     "nuid": "26bab14f-0743-4453-9f1d-505b4e0c6abd",
     "showTitle": false,
     "title": ""
    },
    "pycharm": {
     "name": "#%%\n"
    }
   },
   "outputs": [
    {
     "data": {
      "text/plain": [
       "'class attribute of instance 1'"
      ]
     },
     "execution_count": 52,
     "metadata": {},
     "output_type": "execute_result"
    }
   ],
   "source": [
    "my_class_instance_1.my_attribute"
   ]
  },
  {
   "cell_type": "code",
   "execution_count": 0,
   "metadata": {
    "application/vnd.databricks.v1+cell": {
     "cellMetadata": {},
     "inputWidgets": {},
     "nuid": "bd2b3e9f-41d8-467a-b911-c0b3b4feb3b0",
     "showTitle": false,
     "title": ""
    },
    "pycharm": {
     "name": "#%%\n"
    }
   },
   "outputs": [
    {
     "data": {
      "text/plain": [
       "'class attribute of instance 2'"
      ]
     },
     "execution_count": 53,
     "metadata": {},
     "output_type": "execute_result"
    }
   ],
   "source": [
    "my_class_instance_2.my_attribute"
   ]
  },
  {
   "cell_type": "code",
   "execution_count": 0,
   "metadata": {
    "application/vnd.databricks.v1+cell": {
     "cellMetadata": {},
     "inputWidgets": {},
     "nuid": "0faba3ba-c591-469e-97c9-4955a1ab6b32",
     "showTitle": false,
     "title": ""
    },
    "pycharm": {
     "name": "#%%\n"
    }
   },
   "outputs": [
    {
     "data": {
      "text/plain": [
       "'class attribute of instance 3'"
      ]
     },
     "execution_count": 54,
     "metadata": {},
     "output_type": "execute_result"
    }
   ],
   "source": [
    "my_class_instance_3.my_attribute"
   ]
  },
  {
   "cell_type": "markdown",
   "metadata": {
    "application/vnd.databricks.v1+cell": {
     "cellMetadata": {},
     "inputWidgets": {},
     "nuid": "9b413b33-38cb-4ce2-912d-ab624d34d324",
     "showTitle": false,
     "title": ""
    },
    "pycharm": {
     "name": "#%% md\n"
    }
   },
   "source": [
    "**Note:** In the MAB problem, we have a `Bandit` class that serves as a template for creating `bandit`, or slot machine, objects."
   ]
  },
  {
   "cell_type": "markdown",
   "metadata": {
    "application/vnd.databricks.v1+cell": {
     "cellMetadata": {},
     "inputWidgets": {},
     "nuid": "ee8b4aa6-2616-47c7-acb2-adf3b16b0a77",
     "showTitle": false,
     "title": ""
    },
    "pycharm": {
     "name": "#%% md\n"
    }
   },
   "source": [
    "### 2c - Constructor and \\_\\_init__"
   ]
  },
  {
   "cell_type": "markdown",
   "metadata": {
    "application/vnd.databricks.v1+cell": {
     "cellMetadata": {},
     "inputWidgets": {},
     "nuid": "57cd4d1e-2532-4ff1-8cbc-38379ef24eb0",
     "showTitle": false,
     "title": ""
    },
    "pycharm": {
     "name": "#%% md\n"
    }
   },
   "source": [
    "`__init__` is a class **constructor**. `__init__` is a function that is called when a class is initialized. It creates the class level attributes. The keyword `self` must be passed to the `__init__` function as the first parameter, and represents the instance of the class."
   ]
  },
  {
   "cell_type": "code",
   "execution_count": 0,
   "metadata": {
    "application/vnd.databricks.v1+cell": {
     "cellMetadata": {},
     "inputWidgets": {},
     "nuid": "51361b34-47b6-4aaf-a32f-f6754572ff30",
     "showTitle": false,
     "title": ""
    },
    "pycharm": {
     "name": "#%%\n"
    }
   },
   "outputs": [
    {
     "name": "stdout",
     "output_type": "stream",
     "text": [
      "\nUsing dot operator\nx from A:  5\nx from B:  20\nx from C:  30\nx from C with no param:  5\nUpdated x from A:  99\n\n\n"
     ]
    }
   ],
   "source": [
    "class A:\n",
    "    def __init__(self):\n",
    "        self.x = 5\n",
    "        \n",
    "class B:\n",
    "    def __init__(self, x):\n",
    "        self.x = x\n",
    "        \n",
    "class C:\n",
    "    def __init__(self, x=5):\n",
    "        self.x = x\n",
    "        \n",
    "class Main:\n",
    "\n",
    "    a = A()\n",
    "    b = B(20)\n",
    "    c = C(30)\n",
    "    c_no_param = C()\n",
    "    \n",
    "    print(\"\\nUsing dot operator\")\n",
    "    print(\"x from A: \", a.x)\n",
    "    print(\"x from B: \",b.x)\n",
    "    print(\"x from C: \",c.x)\n",
    "    print(\"x from C with no param: \",c_no_param.x)\n",
    "    \n",
    "    # update a's version of x:\n",
    "    a.x = 99\n",
    "    print(\"Updated x from A: \", a.x)\n",
    "    \n",
    "    print(\"\\n\")\n",
    "\n",
    "# ---------------\n",
    "main = Main()"
   ]
  },
  {
   "cell_type": "markdown",
   "metadata": {
    "application/vnd.databricks.v1+cell": {
     "cellMetadata": {},
     "inputWidgets": {},
     "nuid": "e35ec243-f37c-44e3-9f33-b0ff7549c0dc",
     "showTitle": false,
     "title": ""
    },
    "pycharm": {
     "name": "#%% md\n"
    }
   },
   "source": [
    "### Class Functions and Class Attributes"
   ]
  },
  {
   "cell_type": "markdown",
   "metadata": {
    "application/vnd.databricks.v1+cell": {
     "cellMetadata": {},
     "inputWidgets": {},
     "nuid": "daffdcc5-11a8-4c9a-b6c9-6f909fe76334",
     "showTitle": false,
     "title": ""
    },
    "pycharm": {
     "name": "#%% md\n"
    }
   },
   "source": [
    "Classes can interact with eachother"
   ]
  },
  {
   "cell_type": "code",
   "execution_count": 0,
   "metadata": {
    "application/vnd.databricks.v1+cell": {
     "cellMetadata": {},
     "inputWidgets": {},
     "nuid": "1fc518c1-c835-41cf-b719-a2b68137a116",
     "showTitle": false,
     "title": ""
    },
    "pycharm": {
     "name": "#%%\n"
    }
   },
   "outputs": [
    {
     "name": "stdout",
     "output_type": "stream",
     "text": [
      "Amount of coffe in my_latte: 8oz\nAmount of coffe in coworker_latte: 8oz\n"
     ]
    }
   ],
   "source": [
    "class Person:\n",
    "    def __init__(self, name):\n",
    "        self.name = name\n",
    "        self.caffine = 0\n",
    "        \n",
    "class Coffee:\n",
    "    def __init__(self):\n",
    "        self.ounces = 8\n",
    "    \n",
    "    def drink(self, person):\n",
    "        # add 15mg caffine per 2oz drink\n",
    "        person.caffine += 15\n",
    "        # reduce ounces in drink remaining\n",
    "        self.ounces -= 2\n",
    "        \n",
    "# you and a coworker met up for morning coffeed\n",
    "you = Person('Nivens')\n",
    "coworker = Person('Alice')\n",
    "# enter a coffee shop and order a coffee\n",
    "my_latte = Coffee()\n",
    "print(f'Amount of coffe in my_latte: {my_latte.ounces}oz')\n",
    "# also ordered a coffe for a coworker\n",
    "coworker_latte = Coffee()\n",
    "print(f'Amount of coffe in coworker_latte: {coworker_latte.ounces}oz')\n",
    "# we each took a sip\n",
    "my_latte.drink(you)\n",
    "coworker_latte.drink(coworker)"
   ]
  },
  {
   "cell_type": "code",
   "execution_count": 0,
   "metadata": {
    "application/vnd.databricks.v1+cell": {
     "cellMetadata": {},
     "inputWidgets": {},
     "nuid": "208bc651-1b7c-44c3-9f65-d8791de941f7",
     "showTitle": false,
     "title": ""
    },
    "pycharm": {
     "name": "#%%\n"
    }
   },
   "outputs": [
    {
     "name": "stdout",
     "output_type": "stream",
     "text": [
      "Amount of coffe in Nivens's coffee: 6oz\nAmount of coffe in Alice's coffee: 6oz\nAmount of coffe in Alice's coffee: 4oz\nNivens's caffine: 15\nAlice's caffine: 30\n"
     ]
    }
   ],
   "source": [
    "class Person:\n",
    "    def __init__(self, name):\n",
    "        self.name = name\n",
    "        self.caffine = 0\n",
    "        \n",
    "class Coffee:\n",
    "    def __init__(self):\n",
    "        self.ounces = 8\n",
    "    \n",
    "    def drink(self, person):\n",
    "        # add 15mg caffine per 2oz drink\n",
    "        person.caffine += 15\n",
    "        # reduce ounces in drink remaining\n",
    "        self.ounces -= 2\n",
    "        print(f\"Amount of coffe in {person.name}'s coffee: {my_latte.ounces}oz\")\n",
    "        \n",
    "# you and a coworker met up for morning coffeed\n",
    "you = Person('Nivens')\n",
    "coworker = Person('Alice')\n",
    "# enter a coffee shop and order a coffee\n",
    "my_latte = Coffee()\n",
    "# also ordered a coffe for a coworker\n",
    "coworker_latte = Coffee()\n",
    "# we each took a sip\n",
    "my_latte.drink(you)\n",
    "coworker_latte.drink(coworker)\n",
    "# my coworker tries my frink\n",
    "my_latte.drink(coworker)\n",
    "print(f\"{you.name}'s caffine: {you.caffine}\")\n",
    "print(f\"{coworker.name}'s caffine: {coworker.caffine}\")"
   ]
  },
  {
   "cell_type": "markdown",
   "metadata": {
    "application/vnd.databricks.v1+cell": {
     "cellMetadata": {},
     "inputWidgets": {},
     "nuid": "dc47957f-dbde-4c02-a15a-16aff2b780a7",
     "showTitle": false,
     "title": ""
    },
    "pycharm": {
     "name": "#%% md\n"
    }
   },
   "source": [
    "### 2e - Encapsulation\n",
    "Bundling of data with the methods or objects that interact with that data"
   ]
  },
  {
   "cell_type": "code",
   "execution_count": 0,
   "metadata": {
    "application/vnd.databricks.v1+cell": {
     "cellMetadata": {},
     "inputWidgets": {},
     "nuid": "4f95bced-6f78-47b4-bb13-e31c04c14028",
     "showTitle": false,
     "title": ""
    },
    "pycharm": {
     "name": "#%%\n"
    }
   },
   "outputs": [],
   "source": [
    "# MAB problem example\n",
    "class Gamble:\n",
    "    def __init__(self, bandits, agents):\n",
    "        # list of bandit objects\n",
    "        self._bandits = bandits\n",
    "        # list of all agent objects.\n",
    "        self._agents = agents\n",
    "        # dictionary of the current rewards for each agent; initially 0\n",
    "        self._agent_rewards = {agent.name: 0 for agent in self._agents}\n",
    "        # dictionary of the rewards each round for plotting\n",
    "        self._agent_rewards_over_time = {agent.name: [] for agent in self._agents}'\n",
    "        \n",
    "    def execute_round(self):\n",
    "        # step 1: get rewards for bandits this round\n",
    "        bandit_rewards = [bandit.pull() for bandit in self._bandits]\n",
    "\n",
    "        # step 2: call all agent players to select their gambling choice; return the reward\n",
    "        for agent in self._agents:\n",
    "            # get the bandit award based on the agent action\n",
    "            selected_bandit = agent.action().name\n",
    "            reward = bandit_rewards[selected_bandit]\n",
    "            # step 3: return rewards to each agent\n",
    "            agent.update(selected_bandit, reward)\n",
    "            # step 4: update agent balances by reward amount dollar if the agent pulled that bandit\n",
    "            self._agent_rewards[agent.name] += reward\n",
    "            # step 5: update data for plotting\n",
    "            self._agent_rewards_over_time[agent.name].append(self._agent_rewards[agent.name])"
   ]
  },
  {
   "cell_type": "markdown",
   "metadata": {
    "application/vnd.databricks.v1+cell": {
     "cellMetadata": {},
     "inputWidgets": {},
     "nuid": "4d68930a-0ad7-4d3c-b785-6165b3a6e6c7",
     "showTitle": false,
     "title": ""
    },
    "pycharm": {
     "name": "#%% md\n"
    }
   },
   "source": [
    "### (Optional) Resources"
   ]
  },
  {
   "cell_type": "markdown",
   "metadata": {
    "application/vnd.databricks.v1+cell": {
     "cellMetadata": {},
     "inputWidgets": {},
     "nuid": "353e9b0c-76d6-4e94-bdda-5a576c1c7cde",
     "showTitle": false,
     "title": ""
    },
    "pycharm": {
     "name": "#%% md\n"
    }
   },
   "source": [
    "Advanced Concepts:\n",
    "* protected attributes\n",
    "* getters and setters\n",
    "* property decorations"
   ]
  },
  {
   "cell_type": "markdown",
   "metadata": {
    "application/vnd.databricks.v1+cell": {
     "cellMetadata": {},
     "inputWidgets": {},
     "nuid": "c1d9fe7d-d2d8-4e2e-b97c-4de45366f523",
     "showTitle": false,
     "title": ""
    },
    "pycharm": {
     "name": "#%% md\n"
    }
   },
   "source": [
    "### Breakout Session: Classes"
   ]
  },
  {
   "cell_type": "code",
   "execution_count": 0,
   "metadata": {
    "application/vnd.databricks.v1+cell": {
     "cellMetadata": {},
     "inputWidgets": {},
     "nuid": "02ddd3a9-6339-4fee-be9a-77a407e2b706",
     "showTitle": false,
     "title": ""
    },
    "pycharm": {
     "name": "#%%\n"
    }
   },
   "outputs": [],
   "source": []
  }
 ],
 "metadata": {
  "application/vnd.databricks.v1+notebook": {
   "dashboards": [],
   "language": "python",
   "notebookMetadata": {
    "pythonIndentUnit": 4
   },
   "notebookName": "Object_Oriented_Programming_Overview_Volume_1",
   "widgets": {}
  },
  "kernelspec": {
   "display_name": "Python 3",
   "language": "python",
   "name": "python3"
  },
  "language_info": {
   "codemirror_mode": {
    "name": "ipython",
    "version": 3
   },
   "file_extension": ".py",
   "mimetype": "text/x-python",
   "name": "python",
   "nbconvert_exporter": "python",
   "pygments_lexer": "ipython3",
   "version": "3.8.8"
  }
 },
 "nbformat": 4,
 "nbformat_minor": 0
}