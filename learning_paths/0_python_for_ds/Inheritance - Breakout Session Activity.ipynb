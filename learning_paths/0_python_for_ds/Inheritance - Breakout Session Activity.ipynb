{
 "cells": [
  {
   "cell_type": "markdown",
   "metadata": {
    "application/vnd.databricks.v1+cell": {
     "cellMetadata": {},
     "inputWidgets": {},
     "nuid": "35c4ea40-be3a-408c-8bb0-66939d192faa",
     "showTitle": false,
     "title": ""
    }
   },
   "source": [
    "# Animals\n",
    "\n",
    "Let's have some fun with object oriented programming!\n",
    "\n",
    "For the first half of this activity, we'll give you some code.  Please review this workbook as a team and discuss each module.  Please actually discuss each line and why it is set up the way it is.\n",
    "\n",
    "Let's start with a simple base class Pet and subclasses Cat and Dog:\n"
   ]
  },
  {
   "cell_type": "code",
   "execution_count": 0,
   "metadata": {
    "application/vnd.databricks.v1+cell": {
     "cellMetadata": {},
     "inputWidgets": {},
     "nuid": "1cf85445-97de-48d5-8707-e5573460084d",
     "showTitle": false,
     "title": ""
    }
   },
   "outputs": [],
   "source": [
    "from IPython.display import Image, display"
   ]
  },
  {
   "cell_type": "markdown",
   "metadata": {
    "application/vnd.databricks.v1+cell": {
     "cellMetadata": {},
     "inputWidgets": {},
     "nuid": "5a84b19f-d0b1-4a55-ab40-9c5f7ffcb40c",
     "showTitle": false,
     "title": ""
    }
   },
   "source": [
    "## define the base class"
   ]
  },
  {
   "cell_type": "code",
   "execution_count": 0,
   "metadata": {
    "application/vnd.databricks.v1+cell": {
     "cellMetadata": {},
     "inputWidgets": {},
     "nuid": "be387571-38cd-4036-ba46-5ab1127f751e",
     "showTitle": false,
     "title": ""
    }
   },
   "outputs": [],
   "source": [
    "class Pet():\n",
    "    \n",
    "    def __init__(self, name):\n",
    "        self.name = name\n",
    "        self.owner = None\n",
    "        self.image_path = None\n",
    "        self.noise = None\n",
    "        \n",
    "    def display_image(self):\n",
    "        if self.image_path is not None:\n",
    "            display(Image(filename=self.image_path))\n",
    "            \n",
    "    def make_noise(self):\n",
    "        if self.noise is not None:\n",
    "            print(self.noise)"
   ]
  },
  {
   "cell_type": "markdown",
   "metadata": {
    "application/vnd.databricks.v1+cell": {
     "cellMetadata": {},
     "inputWidgets": {},
     "nuid": "8e22713a-64fc-4e25-a56b-83b8ddb24137",
     "showTitle": false,
     "title": ""
    }
   },
   "source": [
    "## define the subclasses\n",
    "\n",
    "Please discuss as a team how inheritence works in the sample codes below.  Specifically:\n",
    "- Why do we use Pet., self., and Dog. in different places?"
   ]
  },
  {
   "cell_type": "code",
   "execution_count": 0,
   "metadata": {
    "application/vnd.databricks.v1+cell": {
     "cellMetadata": {},
     "inputWidgets": {},
     "nuid": "495c9bf3-5d1a-4f99-8466-943bc9f5f5ff",
     "showTitle": false,
     "title": ""
    }
   },
   "outputs": [],
   "source": [
    "class Dog(Pet):\n",
    "    \n",
    "    count = 0 # class variable to keep track of how many dogs we have\n",
    "    \n",
    "    def __init__(self, name, breed):\n",
    "        Pet.__init__(self,name)\n",
    "        self.breed = breed\n",
    "        Dog.count += 1\n",
    "        self.noise = \"woof woof\" # generic dog noise\n",
    "        "
   ]
  },
  {
   "cell_type": "code",
   "execution_count": 0,
   "metadata": {
    "application/vnd.databricks.v1+cell": {
     "cellMetadata": {},
     "inputWidgets": {},
     "nuid": "855df154-9451-4af8-8bd8-2728bc42ed96",
     "showTitle": false,
     "title": ""
    }
   },
   "outputs": [],
   "source": [
    "class Cat(Pet):\n",
    "    \n",
    "    count = 0\n",
    "    \n",
    "    def __init__(self, name, breed):\n",
    "        Pet.__init__(self,name)\n",
    "        self.breed = breed\n",
    "        Cat.count += 1\n",
    "        self.noise = \"meow\" # generic cat noise\n",
    "    \n"
   ]
  },
  {
   "cell_type": "markdown",
   "metadata": {
    "application/vnd.databricks.v1+cell": {
     "cellMetadata": {},
     "inputWidgets": {},
     "nuid": "ef9e8361-99f0-4423-9cf4-259eaa7314c4",
     "showTitle": false,
     "title": ""
    }
   },
   "source": [
    "## create some instances of our subclasses\n",
    "\n",
    "Let's build some pets!\n",
    "\n",
    "Notice how we never actually create an instance of the base class."
   ]
  },
  {
   "cell_type": "code",
   "execution_count": 0,
   "metadata": {
    "application/vnd.databricks.v1+cell": {
     "cellMetadata": {},
     "inputWidgets": {},
     "nuid": "afdc7f4e-c4fb-4c7f-9f03-853ae601747b",
     "showTitle": false,
     "title": ""
    }
   },
   "outputs": [
    {
     "output_type": "display_data",
     "data": {
      "text/plain": [
       "\u001B[0;31m---------------------------------------------------------------------------\u001B[0m\n",
       "\u001B[0;31mFileNotFoundError\u001B[0m                         Traceback (most recent call last)\n",
       "\u001B[0;32m<ipython-input-6-ef31a07c4338>\u001B[0m in \u001B[0;36m<module>\u001B[0;34m\u001B[0m\n",
       "\u001B[1;32m      3\u001B[0m \u001B[0md\u001B[0m\u001B[0;34m.\u001B[0m\u001B[0mowner\u001B[0m \u001B[0;34m=\u001B[0m \u001B[0;34m'Dick Dastardly'\u001B[0m\u001B[0;34m\u001B[0m\u001B[0;34m\u001B[0m\u001B[0m\n",
       "\u001B[1;32m      4\u001B[0m \u001B[0md\u001B[0m\u001B[0;34m.\u001B[0m\u001B[0mimage_path\u001B[0m \u001B[0;34m=\u001B[0m \u001B[0;34m'muttley.jpg'\u001B[0m\u001B[0;34m\u001B[0m\u001B[0;34m\u001B[0m\u001B[0m\n",
       "\u001B[0;32m----> 5\u001B[0;31m \u001B[0md\u001B[0m\u001B[0;34m.\u001B[0m\u001B[0mdisplay_image\u001B[0m\u001B[0;34m(\u001B[0m\u001B[0;34m)\u001B[0m\u001B[0;34m\u001B[0m\u001B[0;34m\u001B[0m\u001B[0m\n",
       "\u001B[0m\u001B[1;32m      6\u001B[0m \u001B[0md\u001B[0m\u001B[0;34m.\u001B[0m\u001B[0mmake_noise\u001B[0m\u001B[0;34m(\u001B[0m\u001B[0;34m)\u001B[0m\u001B[0;34m\u001B[0m\u001B[0;34m\u001B[0m\u001B[0m\n",
       "\n",
       "\u001B[0;32m<ipython-input-3-396f0e42b724>\u001B[0m in \u001B[0;36mdisplay_image\u001B[0;34m(self)\u001B[0m\n",
       "\u001B[1;32m      9\u001B[0m     \u001B[0;32mdef\u001B[0m \u001B[0mdisplay_image\u001B[0m\u001B[0;34m(\u001B[0m\u001B[0mself\u001B[0m\u001B[0;34m)\u001B[0m\u001B[0;34m:\u001B[0m\u001B[0;34m\u001B[0m\u001B[0;34m\u001B[0m\u001B[0m\n",
       "\u001B[1;32m     10\u001B[0m         \u001B[0;32mif\u001B[0m \u001B[0mself\u001B[0m\u001B[0;34m.\u001B[0m\u001B[0mimage_path\u001B[0m \u001B[0;32mis\u001B[0m \u001B[0;32mnot\u001B[0m \u001B[0;32mNone\u001B[0m\u001B[0;34m:\u001B[0m\u001B[0;34m\u001B[0m\u001B[0;34m\u001B[0m\u001B[0m\n",
       "\u001B[0;32m---> 11\u001B[0;31m             \u001B[0mdisplay\u001B[0m\u001B[0;34m(\u001B[0m\u001B[0mImage\u001B[0m\u001B[0;34m(\u001B[0m\u001B[0mfilename\u001B[0m\u001B[0;34m=\u001B[0m\u001B[0mself\u001B[0m\u001B[0;34m.\u001B[0m\u001B[0mimage_path\u001B[0m\u001B[0;34m)\u001B[0m\u001B[0;34m)\u001B[0m\u001B[0;34m\u001B[0m\u001B[0;34m\u001B[0m\u001B[0m\n",
       "\u001B[0m\u001B[1;32m     12\u001B[0m \u001B[0;34m\u001B[0m\u001B[0m\n",
       "\u001B[1;32m     13\u001B[0m     \u001B[0;32mdef\u001B[0m \u001B[0mmake_noise\u001B[0m\u001B[0;34m(\u001B[0m\u001B[0mself\u001B[0m\u001B[0;34m)\u001B[0m\u001B[0;34m:\u001B[0m\u001B[0;34m\u001B[0m\u001B[0;34m\u001B[0m\u001B[0m\n",
       "\n",
       "\u001B[0;32m~/opt/anaconda3/lib/python3.8/site-packages/IPython/core/display.py\u001B[0m in \u001B[0;36m__init__\u001B[0;34m(self, data, url, filename, format, embed, width, height, retina, unconfined, metadata)\u001B[0m\n",
       "\u001B[1;32m   1222\u001B[0m         \u001B[0mself\u001B[0m\u001B[0;34m.\u001B[0m\u001B[0mretina\u001B[0m \u001B[0;34m=\u001B[0m \u001B[0mretina\u001B[0m\u001B[0;34m\u001B[0m\u001B[0;34m\u001B[0m\u001B[0m\n",
       "\u001B[1;32m   1223\u001B[0m         \u001B[0mself\u001B[0m\u001B[0;34m.\u001B[0m\u001B[0munconfined\u001B[0m \u001B[0;34m=\u001B[0m \u001B[0munconfined\u001B[0m\u001B[0;34m\u001B[0m\u001B[0;34m\u001B[0m\u001B[0m\n",
       "\u001B[0;32m-> 1224\u001B[0;31m         super(Image, self).__init__(data=data, url=url, filename=filename, \n",
       "\u001B[0m\u001B[1;32m   1225\u001B[0m                 metadata=metadata)\n",
       "\u001B[1;32m   1226\u001B[0m \u001B[0;34m\u001B[0m\u001B[0m\n",
       "\n",
       "\u001B[0;32m~/opt/anaconda3/lib/python3.8/site-packages/IPython/core/display.py\u001B[0m in \u001B[0;36m__init__\u001B[0;34m(self, data, url, filename, metadata)\u001B[0m\n",
       "\u001B[1;32m    628\u001B[0m             \u001B[0mself\u001B[0m\u001B[0;34m.\u001B[0m\u001B[0mmetadata\u001B[0m \u001B[0;34m=\u001B[0m \u001B[0;34m{\u001B[0m\u001B[0;34m}\u001B[0m\u001B[0;34m\u001B[0m\u001B[0;34m\u001B[0m\u001B[0m\n",
       "\u001B[1;32m    629\u001B[0m \u001B[0;34m\u001B[0m\u001B[0m\n",
       "\u001B[0;32m--> 630\u001B[0;31m         \u001B[0mself\u001B[0m\u001B[0;34m.\u001B[0m\u001B[0mreload\u001B[0m\u001B[0;34m(\u001B[0m\u001B[0;34m)\u001B[0m\u001B[0;34m\u001B[0m\u001B[0;34m\u001B[0m\u001B[0m\n",
       "\u001B[0m\u001B[1;32m    631\u001B[0m         \u001B[0mself\u001B[0m\u001B[0;34m.\u001B[0m\u001B[0m_check_data\u001B[0m\u001B[0;34m(\u001B[0m\u001B[0;34m)\u001B[0m\u001B[0;34m\u001B[0m\u001B[0;34m\u001B[0m\u001B[0m\n",
       "\u001B[1;32m    632\u001B[0m \u001B[0;34m\u001B[0m\u001B[0m\n",
       "\n",
       "\u001B[0;32m~/opt/anaconda3/lib/python3.8/site-packages/IPython/core/display.py\u001B[0m in \u001B[0;36mreload\u001B[0;34m(self)\u001B[0m\n",
       "\u001B[1;32m   1254\u001B[0m         \u001B[0;34m\"\"\"Reload the raw data from file or URL.\"\"\"\u001B[0m\u001B[0;34m\u001B[0m\u001B[0;34m\u001B[0m\u001B[0m\n",
       "\u001B[1;32m   1255\u001B[0m         \u001B[0;32mif\u001B[0m \u001B[0mself\u001B[0m\u001B[0;34m.\u001B[0m\u001B[0membed\u001B[0m\u001B[0;34m:\u001B[0m\u001B[0;34m\u001B[0m\u001B[0;34m\u001B[0m\u001B[0m\n",
       "\u001B[0;32m-> 1256\u001B[0;31m             \u001B[0msuper\u001B[0m\u001B[0;34m(\u001B[0m\u001B[0mImage\u001B[0m\u001B[0;34m,\u001B[0m\u001B[0mself\u001B[0m\u001B[0;34m)\u001B[0m\u001B[0;34m.\u001B[0m\u001B[0mreload\u001B[0m\u001B[0;34m(\u001B[0m\u001B[0;34m)\u001B[0m\u001B[0;34m\u001B[0m\u001B[0;34m\u001B[0m\u001B[0m\n",
       "\u001B[0m\u001B[1;32m   1257\u001B[0m             \u001B[0;32mif\u001B[0m \u001B[0mself\u001B[0m\u001B[0;34m.\u001B[0m\u001B[0mretina\u001B[0m\u001B[0;34m:\u001B[0m\u001B[0;34m\u001B[0m\u001B[0;34m\u001B[0m\u001B[0m\n",
       "\u001B[1;32m   1258\u001B[0m                 \u001B[0mself\u001B[0m\u001B[0;34m.\u001B[0m\u001B[0m_retina_shape\u001B[0m\u001B[0;34m(\u001B[0m\u001B[0;34m)\u001B[0m\u001B[0;34m\u001B[0m\u001B[0;34m\u001B[0m\u001B[0m\n",
       "\n",
       "\u001B[0;32m~/opt/anaconda3/lib/python3.8/site-packages/IPython/core/display.py\u001B[0m in \u001B[0;36mreload\u001B[0;34m(self)\u001B[0m\n",
       "\u001B[1;32m    653\u001B[0m         \u001B[0;34m\"\"\"Reload the raw data from file or URL.\"\"\"\u001B[0m\u001B[0;34m\u001B[0m\u001B[0;34m\u001B[0m\u001B[0m\n",
       "\u001B[1;32m    654\u001B[0m         \u001B[0;32mif\u001B[0m \u001B[0mself\u001B[0m\u001B[0;34m.\u001B[0m\u001B[0mfilename\u001B[0m \u001B[0;32mis\u001B[0m \u001B[0;32mnot\u001B[0m \u001B[0;32mNone\u001B[0m\u001B[0;34m:\u001B[0m\u001B[0;34m\u001B[0m\u001B[0;34m\u001B[0m\u001B[0m\n",
       "\u001B[0;32m--> 655\u001B[0;31m             \u001B[0;32mwith\u001B[0m \u001B[0mopen\u001B[0m\u001B[0;34m(\u001B[0m\u001B[0mself\u001B[0m\u001B[0;34m.\u001B[0m\u001B[0mfilename\u001B[0m\u001B[0;34m,\u001B[0m \u001B[0mself\u001B[0m\u001B[0;34m.\u001B[0m\u001B[0m_read_flags\u001B[0m\u001B[0;34m)\u001B[0m \u001B[0;32mas\u001B[0m \u001B[0mf\u001B[0m\u001B[0;34m:\u001B[0m\u001B[0;34m\u001B[0m\u001B[0;34m\u001B[0m\u001B[0m\n",
       "\u001B[0m\u001B[1;32m    656\u001B[0m                 \u001B[0mself\u001B[0m\u001B[0;34m.\u001B[0m\u001B[0mdata\u001B[0m \u001B[0;34m=\u001B[0m \u001B[0mf\u001B[0m\u001B[0;34m.\u001B[0m\u001B[0mread\u001B[0m\u001B[0;34m(\u001B[0m\u001B[0;34m)\u001B[0m\u001B[0;34m\u001B[0m\u001B[0;34m\u001B[0m\u001B[0m\n",
       "\u001B[1;32m    657\u001B[0m         \u001B[0;32melif\u001B[0m \u001B[0mself\u001B[0m\u001B[0;34m.\u001B[0m\u001B[0murl\u001B[0m \u001B[0;32mis\u001B[0m \u001B[0;32mnot\u001B[0m \u001B[0;32mNone\u001B[0m\u001B[0;34m:\u001B[0m\u001B[0;34m\u001B[0m\u001B[0;34m\u001B[0m\u001B[0m\n",
       "\n",
       "\u001B[0;31mFileNotFoundError\u001B[0m: [Errno 2] No such file or directory: 'muttley.jpg'"
      ]
     },
     "metadata": {
      "application/vnd.databricks.v1+output": {
       "arguments": {},
       "data": "\u001B[0;31m---------------------------------------------------------------------------\u001B[0m\n\u001B[0;31mFileNotFoundError\u001B[0m                         Traceback (most recent call last)\n\u001B[0;32m<ipython-input-6-ef31a07c4338>\u001B[0m in \u001B[0;36m<module>\u001B[0;34m\u001B[0m\n\u001B[1;32m      3\u001B[0m \u001B[0md\u001B[0m\u001B[0;34m.\u001B[0m\u001B[0mowner\u001B[0m \u001B[0;34m=\u001B[0m \u001B[0;34m'Dick Dastardly'\u001B[0m\u001B[0;34m\u001B[0m\u001B[0;34m\u001B[0m\u001B[0m\n\u001B[1;32m      4\u001B[0m \u001B[0md\u001B[0m\u001B[0;34m.\u001B[0m\u001B[0mimage_path\u001B[0m \u001B[0;34m=\u001B[0m \u001B[0;34m'muttley.jpg'\u001B[0m\u001B[0;34m\u001B[0m\u001B[0;34m\u001B[0m\u001B[0m\n\u001B[0;32m----> 5\u001B[0;31m \u001B[0md\u001B[0m\u001B[0;34m.\u001B[0m\u001B[0mdisplay_image\u001B[0m\u001B[0;34m(\u001B[0m\u001B[0;34m)\u001B[0m\u001B[0;34m\u001B[0m\u001B[0;34m\u001B[0m\u001B[0m\n\u001B[0m\u001B[1;32m      6\u001B[0m \u001B[0md\u001B[0m\u001B[0;34m.\u001B[0m\u001B[0mmake_noise\u001B[0m\u001B[0;34m(\u001B[0m\u001B[0;34m)\u001B[0m\u001B[0;34m\u001B[0m\u001B[0;34m\u001B[0m\u001B[0m\n\n\u001B[0;32m<ipython-input-3-396f0e42b724>\u001B[0m in \u001B[0;36mdisplay_image\u001B[0;34m(self)\u001B[0m\n\u001B[1;32m      9\u001B[0m     \u001B[0;32mdef\u001B[0m \u001B[0mdisplay_image\u001B[0m\u001B[0;34m(\u001B[0m\u001B[0mself\u001B[0m\u001B[0;34m)\u001B[0m\u001B[0;34m:\u001B[0m\u001B[0;34m\u001B[0m\u001B[0;34m\u001B[0m\u001B[0m\n\u001B[1;32m     10\u001B[0m         \u001B[0;32mif\u001B[0m \u001B[0mself\u001B[0m\u001B[0;34m.\u001B[0m\u001B[0mimage_path\u001B[0m \u001B[0;32mis\u001B[0m \u001B[0;32mnot\u001B[0m \u001B[0;32mNone\u001B[0m\u001B[0;34m:\u001B[0m\u001B[0;34m\u001B[0m\u001B[0;34m\u001B[0m\u001B[0m\n\u001B[0;32m---> 11\u001B[0;31m             \u001B[0mdisplay\u001B[0m\u001B[0;34m(\u001B[0m\u001B[0mImage\u001B[0m\u001B[0;34m(\u001B[0m\u001B[0mfilename\u001B[0m\u001B[0;34m=\u001B[0m\u001B[0mself\u001B[0m\u001B[0;34m.\u001B[0m\u001B[0mimage_path\u001B[0m\u001B[0;34m)\u001B[0m\u001B[0;34m)\u001B[0m\u001B[0;34m\u001B[0m\u001B[0;34m\u001B[0m\u001B[0m\n\u001B[0m\u001B[1;32m     12\u001B[0m \u001B[0;34m\u001B[0m\u001B[0m\n\u001B[1;32m     13\u001B[0m     \u001B[0;32mdef\u001B[0m \u001B[0mmake_noise\u001B[0m\u001B[0;34m(\u001B[0m\u001B[0mself\u001B[0m\u001B[0;34m)\u001B[0m\u001B[0;34m:\u001B[0m\u001B[0;34m\u001B[0m\u001B[0;34m\u001B[0m\u001B[0m\n\n\u001B[0;32m~/opt/anaconda3/lib/python3.8/site-packages/IPython/core/display.py\u001B[0m in \u001B[0;36m__init__\u001B[0;34m(self, data, url, filename, format, embed, width, height, retina, unconfined, metadata)\u001B[0m\n\u001B[1;32m   1222\u001B[0m         \u001B[0mself\u001B[0m\u001B[0;34m.\u001B[0m\u001B[0mretina\u001B[0m \u001B[0;34m=\u001B[0m \u001B[0mretina\u001B[0m\u001B[0;34m\u001B[0m\u001B[0;34m\u001B[0m\u001B[0m\n\u001B[1;32m   1223\u001B[0m         \u001B[0mself\u001B[0m\u001B[0;34m.\u001B[0m\u001B[0munconfined\u001B[0m \u001B[0;34m=\u001B[0m \u001B[0munconfined\u001B[0m\u001B[0;34m\u001B[0m\u001B[0;34m\u001B[0m\u001B[0m\n\u001B[0;32m-> 1224\u001B[0;31m         super(Image, self).__init__(data=data, url=url, filename=filename, \n\u001B[0m\u001B[1;32m   1225\u001B[0m                 metadata=metadata)\n\u001B[1;32m   1226\u001B[0m \u001B[0;34m\u001B[0m\u001B[0m\n\n\u001B[0;32m~/opt/anaconda3/lib/python3.8/site-packages/IPython/core/display.py\u001B[0m in \u001B[0;36m__init__\u001B[0;34m(self, data, url, filename, metadata)\u001B[0m\n\u001B[1;32m    628\u001B[0m             \u001B[0mself\u001B[0m\u001B[0;34m.\u001B[0m\u001B[0mmetadata\u001B[0m \u001B[0;34m=\u001B[0m \u001B[0;34m{\u001B[0m\u001B[0;34m}\u001B[0m\u001B[0;34m\u001B[0m\u001B[0;34m\u001B[0m\u001B[0m\n\u001B[1;32m    629\u001B[0m \u001B[0;34m\u001B[0m\u001B[0m\n\u001B[0;32m--> 630\u001B[0;31m         \u001B[0mself\u001B[0m\u001B[0;34m.\u001B[0m\u001B[0mreload\u001B[0m\u001B[0;34m(\u001B[0m\u001B[0;34m)\u001B[0m\u001B[0;34m\u001B[0m\u001B[0;34m\u001B[0m\u001B[0m\n\u001B[0m\u001B[1;32m    631\u001B[0m         \u001B[0mself\u001B[0m\u001B[0;34m.\u001B[0m\u001B[0m_check_data\u001B[0m\u001B[0;34m(\u001B[0m\u001B[0;34m)\u001B[0m\u001B[0;34m\u001B[0m\u001B[0;34m\u001B[0m\u001B[0m\n\u001B[1;32m    632\u001B[0m \u001B[0;34m\u001B[0m\u001B[0m\n\n\u001B[0;32m~/opt/anaconda3/lib/python3.8/site-packages/IPython/core/display.py\u001B[0m in \u001B[0;36mreload\u001B[0;34m(self)\u001B[0m\n\u001B[1;32m   1254\u001B[0m         \u001B[0;34m\"\"\"Reload the raw data from file or URL.\"\"\"\u001B[0m\u001B[0;34m\u001B[0m\u001B[0;34m\u001B[0m\u001B[0m\n\u001B[1;32m   1255\u001B[0m         \u001B[0;32mif\u001B[0m \u001B[0mself\u001B[0m\u001B[0;34m.\u001B[0m\u001B[0membed\u001B[0m\u001B[0;34m:\u001B[0m\u001B[0;34m\u001B[0m\u001B[0;34m\u001B[0m\u001B[0m\n\u001B[0;32m-> 1256\u001B[0;31m             \u001B[0msuper\u001B[0m\u001B[0;34m(\u001B[0m\u001B[0mImage\u001B[0m\u001B[0;34m,\u001B[0m\u001B[0mself\u001B[0m\u001B[0;34m)\u001B[0m\u001B[0;34m.\u001B[0m\u001B[0mreload\u001B[0m\u001B[0;34m(\u001B[0m\u001B[0;34m)\u001B[0m\u001B[0;34m\u001B[0m\u001B[0;34m\u001B[0m\u001B[0m\n\u001B[0m\u001B[1;32m   1257\u001B[0m             \u001B[0;32mif\u001B[0m \u001B[0mself\u001B[0m\u001B[0;34m.\u001B[0m\u001B[0mretina\u001B[0m\u001B[0;34m:\u001B[0m\u001B[0;34m\u001B[0m\u001B[0;34m\u001B[0m\u001B[0m\n\u001B[1;32m   1258\u001B[0m                 \u001B[0mself\u001B[0m\u001B[0;34m.\u001B[0m\u001B[0m_retina_shape\u001B[0m\u001B[0;34m(\u001B[0m\u001B[0;34m)\u001B[0m\u001B[0;34m\u001B[0m\u001B[0;34m\u001B[0m\u001B[0m\n\n\u001B[0;32m~/opt/anaconda3/lib/python3.8/site-packages/IPython/core/display.py\u001B[0m in \u001B[0;36mreload\u001B[0;34m(self)\u001B[0m\n\u001B[1;32m    653\u001B[0m         \u001B[0;34m\"\"\"Reload the raw data from file or URL.\"\"\"\u001B[0m\u001B[0;34m\u001B[0m\u001B[0;34m\u001B[0m\u001B[0m\n\u001B[1;32m    654\u001B[0m         \u001B[0;32mif\u001B[0m \u001B[0mself\u001B[0m\u001B[0;34m.\u001B[0m\u001B[0mfilename\u001B[0m \u001B[0;32mis\u001B[0m \u001B[0;32mnot\u001B[0m \u001B[0;32mNone\u001B[0m\u001B[0;34m:\u001B[0m\u001B[0;34m\u001B[0m\u001B[0;34m\u001B[0m\u001B[0m\n\u001B[0;32m--> 655\u001B[0;31m             \u001B[0;32mwith\u001B[0m \u001B[0mopen\u001B[0m\u001B[0;34m(\u001B[0m\u001B[0mself\u001B[0m\u001B[0;34m.\u001B[0m\u001B[0mfilename\u001B[0m\u001B[0;34m,\u001B[0m \u001B[0mself\u001B[0m\u001B[0;34m.\u001B[0m\u001B[0m_read_flags\u001B[0m\u001B[0;34m)\u001B[0m \u001B[0;32mas\u001B[0m \u001B[0mf\u001B[0m\u001B[0;34m:\u001B[0m\u001B[0;34m\u001B[0m\u001B[0;34m\u001B[0m\u001B[0m\n\u001B[0m\u001B[1;32m    656\u001B[0m                 \u001B[0mself\u001B[0m\u001B[0;34m.\u001B[0m\u001B[0mdata\u001B[0m \u001B[0;34m=\u001B[0m \u001B[0mf\u001B[0m\u001B[0;34m.\u001B[0m\u001B[0mread\u001B[0m\u001B[0;34m(\u001B[0m\u001B[0;34m)\u001B[0m\u001B[0;34m\u001B[0m\u001B[0;34m\u001B[0m\u001B[0m\n\u001B[1;32m    657\u001B[0m         \u001B[0;32melif\u001B[0m \u001B[0mself\u001B[0m\u001B[0;34m.\u001B[0m\u001B[0murl\u001B[0m \u001B[0;32mis\u001B[0m \u001B[0;32mnot\u001B[0m \u001B[0;32mNone\u001B[0m\u001B[0;34m:\u001B[0m\u001B[0;34m\u001B[0m\u001B[0;34m\u001B[0m\u001B[0m\n\n\u001B[0;31mFileNotFoundError\u001B[0m: [Errno 2] No such file or directory: 'muttley.jpg'",
       "errorSummary": "<span class='ansi-red-fg'>FileNotFoundError</span>: [Errno 2] No such file or directory: 'muttley.jpg'",
       "errorTraceType": "ansi",
       "metadata": {},
       "type": "ipynbError"
      }
     },
     "output_type": "display_data"
    }
   ],
   "source": [
    "# a new dog\n",
    "d = Dog('Muttley', 'mutt')\n",
    "d.owner = 'Dick Dastardly'\n",
    "d.image_path = 'muttley.jpg'\n",
    "d.display_image()\n",
    "d.make_noise()"
   ]
  },
  {
   "cell_type": "code",
   "execution_count": 0,
   "metadata": {
    "application/vnd.databricks.v1+cell": {
     "cellMetadata": {},
     "inputWidgets": {},
     "nuid": "a2d8b65a-4070-427f-bfc7-9d97c36460ee",
     "showTitle": false,
     "title": ""
    }
   },
   "outputs": [
    {
     "output_type": "execute_result",
     "data": {
      "text/plain": [
       "{'name': 'Muttley',\n",
       " 'owner': 'Dick Dastardly',\n",
       " 'image_path': 'muttley.jpg',\n",
       " 'noise': 'woof woof',\n",
       " 'breed': 'mutt',\n",
       " 'color': 'brown'}"
      ]
     },
     "execution_count": 7,
     "metadata": {},
     "output_type": "execute_result"
    }
   ],
   "source": [
    "# it is possible put new member variable into the class .. but not recommended.\n",
    "d.color = 'brown'\n",
    "\n",
    "# you can see all the member variables this way\n",
    "d.__dict__"
   ]
  },
  {
   "cell_type": "code",
   "execution_count": 0,
   "metadata": {
    "application/vnd.databricks.v1+cell": {
     "cellMetadata": {},
     "inputWidgets": {},
     "nuid": "b6c521ec-9506-41aa-b2fc-cf96c926a560",
     "showTitle": false,
     "title": ""
    }
   },
   "outputs": [
    {
     "output_type": "stream",
     "name": "stdout",
     "output_type": "stream",
     "text": [
      "meow\n"
     ]
    }
   ],
   "source": [
    "# a new cat\n",
    "c = Cat('MAD', 'cartoon')\n",
    "c.owner = 'Dr Claw'\n",
    "# c.image_path = 'Doctor_Claw.jpg'\n",
    "c.display_image()\n",
    "c.make_noise()"
   ]
  },
  {
   "cell_type": "code",
   "execution_count": 0,
   "metadata": {
    "application/vnd.databricks.v1+cell": {
     "cellMetadata": {},
     "inputWidgets": {},
     "nuid": "7ba286a7-8fd6-475f-8626-250386db6cf7",
     "showTitle": false,
     "title": ""
    }
   },
   "outputs": [
    {
     "output_type": "stream",
     "name": "stdout",
     "output_type": "stream",
     "text": [
      "scooby dooby dooooo\n"
     ]
    }
   ],
   "source": [
    "# another dog\n",
    "d2 = Dog('Scooby Doo', 'great dane')\n",
    "d2.owner = 'Shaggy'\n",
    "d2.image_path = 'scooby.png'\n",
    "# d2.display_image()\n",
    "d2.noise = \"scooby dooby dooooo\"\n",
    "d2.make_noise()"
   ]
  },
  {
   "cell_type": "markdown",
   "metadata": {
    "application/vnd.databricks.v1+cell": {
     "cellMetadata": {},
     "inputWidgets": {},
     "nuid": "dd2788d2-60dd-47a5-b01b-9841d13401ee",
     "showTitle": false,
     "title": ""
    }
   },
   "source": [
    "### using static variables"
   ]
  },
  {
   "cell_type": "code",
   "execution_count": 0,
   "metadata": {
    "application/vnd.databricks.v1+cell": {
     "cellMetadata": {},
     "inputWidgets": {},
     "nuid": "ea2e2513-1e4a-4a91-a182-244b802a44db",
     "showTitle": false,
     "title": ""
    }
   },
   "outputs": [
    {
     "output_type": "stream",
     "name": "stdout",
     "output_type": "stream",
     "text": [
      "2\n"
     ]
    }
   ],
   "source": [
    "# how many dogs do we have?\n",
    "# Dog.count is a static member variable \n",
    "print(Dog.count)"
   ]
  },
  {
   "cell_type": "markdown",
   "metadata": {
    "application/vnd.databricks.v1+cell": {
     "cellMetadata": {},
     "inputWidgets": {},
     "nuid": "9b717a9a-d652-4b7f-b248-084f9047b60c",
     "showTitle": false,
     "title": ""
    }
   },
   "source": [
    "### using instances of our classes\n",
    "\n",
    "Please talk through the code below.  It is subtle.  What is the \"cls\" function doing!??\n",
    "\n",
    "Note - this part of the code will not work in Python 2.0."
   ]
  },
  {
   "cell_type": "code",
   "execution_count": 0,
   "metadata": {
    "application/vnd.databricks.v1+cell": {
     "cellMetadata": {},
     "inputWidgets": {},
     "nuid": "40968786-e0f0-4e24-b09a-146a95ad0e2e",
     "showTitle": false,
     "title": ""
    }
   },
   "outputs": [
    {
     "output_type": "execute_result",
     "data": {
      "text/plain": [
       "'this'"
      ]
     },
     "execution_count": 15,
     "metadata": {},
     "output_type": "execute_result"
    }
   ],
   "source": [
    "d2 = Dog('Scooby Doo', 'great dane')\n",
    "test_cls = type(d2)\n",
    "d3 = test_cls('this', 'a breed')\n",
    "d3.name"
   ]
  },
  {
   "cell_type": "code",
   "execution_count": 0,
   "metadata": {
    "application/vnd.databricks.v1+cell": {
     "cellMetadata": {},
     "inputWidgets": {},
     "nuid": "509cbf93-5e2d-431d-84b1-03080efa113c",
     "showTitle": false,
     "title": ""
    }
   },
   "outputs": [],
   "source": [
    "def make_baby(pet1, pet2, name):\n",
    "    # check for compatible species\n",
    "    if type(pet1) == type(pet2):\n",
    "        cls = type(pet1)\n",
    "        if pet1.breed == pet2.breed:\n",
    "            # pure breed\n",
    "            new_breed = pet1.breed\n",
    "        else:\n",
    "            # mixed breed\n",
    "            new_breed = pet1.breed + '-' + pet2.breed\n",
    "        \n",
    "        baby = cls(name,new_breed)\n",
    "        return baby\n",
    "    else:\n",
    "        raise Exception(\"sorry, can't intermingle species\")"
   ]
  },
  {
   "cell_type": "code",
   "execution_count": 0,
   "metadata": {
    "application/vnd.databricks.v1+cell": {
     "cellMetadata": {},
     "inputWidgets": {},
     "nuid": "694aacdb-52dc-4b87-83c3-e2bc4db29b0a",
     "showTitle": false,
     "title": ""
    }
   },
   "outputs": [
    {
     "output_type": "execute_result",
     "data": {
      "text/plain": [
       "{'name': 'fred',\n",
       " 'owner': None,\n",
       " 'image_path': None,\n",
       " 'noise': 'woof woof',\n",
       " 'breed': 'mutt-great dane'}"
      ]
     },
     "execution_count": 18,
     "metadata": {},
     "output_type": "execute_result"
    }
   ],
   "source": [
    "# make one baby dog\n",
    "b = make_baby(d,d2,'fred')\n",
    "b.__dict__\n",
    "\n"
   ]
  },
  {
   "cell_type": "code",
   "execution_count": 0,
   "metadata": {
    "application/vnd.databricks.v1+cell": {
     "cellMetadata": {},
     "inputWidgets": {},
     "nuid": "5a17e7e2-991c-4df0-b12d-935aab2e9b06",
     "showTitle": false,
     "title": ""
    }
   },
   "outputs": [
    {
     "output_type": "display_data",
     "data": {
      "text/plain": [
       "\u001B[0;31m---------------------------------------------------------------------------\u001B[0m\n",
       "\u001B[0;31mException\u001B[0m                                 Traceback (most recent call last)\n",
       "\u001B[0;32m<ipython-input-19-0818f3f71490>\u001B[0m in \u001B[0;36m<module>\u001B[0;34m\u001B[0m\n",
       "\u001B[1;32m      1\u001B[0m \u001B[0;31m# try to make a dog-cat baby\u001B[0m\u001B[0;34m\u001B[0m\u001B[0;34m\u001B[0m\u001B[0;34m\u001B[0m\u001B[0m\n",
       "\u001B[0;32m----> 2\u001B[0;31m \u001B[0mb2\u001B[0m \u001B[0;34m=\u001B[0m \u001B[0mmake_baby\u001B[0m\u001B[0;34m(\u001B[0m\u001B[0md\u001B[0m\u001B[0;34m,\u001B[0m\u001B[0mc\u001B[0m\u001B[0;34m,\u001B[0m\u001B[0;34m'jeff'\u001B[0m\u001B[0;34m)\u001B[0m\u001B[0;34m\u001B[0m\u001B[0;34m\u001B[0m\u001B[0m\n",
       "\u001B[0m\n",
       "\u001B[0;32m<ipython-input-17-94278aa1c903>\u001B[0m in \u001B[0;36mmake_baby\u001B[0;34m(pet1, pet2, name)\u001B[0m\n",
       "\u001B[1;32m     13\u001B[0m         \u001B[0;32mreturn\u001B[0m \u001B[0mbaby\u001B[0m\u001B[0;34m\u001B[0m\u001B[0;34m\u001B[0m\u001B[0m\n",
       "\u001B[1;32m     14\u001B[0m     \u001B[0;32melse\u001B[0m\u001B[0;34m:\u001B[0m\u001B[0;34m\u001B[0m\u001B[0;34m\u001B[0m\u001B[0m\n",
       "\u001B[0;32m---> 15\u001B[0;31m         \u001B[0;32mraise\u001B[0m \u001B[0mException\u001B[0m\u001B[0;34m(\u001B[0m\u001B[0;34m\"sorry, can't intermingle species\"\u001B[0m\u001B[0;34m)\u001B[0m\u001B[0;34m\u001B[0m\u001B[0;34m\u001B[0m\u001B[0m\n",
       "\u001B[0m\n",
       "\u001B[0;31mException\u001B[0m: sorry, can't intermingle species"
      ]
     },
     "metadata": {
      "application/vnd.databricks.v1+output": {
       "arguments": {},
       "data": "\u001B[0;31m---------------------------------------------------------------------------\u001B[0m\n\u001B[0;31mException\u001B[0m                                 Traceback (most recent call last)\n\u001B[0;32m<ipython-input-19-0818f3f71490>\u001B[0m in \u001B[0;36m<module>\u001B[0;34m\u001B[0m\n\u001B[1;32m      1\u001B[0m \u001B[0;31m# try to make a dog-cat baby\u001B[0m\u001B[0;34m\u001B[0m\u001B[0;34m\u001B[0m\u001B[0;34m\u001B[0m\u001B[0m\n\u001B[0;32m----> 2\u001B[0;31m \u001B[0mb2\u001B[0m \u001B[0;34m=\u001B[0m \u001B[0mmake_baby\u001B[0m\u001B[0;34m(\u001B[0m\u001B[0md\u001B[0m\u001B[0;34m,\u001B[0m\u001B[0mc\u001B[0m\u001B[0;34m,\u001B[0m\u001B[0;34m'jeff'\u001B[0m\u001B[0;34m)\u001B[0m\u001B[0;34m\u001B[0m\u001B[0;34m\u001B[0m\u001B[0m\n\u001B[0m\n\u001B[0;32m<ipython-input-17-94278aa1c903>\u001B[0m in \u001B[0;36mmake_baby\u001B[0;34m(pet1, pet2, name)\u001B[0m\n\u001B[1;32m     13\u001B[0m         \u001B[0;32mreturn\u001B[0m \u001B[0mbaby\u001B[0m\u001B[0;34m\u001B[0m\u001B[0;34m\u001B[0m\u001B[0m\n\u001B[1;32m     14\u001B[0m     \u001B[0;32melse\u001B[0m\u001B[0;34m:\u001B[0m\u001B[0;34m\u001B[0m\u001B[0;34m\u001B[0m\u001B[0m\n\u001B[0;32m---> 15\u001B[0;31m         \u001B[0;32mraise\u001B[0m \u001B[0mException\u001B[0m\u001B[0;34m(\u001B[0m\u001B[0;34m\"sorry, can't intermingle species\"\u001B[0m\u001B[0;34m)\u001B[0m\u001B[0;34m\u001B[0m\u001B[0;34m\u001B[0m\u001B[0m\n\u001B[0m\n\u001B[0;31mException\u001B[0m: sorry, can't intermingle species",
       "errorSummary": "<span class='ansi-red-fg'>Exception</span>: sorry, can't intermingle species",
       "errorTraceType": "ansi",
       "metadata": {},
       "type": "ipynbError"
      }
     },
     "output_type": "display_data"
    }
   ],
   "source": [
    "# try to make a dog-cat baby\n",
    "b2 = make_baby(d,c,'jeff')"
   ]
  },
  {
   "cell_type": "markdown",
   "metadata": {
    "application/vnd.databricks.v1+cell": {
     "cellMetadata": {},
     "inputWidgets": {},
     "nuid": "60f2bfb3-1a88-473f-a5ae-ad3e67217ff0",
     "showTitle": false,
     "title": ""
    }
   },
   "source": [
    "## things to do now\n",
    "\n",
    "* make another subclass for another kind of pet"
   ]
  },
  {
   "cell_type": "code",
   "execution_count": 0,
   "metadata": {
    "application/vnd.databricks.v1+cell": {
     "cellMetadata": {},
     "inputWidgets": {},
     "nuid": "933fb5f6-712c-42e8-b443-7c6fb605b6bd",
     "showTitle": false,
     "title": ""
    },
    "collapsed": true
   },
   "outputs": [],
   "source": [
    "class Lion(Pet):\n",
    "    \n",
    "    count = 0\n",
    "    \n",
    "    def __init__(self, name, color):\n",
    "        Pet.__init__(self,name)\n",
    "        self.color = color\n",
    "        Cat.count += 1\n",
    "        self.noise = \"roar\""
   ]
  },
  {
   "cell_type": "markdown",
   "metadata": {
    "application/vnd.databricks.v1+cell": {
     "cellMetadata": {},
     "inputWidgets": {},
     "nuid": "5ced3392-7f33-42c4-9aa5-ba741115fd2d",
     "showTitle": false,
     "title": ""
    }
   },
   "source": [
    "* add a method to Pet that applies to all pets"
   ]
  },
  {
   "cell_type": "code",
   "execution_count": 0,
   "metadata": {
    "application/vnd.databricks.v1+cell": {
     "cellMetadata": {},
     "inputWidgets": {},
     "nuid": "eaa6fe43-e135-45f5-bfdd-8fc127714dca",
     "showTitle": false,
     "title": ""
    },
    "collapsed": true
   },
   "outputs": [],
   "source": [
    "class Pet():\n",
    "    \n",
    "    def __init__(self, name):\n",
    "        self.name = name\n",
    "        self.__owner = None\n",
    "        self.image_path = None\n",
    "        self.noise = None\n",
    "        \n",
    "    def display_image(self):\n",
    "        if self.image_path is not None:\n",
    "            display(Image(filename=self.image_path))\n",
    "            \n",
    "    def make_noise(self):\n",
    "        if self.noise is not None:\n",
    "            print(self.noise)\n",
    "    \n",
    "    def change_owner(self, new_owner):\n",
    "        self.__owner = new_owner"
   ]
  },
  {
   "cell_type": "markdown",
   "metadata": {
    "application/vnd.databricks.v1+cell": {
     "cellMetadata": {},
     "inputWidgets": {},
     "nuid": "04ec52ea-435a-4d1d-b626-3d3145fa7744",
     "showTitle": false,
     "title": ""
    }
   },
   "source": [
    "* add at least one new method to Dog and Cat that is specific to that pet"
   ]
  },
  {
   "cell_type": "code",
   "execution_count": 0,
   "metadata": {
    "application/vnd.databricks.v1+cell": {
     "cellMetadata": {},
     "inputWidgets": {},
     "nuid": "c9413cc0-71ef-419b-98fe-b768d0db537d",
     "showTitle": false,
     "title": ""
    }
   },
   "outputs": [],
   "source": [
    "class Dog(Pet):\n",
    "    \n",
    "    count = 0 # class variable to keep track of how many dogs we have\n",
    "    \n",
    "    def __init__(self, name, breed):\n",
    "        Pet.__init__(self,name)\n",
    "        self.breed = breed\n",
    "        Dog.count += 1\n",
    "        self.noise = \"woof woof\" # generic dog noise\n",
    "    \n",
    "        "
   ]
  },
  {
   "cell_type": "code",
   "execution_count": 0,
   "metadata": {
    "application/vnd.databricks.v1+cell": {
     "cellMetadata": {},
     "inputWidgets": {},
     "nuid": "90e2e97c-5748-4839-bdec-4e1c317a70f6",
     "showTitle": false,
     "title": ""
    }
   },
   "outputs": [],
   "source": [
    "class Cat(Pet):\n",
    "    \n",
    "    count = 0\n",
    "    \n",
    "    def __init__(self, name, breed):\n",
    "        Pet.__init__(self,name)\n",
    "        self.breed = breed\n",
    "        Cat.count += 1\n",
    "        self.noise = \"meow\" # generic cat noise\n",
    "    "
   ]
  },
  {
   "cell_type": "code",
   "execution_count": 0,
   "metadata": {
    "application/vnd.databricks.v1+cell": {
     "cellMetadata": {},
     "inputWidgets": {},
     "nuid": "1c08d55b-9f85-4f05-860a-b63d3d1f9c37",
     "showTitle": false,
     "title": ""
    },
    "collapsed": true
   },
   "outputs": [],
   "source": []
  },
  {
   "cell_type": "markdown",
   "metadata": {
    "application/vnd.databricks.v1+cell": {
     "cellMetadata": {},
     "inputWidgets": {},
     "nuid": "a996f2b0-f00e-448e-b233-3b6498d494ba",
     "showTitle": false,
     "title": ""
    }
   },
   "source": [
    "# The Game section \n",
    "* Make a world and populate it with your animals\n",
    "\n",
    "* this exercise is based on this post  https://learnpythonthehardway.org/book/ex43.html\n",
    "* Here are some beginnier rooms which will load animals"
   ]
  },
  {
   "cell_type": "code",
   "execution_count": 0,
   "metadata": {
    "application/vnd.databricks.v1+cell": {
     "cellMetadata": {},
     "inputWidgets": {},
     "nuid": "4585e412-c3c3-494d-8154-174127e1d737",
     "showTitle": false,
     "title": ""
    }
   },
   "outputs": [],
   "source": [
    "from sys import exit\n",
    "from random import randint\n",
    "\n",
    "# make rooms of different size that specify different number of encounters\n",
    "class Mapitem(object):\n",
    "    NPA = [c, d, d2, b] # possible non player animals objects              \n",
    "    def enter(self):\n",
    "        print (\"this is the base for rooms, the enter method is replaced\")\n",
    "        exit(1)\n",
    "\n",
    "#################################\n",
    "        \n",
    "class BigRoom(Mapitem):\n",
    "    \n",
    "    NumAnimals=3 # meet 3 non-player animals\n",
    "\n",
    "    def enter(self):\n",
    "        self.NumAnimal=3\n",
    "        print ('There are ', self.NumAnimal, ' ANIMALs in here!')\n",
    "        while self.NumAnimal > 0:\n",
    "            Animal= (self.NPA[randint(0, len(self.NPA)-1)])\n",
    "            Animal.make_noise()\n",
    "            self.NumAnimal -= 1\n",
    "    \n",
    "class MedRoom(Mapitem): #2 interactions\n",
    "    \n",
    "    NumAnimals=2 # meet 2 non-player animals\n",
    "\n",
    "    def enter(self):\n",
    "\n",
    "        self.NumAnimal=2\n",
    "        print ('There are ', self.NumAnimal, ' ANIMALs in here!')\n",
    "        while self.NumAnimal > 0:\n",
    "            Animal= (self.NPA[randint(0, len(self.NPA)-1)])\n",
    "            Animal.make_noise()\n",
    "            self.NumAnimal -= 1\n",
    "        return 'SmRoom'\n",
    "\n",
    "class SmRoom(Mapitem): #1 interaction\n",
    "\n",
    "    def enter(self):\n",
    "        self.NumAnimal=1\n",
    "        print ('There is ', self.NumAnimal, ' ANIMAL in here!')\n",
    "        while self.NumAnimal > 0:\n",
    "            Animal= (self.NPA[randint(0, len(self.NPA)-1)])\n",
    "            Animal.make_noise()\n",
    "            self.NumAnimal -= 1\n",
    "        return 'BigRoom'"
   ]
  },
  {
   "cell_type": "markdown",
   "metadata": {
    "application/vnd.databricks.v1+cell": {
     "cellMetadata": {},
     "inputWidgets": {},
     "nuid": "9ffe9d7e-2f75-481d-b06b-702b719dbc39",
     "showTitle": false,
     "title": ""
    }
   },
   "source": [
    "* Write code to initalize then go to three rooms of any size in series\n",
    "* Note that each room will print the name of a \"Next Room\". We will use that below..."
   ]
  },
  {
   "cell_type": "code",
   "execution_count": 0,
   "metadata": {
    "application/vnd.databricks.v1+cell": {
     "cellMetadata": {},
     "inputWidgets": {},
     "nuid": "1524fb3e-6fa5-4f92-ac25-f2536c80bf30",
     "showTitle": false,
     "title": ""
    }
   },
   "outputs": [
    {
     "output_type": "execute_result",
     "data": {
      "text/plain": [
       "<__main__.MedRoom at 0x7fa8a03b94f0>"
      ]
     },
     "execution_count": 29,
     "metadata": {},
     "output_type": "execute_result"
    }
   ],
   "source": [
    "rooms['MedRoom']"
   ]
  },
  {
   "cell_type": "markdown",
   "metadata": {
    "application/vnd.databricks.v1+cell": {
     "cellMetadata": {},
     "inputWidgets": {},
     "nuid": "cb178458-beda-4507-9815-c2340e99549b",
     "showTitle": false,
     "title": ""
    }
   },
   "source": [
    "* Use the output of the room object to go to specify the next room\n",
    "* Use the provided room dictionary to specify the object with just a string (e.g.'MedRoom')"
   ]
  },
  {
   "cell_type": "code",
   "execution_count": 0,
   "metadata": {
    "application/vnd.databricks.v1+cell": {
     "cellMetadata": {},
     "inputWidgets": {},
     "nuid": "bc655592-d4dd-4af4-90ac-b5ee97fddaf7",
     "showTitle": false,
     "title": ""
    }
   },
   "outputs": [
    {
     "output_type": "stream",
     "name": "stdout",
     "output_type": "stream",
     "text": [
      "There are  2  ANIMALs in here!\nwoof woof\nwoof woof\nI am going to the  SmRoom\nThere is  1  ANIMAL in here!\nwoof woof\n"
     ]
    },
    {
     "output_type": "execute_result",
     "data": {
      "text/plain": [
       "'BigRoom'"
      ]
     },
     "execution_count": 31,
     "metadata": {},
     "output_type": "execute_result"
    }
   ],
   "source": [
    "rooms = {'MedRoom': MedRoom(),'SmRoom': SmRoom(),'BigRoom': BigRoom()}\n",
    "\n",
    "# initialise the current room\n",
    "# enter the current room \n",
    "current_room = rooms['MedRoom']\n",
    "next_room = current_room.enter()\n",
    "\n",
    "print (\"I am going to the \", next_room)\n",
    "# reset the value of the current object to the next object\n",
    "current_room = rooms[next_room]\n",
    "# enter the current room \n",
    "current_room.enter()"
   ]
  },
  {
   "cell_type": "code",
   "execution_count": 0,
   "metadata": {
    "application/vnd.databricks.v1+cell": {
     "cellMetadata": {},
     "inputWidgets": {},
     "nuid": "3232af31-2dd1-4e05-aa2d-402ded1f9fe7",
     "showTitle": false,
     "title": ""
    },
    "collapsed": true
   },
   "outputs": [],
   "source": []
  },
  {
   "cell_type": "code",
   "execution_count": 0,
   "metadata": {
    "application/vnd.databricks.v1+cell": {
     "cellMetadata": {},
     "inputWidgets": {},
     "nuid": "3f93c7b7-4cf5-449b-8e57-3c3761a8da7b",
     "showTitle": false,
     "title": ""
    },
    "collapsed": true
   },
   "outputs": [],
   "source": [
    "# Advanced challenge \n",
    "\n",
    "- Refer to this example, which the game code is based on:\n",
    "http://learnpythonthehardway.org/book/ex43.html\n",
    "    \n",
    "#write ENGINE and MAP objects which will build the room objects \n",
    "#automatically as you move through the building "
   ]
  },
  {
   "cell_type": "code",
   "execution_count": 0,
   "metadata": {
    "application/vnd.databricks.v1+cell": {
     "cellMetadata": {},
     "inputWidgets": {},
     "nuid": "9cdcb8f1-ff2a-42ed-bb1d-b35498a39e9a",
     "showTitle": false,
     "title": ""
    }
   },
   "outputs": [],
   "source": [
    "from sys import exit\n",
    "from random import randint\n",
    "\n",
    "# make rooms of different size that specify different number of encounters\n",
    "class Mapitem(object):\n",
    "    NPA = [c, d, d2, b] # possible non player animals objects              \n",
    "    def enter(self):\n",
    "        print (\"this is the base for rooms, the enter method is replaced\")\n",
    "        exit(1)"
   ]
  },
  {
   "cell_type": "code",
   "execution_count": 0,
   "metadata": {
    "application/vnd.databricks.v1+cell": {
     "cellMetadata": {},
     "inputWidgets": {},
     "nuid": "85924149-e72c-4db0-b948-4bb26f44aa72",
     "showTitle": false,
     "title": ""
    }
   },
   "outputs": [],
   "source": [
    "class Room(Mapitem):\n",
    "    \n",
    "    def __init__(self, NumAnimals):\n",
    "        self.NumAnimals = NumAnimals # meet x non-player animals\n",
    "\n",
    "    def enter(self):\n",
    "        print ('There are ', self.NumAnimals, ' ANIMALs in here!')\n",
    "        while self.NumAnimals > 0:\n",
    "            Animal= (self.NPA[randint(0, len(self.NPA)-1)])\n",
    "            Animal.make_noise()\n",
    "            self.NumAnimals -= 1"
   ]
  },
  {
   "cell_type": "code",
   "execution_count": 0,
   "metadata": {
    "application/vnd.databricks.v1+cell": {
     "cellMetadata": {},
     "inputWidgets": {},
     "nuid": "49315e6e-7ba2-4bd4-b8f6-a3b0257520d2",
     "showTitle": false,
     "title": ""
    }
   },
   "outputs": [
    {
     "output_type": "stream",
     "name": "stdout",
     "output_type": "stream",
     "text": [
      "There are  1  ANIMALs in here!\nwoof woof\n"
     ]
    }
   ],
   "source": [
    "SmRoom = Room(1)\n",
    "SmRoom.enter()"
   ]
  },
  {
   "cell_type": "code",
   "execution_count": 0,
   "metadata": {
    "application/vnd.databricks.v1+cell": {
     "cellMetadata": {},
     "inputWidgets": {},
     "nuid": "01bf4bfb-2323-439a-88f9-e2a74be565b2",
     "showTitle": false,
     "title": ""
    }
   },
   "outputs": [
    {
     "output_type": "stream",
     "name": "stdout",
     "output_type": "stream",
     "text": [
      "There are  1  ANIMALs in here!\nwoof woof\nThere are  2  ANIMALs in here!\nmeow\nwoof woof\nThere are  3  ANIMALs in here!\nwoof woof\nwoof woof\nmeow\n"
     ]
    }
   ],
   "source": [
    "for i in range(1, 4):\n",
    "    current_room = Room(i)\n",
    "    current_room.enter()"
   ]
  },
  {
   "cell_type": "code",
   "execution_count": 0,
   "metadata": {
    "application/vnd.databricks.v1+cell": {
     "cellMetadata": {},
     "inputWidgets": {},
     "nuid": "afa795d4-d69a-484f-9451-d83ce32992a3",
     "showTitle": false,
     "title": ""
    }
   },
   "outputs": [],
   "source": []
  }
 ],
 "metadata": {
  "application/vnd.databricks.v1+notebook": {
   "dashboards": [],
   "language": "python",
   "notebookMetadata": {
    "pythonIndentUnit": 4
   },
   "notebookName": "Inheritance - Breakout Session Activity",
   "widgets": {}
  },
  "kernelspec": {
   "display_name": "Python 3",
   "language": "python",
   "name": "python3"
  },
  "language_info": {
   "codemirror_mode": {
    "name": "ipython",
    "version": 3
   },
   "file_extension": ".py",
   "mimetype": "text/x-python",
   "name": "python",
   "nbconvert_exporter": "python",
   "pygments_lexer": "ipython3",
   "version": "3.8.8"
  }
 },
 "nbformat": 4,
 "nbformat_minor": 0
}
