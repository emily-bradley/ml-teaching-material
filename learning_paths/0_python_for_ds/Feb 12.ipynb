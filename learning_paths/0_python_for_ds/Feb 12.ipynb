{
 "cells": [
  {
   "cell_type": "code",
   "execution_count": 10,
   "id": "b7bb7829",
   "metadata": {},
   "outputs": [],
   "source": [
    "import numpy as np\n",
    "import pandas as pd\n",
    "import matplotlib.pyplot as plt\n",
    "import seaborn as sns\n",
    "from sklearn.linear_model import LinearRegression\n",
    "from sklearn.metrics import r2_score\n",
    "from sklearn.model_selection import train_test_split\n",
    "from sklearn.preprocessing import StandardScaler, MinMaxScaler"
   ]
  },
  {
   "cell_type": "code",
   "execution_count": 11,
   "id": "a813b671",
   "metadata": {},
   "outputs": [],
   "source": [
    "from sklearn.datasets import load_diabetes\n",
    "\n",
    "X, y = load_diabetes(return_X_y=True, as_frame=True)"
   ]
  },
  {
   "cell_type": "code",
   "execution_count": 22,
   "id": "cb08e29c",
   "metadata": {},
   "outputs": [
    {
     "data": {
      "text/html": [
       "<div>\n",
       "<style scoped>\n",
       "    .dataframe tbody tr th:only-of-type {\n",
       "        vertical-align: middle;\n",
       "    }\n",
       "\n",
       "    .dataframe tbody tr th {\n",
       "        vertical-align: top;\n",
       "    }\n",
       "\n",
       "    .dataframe thead th {\n",
       "        text-align: right;\n",
       "    }\n",
       "</style>\n",
       "<table border=\"1\" class=\"dataframe\">\n",
       "  <thead>\n",
       "    <tr style=\"text-align: right;\">\n",
       "      <th></th>\n",
       "      <th>age</th>\n",
       "      <th>sex</th>\n",
       "      <th>bmi</th>\n",
       "      <th>bp</th>\n",
       "      <th>s1</th>\n",
       "      <th>s2</th>\n",
       "      <th>s3</th>\n",
       "      <th>s4</th>\n",
       "      <th>s5</th>\n",
       "      <th>s6</th>\n",
       "    </tr>\n",
       "  </thead>\n",
       "  <tbody>\n",
       "    <tr>\n",
       "      <th>0</th>\n",
       "      <td>0.038076</td>\n",
       "      <td>0.050680</td>\n",
       "      <td>0.061696</td>\n",
       "      <td>0.021872</td>\n",
       "      <td>-0.044223</td>\n",
       "      <td>-0.034821</td>\n",
       "      <td>-0.043401</td>\n",
       "      <td>-0.002592</td>\n",
       "      <td>0.019908</td>\n",
       "      <td>-0.017646</td>\n",
       "    </tr>\n",
       "    <tr>\n",
       "      <th>1</th>\n",
       "      <td>-0.001882</td>\n",
       "      <td>-0.044642</td>\n",
       "      <td>-0.051474</td>\n",
       "      <td>-0.026328</td>\n",
       "      <td>-0.008449</td>\n",
       "      <td>-0.019163</td>\n",
       "      <td>0.074412</td>\n",
       "      <td>-0.039493</td>\n",
       "      <td>-0.068330</td>\n",
       "      <td>-0.092204</td>\n",
       "    </tr>\n",
       "    <tr>\n",
       "      <th>2</th>\n",
       "      <td>0.085299</td>\n",
       "      <td>0.050680</td>\n",
       "      <td>0.044451</td>\n",
       "      <td>-0.005671</td>\n",
       "      <td>-0.045599</td>\n",
       "      <td>-0.034194</td>\n",
       "      <td>-0.032356</td>\n",
       "      <td>-0.002592</td>\n",
       "      <td>0.002864</td>\n",
       "      <td>-0.025930</td>\n",
       "    </tr>\n",
       "    <tr>\n",
       "      <th>3</th>\n",
       "      <td>-0.089063</td>\n",
       "      <td>-0.044642</td>\n",
       "      <td>-0.011595</td>\n",
       "      <td>-0.036656</td>\n",
       "      <td>0.012191</td>\n",
       "      <td>0.024991</td>\n",
       "      <td>-0.036038</td>\n",
       "      <td>0.034309</td>\n",
       "      <td>0.022692</td>\n",
       "      <td>-0.009362</td>\n",
       "    </tr>\n",
       "    <tr>\n",
       "      <th>4</th>\n",
       "      <td>0.005383</td>\n",
       "      <td>-0.044642</td>\n",
       "      <td>-0.036385</td>\n",
       "      <td>0.021872</td>\n",
       "      <td>0.003935</td>\n",
       "      <td>0.015596</td>\n",
       "      <td>0.008142</td>\n",
       "      <td>-0.002592</td>\n",
       "      <td>-0.031991</td>\n",
       "      <td>-0.046641</td>\n",
       "    </tr>\n",
       "  </tbody>\n",
       "</table>\n",
       "</div>"
      ],
      "text/plain": [
       "        age       sex       bmi        bp        s1        s2        s3  \\\n",
       "0  0.038076  0.050680  0.061696  0.021872 -0.044223 -0.034821 -0.043401   \n",
       "1 -0.001882 -0.044642 -0.051474 -0.026328 -0.008449 -0.019163  0.074412   \n",
       "2  0.085299  0.050680  0.044451 -0.005671 -0.045599 -0.034194 -0.032356   \n",
       "3 -0.089063 -0.044642 -0.011595 -0.036656  0.012191  0.024991 -0.036038   \n",
       "4  0.005383 -0.044642 -0.036385  0.021872  0.003935  0.015596  0.008142   \n",
       "\n",
       "         s4        s5        s6  \n",
       "0 -0.002592  0.019908 -0.017646  \n",
       "1 -0.039493 -0.068330 -0.092204  \n",
       "2 -0.002592  0.002864 -0.025930  \n",
       "3  0.034309  0.022692 -0.009362  \n",
       "4 -0.002592 -0.031991 -0.046641  "
      ]
     },
     "execution_count": 22,
     "metadata": {},
     "output_type": "execute_result"
    }
   ],
   "source": [
    "X.head()"
   ]
  },
  {
   "cell_type": "markdown",
   "id": "374ddd8e",
   "metadata": {},
   "source": [
    "### Dataset\n",
    "\n",
    "* age age in years\n",
    "* sex\n",
    "* bmi body mass index\n",
    "* bp average blood pressure\n",
    "* s1 tc, T-Cells (a type of white blood cells)\n",
    "* s2 ldl, low-density lipoproteins\n",
    "* s3 hdl, high-density lipoproteins\n",
    "* s4 tch, thyroid stimulating hormone\n",
    "* s5 ltg, lamotrigine\n",
    "* s6 glu, blood sugar level\n",
    "* y response"
   ]
  },
  {
   "cell_type": "code",
   "execution_count": 12,
   "id": "c18586dc",
   "metadata": {},
   "outputs": [
    {
     "name": "stdout",
     "output_type": "stream",
     "text": [
      "<class 'pandas.core.frame.DataFrame'>\n",
      "RangeIndex: 442 entries, 0 to 441\n",
      "Data columns (total 10 columns):\n",
      " #   Column  Non-Null Count  Dtype  \n",
      "---  ------  --------------  -----  \n",
      " 0   age     442 non-null    float64\n",
      " 1   sex     442 non-null    float64\n",
      " 2   bmi     442 non-null    float64\n",
      " 3   bp      442 non-null    float64\n",
      " 4   s1      442 non-null    float64\n",
      " 5   s2      442 non-null    float64\n",
      " 6   s3      442 non-null    float64\n",
      " 7   s4      442 non-null    float64\n",
      " 8   s5      442 non-null    float64\n",
      " 9   s6      442 non-null    float64\n",
      "dtypes: float64(10)\n",
      "memory usage: 34.7 KB\n"
     ]
    }
   ],
   "source": [
    "## gives information about the data types,columns, null value counts, memory usage etc\n",
    "X.info()"
   ]
  },
  {
   "cell_type": "code",
   "execution_count": 5,
   "id": "20d35f6d",
   "metadata": {},
   "outputs": [
    {
     "data": {
      "text/plain": [
       "<AxesSubplot: title={'center': 'Correlation between dataset variables'}>"
      ]
     },
     "execution_count": 5,
     "metadata": {},
     "output_type": "execute_result"
    },
    {
     "data": {
      "image/png": "[encoded data removed]",
      "text/plain": [
       "<Figure size 576x576 with 2 Axes>"
      ]
     },
     "metadata": {
      "needs_background": "light"
     },
     "output_type": "display_data"
    }
   ],
   "source": [
    "#print a graph for correlation\n",
    "plt.figure(figsize=(8,8))\n",
    "plt.title('Correlation between dataset variables')\n",
    "sns.heatmap(X.corr(), annot=True)"
   ]
  },
  {
   "cell_type": "code",
   "execution_count": 13,
   "id": "e08c11bb",
   "metadata": {},
   "outputs": [],
   "source": [
    "#spliting data into train and test set\n",
    "X_train, X_test, y_train, y_test = train_test_split(X, y, test_size=0.30, random_state=9) #test_size is for the size of test set"
   ]
  },
  {
   "cell_type": "code",
   "execution_count": 20,
   "id": "0bac6746",
   "metadata": {},
   "outputs": [
    {
     "data": {
      "text/plain": [
       "LinearRegression()"
      ]
     },
     "execution_count": 20,
     "metadata": {},
     "output_type": "execute_result"
    }
   ],
   "source": [
    "# Create linear regression object\n",
    "regr = LinearRegression()\n",
    "\n",
    "regr"
   ]
  },
  {
   "cell_type": "code",
   "execution_count": 23,
   "id": "1765bb1d",
   "metadata": {},
   "outputs": [
    {
     "data": {
      "text/html": [
       "<div>\n",
       "<style scoped>\n",
       "    .dataframe tbody tr th:only-of-type {\n",
       "        vertical-align: middle;\n",
       "    }\n",
       "\n",
       "    .dataframe tbody tr th {\n",
       "        vertical-align: top;\n",
       "    }\n",
       "\n",
       "    .dataframe thead th {\n",
       "        text-align: right;\n",
       "    }\n",
       "</style>\n",
       "<table border=\"1\" class=\"dataframe\">\n",
       "  <thead>\n",
       "    <tr style=\"text-align: right;\">\n",
       "      <th></th>\n",
       "      <th>age</th>\n",
       "      <th>sex</th>\n",
       "      <th>bmi</th>\n",
       "      <th>bp</th>\n",
       "      <th>s1</th>\n",
       "      <th>s2</th>\n",
       "      <th>s3</th>\n",
       "      <th>s4</th>\n",
       "      <th>s5</th>\n",
       "      <th>s6</th>\n",
       "    </tr>\n",
       "  </thead>\n",
       "  <tbody>\n",
       "    <tr>\n",
       "      <th>408</th>\n",
       "      <td>0.063504</td>\n",
       "      <td>-0.044642</td>\n",
       "      <td>-0.050396</td>\n",
       "      <td>0.107944</td>\n",
       "      <td>0.031454</td>\n",
       "      <td>0.019354</td>\n",
       "      <td>-0.017629</td>\n",
       "      <td>0.023608</td>\n",
       "      <td>0.058039</td>\n",
       "      <td>0.040343</td>\n",
       "    </tr>\n",
       "    <tr>\n",
       "      <th>20</th>\n",
       "      <td>-0.049105</td>\n",
       "      <td>-0.044642</td>\n",
       "      <td>-0.056863</td>\n",
       "      <td>-0.043542</td>\n",
       "      <td>-0.045599</td>\n",
       "      <td>-0.043276</td>\n",
       "      <td>0.000779</td>\n",
       "      <td>-0.039493</td>\n",
       "      <td>-0.011901</td>\n",
       "      <td>0.015491</td>\n",
       "    </tr>\n",
       "    <tr>\n",
       "      <th>200</th>\n",
       "      <td>0.056239</td>\n",
       "      <td>-0.044642</td>\n",
       "      <td>-0.057941</td>\n",
       "      <td>-0.007966</td>\n",
       "      <td>0.052093</td>\n",
       "      <td>0.049103</td>\n",
       "      <td>0.056003</td>\n",
       "      <td>-0.021412</td>\n",
       "      <td>-0.028320</td>\n",
       "      <td>0.044485</td>\n",
       "    </tr>\n",
       "    <tr>\n",
       "      <th>9</th>\n",
       "      <td>-0.070900</td>\n",
       "      <td>-0.044642</td>\n",
       "      <td>0.039062</td>\n",
       "      <td>-0.033214</td>\n",
       "      <td>-0.012577</td>\n",
       "      <td>-0.034508</td>\n",
       "      <td>-0.024993</td>\n",
       "      <td>-0.002592</td>\n",
       "      <td>0.067736</td>\n",
       "      <td>-0.013504</td>\n",
       "    </tr>\n",
       "    <tr>\n",
       "      <th>276</th>\n",
       "      <td>0.012648</td>\n",
       "      <td>-0.044642</td>\n",
       "      <td>0.026128</td>\n",
       "      <td>0.063187</td>\n",
       "      <td>0.125019</td>\n",
       "      <td>0.091691</td>\n",
       "      <td>0.063367</td>\n",
       "      <td>-0.002592</td>\n",
       "      <td>0.057573</td>\n",
       "      <td>-0.021788</td>\n",
       "    </tr>\n",
       "    <tr>\n",
       "      <th>...</th>\n",
       "      <td>...</td>\n",
       "      <td>...</td>\n",
       "      <td>...</td>\n",
       "      <td>...</td>\n",
       "      <td>...</td>\n",
       "      <td>...</td>\n",
       "      <td>...</td>\n",
       "      <td>...</td>\n",
       "      <td>...</td>\n",
       "      <td>...</td>\n",
       "    </tr>\n",
       "    <tr>\n",
       "      <th>56</th>\n",
       "      <td>-0.041840</td>\n",
       "      <td>-0.044642</td>\n",
       "      <td>0.041218</td>\n",
       "      <td>-0.026328</td>\n",
       "      <td>-0.031840</td>\n",
       "      <td>-0.030437</td>\n",
       "      <td>-0.036038</td>\n",
       "      <td>0.002943</td>\n",
       "      <td>0.033657</td>\n",
       "      <td>-0.017646</td>\n",
       "    </tr>\n",
       "    <tr>\n",
       "      <th>438</th>\n",
       "      <td>-0.005515</td>\n",
       "      <td>0.050680</td>\n",
       "      <td>-0.015906</td>\n",
       "      <td>-0.067642</td>\n",
       "      <td>0.049341</td>\n",
       "      <td>0.079165</td>\n",
       "      <td>-0.028674</td>\n",
       "      <td>0.034309</td>\n",
       "      <td>-0.018118</td>\n",
       "      <td>0.044485</td>\n",
       "    </tr>\n",
       "    <tr>\n",
       "      <th>126</th>\n",
       "      <td>-0.089063</td>\n",
       "      <td>-0.044642</td>\n",
       "      <td>-0.061174</td>\n",
       "      <td>-0.026328</td>\n",
       "      <td>-0.055231</td>\n",
       "      <td>-0.054549</td>\n",
       "      <td>0.041277</td>\n",
       "      <td>-0.076395</td>\n",
       "      <td>-0.093936</td>\n",
       "      <td>-0.054925</td>\n",
       "    </tr>\n",
       "    <tr>\n",
       "      <th>348</th>\n",
       "      <td>0.030811</td>\n",
       "      <td>-0.044642</td>\n",
       "      <td>-0.020218</td>\n",
       "      <td>-0.005671</td>\n",
       "      <td>-0.004321</td>\n",
       "      <td>-0.029497</td>\n",
       "      <td>0.078093</td>\n",
       "      <td>-0.039493</td>\n",
       "      <td>-0.010904</td>\n",
       "      <td>-0.001078</td>\n",
       "    </tr>\n",
       "    <tr>\n",
       "      <th>382</th>\n",
       "      <td>0.048974</td>\n",
       "      <td>-0.044642</td>\n",
       "      <td>0.060618</td>\n",
       "      <td>-0.022885</td>\n",
       "      <td>-0.023584</td>\n",
       "      <td>-0.072712</td>\n",
       "      <td>-0.043401</td>\n",
       "      <td>-0.002592</td>\n",
       "      <td>0.104138</td>\n",
       "      <td>0.036201</td>\n",
       "    </tr>\n",
       "  </tbody>\n",
       "</table>\n",
       "<p>309 rows × 10 columns</p>\n",
       "</div>"
      ],
      "text/plain": [
       "          age       sex       bmi        bp        s1        s2        s3  \\\n",
       "408  0.063504 -0.044642 -0.050396  0.107944  0.031454  0.019354 -0.017629   \n",
       "20  -0.049105 -0.044642 -0.056863 -0.043542 -0.045599 -0.043276  0.000779   \n",
       "200  0.056239 -0.044642 -0.057941 -0.007966  0.052093  0.049103  0.056003   \n",
       "9   -0.070900 -0.044642  0.039062 -0.033214 -0.012577 -0.034508 -0.024993   \n",
       "276  0.012648 -0.044642  0.026128  0.063187  0.125019  0.091691  0.063367   \n",
       "..        ...       ...       ...       ...       ...       ...       ...   \n",
       "56  -0.041840 -0.044642  0.041218 -0.026328 -0.031840 -0.030437 -0.036038   \n",
       "438 -0.005515  0.050680 -0.015906 -0.067642  0.049341  0.079165 -0.028674   \n",
       "126 -0.089063 -0.044642 -0.061174 -0.026328 -0.055231 -0.054549  0.041277   \n",
       "348  0.030811 -0.044642 -0.020218 -0.005671 -0.004321 -0.029497  0.078093   \n",
       "382  0.048974 -0.044642  0.060618 -0.022885 -0.023584 -0.072712 -0.043401   \n",
       "\n",
       "           s4        s5        s6  \n",
       "408  0.023608  0.058039  0.040343  \n",
       "20  -0.039493 -0.011901  0.015491  \n",
       "200 -0.021412 -0.028320  0.044485  \n",
       "9   -0.002592  0.067736 -0.013504  \n",
       "276 -0.002592  0.057573 -0.021788  \n",
       "..        ...       ...       ...  \n",
       "56   0.002943  0.033657 -0.017646  \n",
       "438  0.034309 -0.018118  0.044485  \n",
       "126 -0.076395 -0.093936 -0.054925  \n",
       "348 -0.039493 -0.010904 -0.001078  \n",
       "382 -0.002592  0.104138  0.036201  \n",
       "\n",
       "[309 rows x 10 columns]"
      ]
     },
     "execution_count": 23,
     "metadata": {},
     "output_type": "execute_result"
    }
   ],
   "source": [
    "X_train"
   ]
  },
  {
   "cell_type": "code",
   "execution_count": 25,
   "id": "73bd1edf",
   "metadata": {},
   "outputs": [
    {
     "data": {
      "text/plain": [
       "408    189.0\n",
       "20      68.0\n",
       "200    158.0\n",
       "9      310.0\n",
       "276    283.0\n",
       "Name: target, dtype: float64"
      ]
     },
     "execution_count": 25,
     "metadata": {},
     "output_type": "execute_result"
    }
   ],
   "source": [
    "y_train.head()"
   ]
  },
  {
   "cell_type": "code",
   "execution_count": 26,
   "id": "8e7e52f5",
   "metadata": {},
   "outputs": [
    {
     "data": {
      "text/plain": [
       "LinearRegression()"
      ]
     },
     "execution_count": 26,
     "metadata": {},
     "output_type": "execute_result"
    }
   ],
   "source": [
    "# Training our model with training sets\n",
    "regr.fit(X_train, y_train)\n",
    "\n",
    "regr"
   ]
  },
  {
   "cell_type": "code",
   "execution_count": 29,
   "id": "43f01c5f",
   "metadata": {},
   "outputs": [
    {
     "data": {
      "text/html": [
       "<div>\n",
       "<style scoped>\n",
       "    .dataframe tbody tr th:only-of-type {\n",
       "        vertical-align: middle;\n",
       "    }\n",
       "\n",
       "    .dataframe tbody tr th {\n",
       "        vertical-align: top;\n",
       "    }\n",
       "\n",
       "    .dataframe thead th {\n",
       "        text-align: right;\n",
       "    }\n",
       "</style>\n",
       "<table border=\"1\" class=\"dataframe\">\n",
       "  <thead>\n",
       "    <tr style=\"text-align: right;\">\n",
       "      <th></th>\n",
       "      <th>age</th>\n",
       "      <th>sex</th>\n",
       "      <th>bmi</th>\n",
       "      <th>bp</th>\n",
       "      <th>s1</th>\n",
       "      <th>s2</th>\n",
       "      <th>s3</th>\n",
       "      <th>s4</th>\n",
       "      <th>s5</th>\n",
       "      <th>s6</th>\n",
       "    </tr>\n",
       "  </thead>\n",
       "  <tbody>\n",
       "    <tr>\n",
       "      <th>381</th>\n",
       "      <td>-0.070900</td>\n",
       "      <td>0.05068</td>\n",
       "      <td>-0.089197</td>\n",
       "      <td>-0.074528</td>\n",
       "      <td>-0.042848</td>\n",
       "      <td>-0.025739</td>\n",
       "      <td>-0.032356</td>\n",
       "      <td>-0.002592</td>\n",
       "      <td>-0.012908</td>\n",
       "      <td>-0.054925</td>\n",
       "    </tr>\n",
       "    <tr>\n",
       "      <th>392</th>\n",
       "      <td>-0.041840</td>\n",
       "      <td>0.05068</td>\n",
       "      <td>-0.029918</td>\n",
       "      <td>-0.002228</td>\n",
       "      <td>0.021822</td>\n",
       "      <td>0.036577</td>\n",
       "      <td>0.011824</td>\n",
       "      <td>-0.002592</td>\n",
       "      <td>-0.041180</td>\n",
       "      <td>0.065196</td>\n",
       "    </tr>\n",
       "    <tr>\n",
       "      <th>155</th>\n",
       "      <td>-0.027310</td>\n",
       "      <td>0.05068</td>\n",
       "      <td>0.060618</td>\n",
       "      <td>0.049415</td>\n",
       "      <td>0.085116</td>\n",
       "      <td>0.086368</td>\n",
       "      <td>-0.002903</td>\n",
       "      <td>0.034309</td>\n",
       "      <td>0.037814</td>\n",
       "      <td>0.048628</td>\n",
       "    </tr>\n",
       "    <tr>\n",
       "      <th>439</th>\n",
       "      <td>0.041708</td>\n",
       "      <td>0.05068</td>\n",
       "      <td>-0.015906</td>\n",
       "      <td>0.017282</td>\n",
       "      <td>-0.037344</td>\n",
       "      <td>-0.013840</td>\n",
       "      <td>-0.024993</td>\n",
       "      <td>-0.011080</td>\n",
       "      <td>-0.046879</td>\n",
       "      <td>0.015491</td>\n",
       "    </tr>\n",
       "    <tr>\n",
       "      <th>331</th>\n",
       "      <td>0.081666</td>\n",
       "      <td>0.05068</td>\n",
       "      <td>-0.025607</td>\n",
       "      <td>-0.036656</td>\n",
       "      <td>-0.070367</td>\n",
       "      <td>-0.046407</td>\n",
       "      <td>-0.039719</td>\n",
       "      <td>-0.002592</td>\n",
       "      <td>-0.041180</td>\n",
       "      <td>-0.005220</td>\n",
       "    </tr>\n",
       "  </tbody>\n",
       "</table>\n",
       "</div>"
      ],
      "text/plain": [
       "          age      sex       bmi        bp        s1        s2        s3  \\\n",
       "381 -0.070900  0.05068 -0.089197 -0.074528 -0.042848 -0.025739 -0.032356   \n",
       "392 -0.041840  0.05068 -0.029918 -0.002228  0.021822  0.036577  0.011824   \n",
       "155 -0.027310  0.05068  0.060618  0.049415  0.085116  0.086368 -0.002903   \n",
       "439  0.041708  0.05068 -0.015906  0.017282 -0.037344 -0.013840 -0.024993   \n",
       "331  0.081666  0.05068 -0.025607 -0.036656 -0.070367 -0.046407 -0.039719   \n",
       "\n",
       "           s4        s5        s6  \n",
       "381 -0.002592 -0.012908 -0.054925  \n",
       "392 -0.002592 -0.041180  0.065196  \n",
       "155  0.034309  0.037814  0.048628  \n",
       "439 -0.011080 -0.046879  0.015491  \n",
       "331 -0.002592 -0.041180 -0.005220  "
      ]
     },
     "execution_count": 29,
     "metadata": {},
     "output_type": "execute_result"
    }
   ],
   "source": [
    "X_test.head()"
   ]
  },
  {
   "cell_type": "code",
   "execution_count": 31,
   "id": "9b77237f",
   "metadata": {},
   "outputs": [
    {
     "data": {
      "text/plain": [
       "array([ 82.77642544, 100.0800746 , 202.10500129, 119.28747607,\n",
       "       106.60861427, 246.74850754, 207.96302618, 133.73404159,\n",
       "       130.76376643,  57.95696842,  57.33101264, 131.57106913,\n",
       "       149.21615105, 244.44034344,  85.14301692,  77.86295223,\n",
       "       171.55631497,  85.33036234, 120.47259136, 189.65134185,\n",
       "       142.15067549,  91.06586565, 250.01234696, 151.30923722,\n",
       "        77.77404793, 163.29311624, 185.17415397, 116.25098246,\n",
       "        72.04101442, 279.61897901, 241.01694869, 260.82521049,\n",
       "       252.27456459, 215.30814464, 130.77231974, 116.56881669,\n",
       "       171.00819809, 133.26163087, 184.68017666, 171.06181782,\n",
       "        87.52970356, 138.39247036, 191.77609066,  82.9796737 ,\n",
       "       193.47816076, 109.49780202,  69.49711392,  78.12502992,\n",
       "       188.06366065, 149.35264908, 105.6095952 , 125.96685278,\n",
       "        76.85550426,  84.77773073, 167.4521699 , 110.10617799,\n",
       "       123.60241946, 213.51521523, 161.82070569, 212.43317149,\n",
       "       178.81780157, 185.44556293, 168.8668337 , 214.27535294,\n",
       "        94.21935767, 138.20622504, 195.672412  ,  64.02779002,\n",
       "        62.00216655, 180.75351664, 233.75593218, 157.10097666,\n",
       "       225.01514479,  69.95913052, 135.25998545, 143.28340698,\n",
       "        77.00253403, 256.7475114 , 116.41831034, 247.98224406,\n",
       "       128.7472035 , 171.24960568, 149.05880729, 197.22929245,\n",
       "       143.43378427,  48.68018951, 168.27716268, 119.20376171,\n",
       "       211.6205555 , 244.11693027, 243.0170433 , 120.8660502 ,\n",
       "       110.75976826, 215.97837599,  75.71662726, 113.17752673,\n",
       "        83.91078617,  84.76640203, 154.34617221, 166.83928427,\n",
       "        92.48216065, 125.0860187 , 167.95797347, 247.29006773,\n",
       "       187.8641723 , 161.73882432, 158.12629724, 193.67669673,\n",
       "       181.05492326, 157.39813949, 142.56882236, 217.52579971,\n",
       "       204.05035019, 114.19342589, 121.89230426, 126.05814255,\n",
       "       189.210791  ,  45.78910577, 161.94079658, 204.30653818,\n",
       "        56.54060299, 138.02982665,  22.3424926 , 185.03638755,\n",
       "       161.1535432 , 153.07429027, 118.59919304, 245.8202355 ,\n",
       "        52.13873846,  82.35002846, 137.2366537 , 119.7176145 ,\n",
       "       152.35018853])"
      ]
     },
     "execution_count": 31,
     "metadata": {},
     "output_type": "execute_result"
    }
   ],
   "source": [
    "# Make predictions with testing set\n",
    "pred = regr.predict(X_test)\n",
    "\n",
    "pred"
   ]
  },
  {
   "cell_type": "code",
   "execution_count": 33,
   "id": "49931268",
   "metadata": {},
   "outputs": [
    {
     "data": {
      "text/plain": [
       "381    104.0\n",
       "392    118.0\n",
       "155    186.0\n",
       "439    132.0\n",
       "331    199.0\n",
       "       ...  \n",
       "62      52.0\n",
       "242     71.0\n",
       "54     182.0\n",
       "175    127.0\n",
       "344    200.0\n",
       "Name: target, Length: 133, dtype: float64"
      ]
     },
     "execution_count": 33,
     "metadata": {},
     "output_type": "execute_result"
    }
   ],
   "source": [
    "y_test"
   ]
  },
  {
   "cell_type": "code",
   "execution_count": 34,
   "id": "9c54438f",
   "metadata": {},
   "outputs": [
    {
     "data": {
      "text/plain": [
       "484"
      ]
     },
     "execution_count": 34,
     "metadata": {},
     "output_type": "execute_result"
    }
   ],
   "source": [
    "# The residual for the first prediction\n",
    "(104 - 82)**2"
   ]
  },
  {
   "cell_type": "code",
   "execution_count": 35,
   "id": "dfa630b5",
   "metadata": {},
   "outputs": [
    {
     "data": {
      "text/plain": [
       "324"
      ]
     },
     "execution_count": 35,
     "metadata": {},
     "output_type": "execute_result"
    }
   ],
   "source": [
    "# The residual for the second prediction\n",
    "(118 - 100)**2"
   ]
  },
  {
   "cell_type": "code",
   "execution_count": 36,
   "id": "776ffaae",
   "metadata": {},
   "outputs": [
    {
     "data": {
      "text/plain": [
       "808"
      ]
     },
     "execution_count": 36,
     "metadata": {},
     "output_type": "execute_result"
    }
   ],
   "source": [
    "# The sum squared errors for the first and second prediction\n",
    "(104 - 82)**2 + (118 - 100)**2"
   ]
  },
  {
   "cell_type": "code",
   "execution_count": 37,
   "id": "d6110e59",
   "metadata": {},
   "outputs": [
    {
     "data": {
      "text/plain": [
       "133"
      ]
     },
     "execution_count": 37,
     "metadata": {},
     "output_type": "execute_result"
    }
   ],
   "source": [
    "# number of prediction\n",
    "len(pred)"
   ]
  },
  {
   "cell_type": "code",
   "execution_count": 38,
   "id": "dc878c23",
   "metadata": {},
   "outputs": [
    {
     "data": {
      "text/plain": [
       "404.0"
      ]
     },
     "execution_count": 38,
     "metadata": {},
     "output_type": "execute_result"
    }
   ],
   "source": [
    "((104 - 82)**2 + (118 - 100)**2) /2"
   ]
  },
  {
   "cell_type": "code",
   "execution_count": 39,
   "id": "e78fddee",
   "metadata": {},
   "outputs": [
    {
     "data": {
      "text/plain": [
       "381    104.0\n",
       "392    118.0\n",
       "155    186.0\n",
       "439    132.0\n",
       "331    199.0\n",
       "       ...  \n",
       "62      52.0\n",
       "242     71.0\n",
       "54     182.0\n",
       "175    127.0\n",
       "344    200.0\n",
       "Name: target, Length: 133, dtype: float64"
      ]
     },
     "execution_count": 39,
     "metadata": {},
     "output_type": "execute_result"
    }
   ],
   "source": [
    "y_test"
   ]
  },
  {
   "cell_type": "code",
   "execution_count": 32,
   "id": "4ab4cc45",
   "metadata": {},
   "outputs": [
    {
     "data": {
      "text/plain": [
       "0.5900352656383732"
      ]
     },
     "execution_count": 32,
     "metadata": {},
     "output_type": "execute_result"
    }
   ],
   "source": [
    "r2_score(y_test, pred)"
   ]
  },
  {
   "cell_type": "code",
   "execution_count": null,
   "id": "32a32d6b",
   "metadata": {},
   "outputs": [],
   "source": [
    "# The coefficient of determination: 1 is perfect prediction\n",
    "print('R squared: %.2f' % r2_score(y_test, pred))"
   ]
  }
 ],
 "metadata": {
  "kernelspec": {
   "display_name": "Python 3",
   "language": "python",
   "name": "python3"
  },
  "language_info": {
   "codemirror_mode": {
    "name": "ipython",
    "version": 3
   },
   "file_extension": ".py",
   "mimetype": "text/x-python",
   "name": "python",
   "nbconvert_exporter": "python",
   "pygments_lexer": "ipython3",
   "version": "3.8.8"
  }
 },
 "nbformat": 4,
 "nbformat_minor": 5
}
