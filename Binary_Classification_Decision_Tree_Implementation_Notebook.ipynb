{
 "cells": [
  {
   "cell_type": "markdown",
   "metadata": {},
   "source": [
    "# Binary Classification Decision Tree\n",
    "We are going to implement a simple version of a recursive binary calssification decision tree"
   ]
  },
  {
   "cell_type": "code",
   "execution_count": 1,
   "metadata": {},
   "outputs": [],
   "source": [
    "import pandas as pd\n",
    "import numpy as np"
   ]
  },
  {
   "cell_type": "markdown",
   "metadata": {},
   "source": [
    "Make up a pandas dataframe with random data"
   ]
  },
  {
   "cell_type": "code",
   "execution_count": 3,
   "metadata": {},
   "outputs": [
    {
     "data": {
      "text/html": [
       "<div>\n",
       "<style scoped>\n",
       "    .dataframe tbody tr th:only-of-type {\n",
       "        vertical-align: middle;\n",
       "    }\n",
       "\n",
       "    .dataframe tbody tr th {\n",
       "        vertical-align: top;\n",
       "    }\n",
       "\n",
       "    .dataframe thead th {\n",
       "        text-align: right;\n",
       "    }\n",
       "</style>\n",
       "<table border=\"1\" class=\"dataframe\">\n",
       "  <thead>\n",
       "    <tr style=\"text-align: right;\">\n",
       "      <th></th>\n",
       "      <th>A</th>\n",
       "      <th>B</th>\n",
       "      <th>C</th>\n",
       "      <th>D</th>\n",
       "    </tr>\n",
       "  </thead>\n",
       "  <tbody>\n",
       "    <tr>\n",
       "      <th>0</th>\n",
       "      <td>49</td>\n",
       "      <td>84</td>\n",
       "      <td>62</td>\n",
       "      <td>60</td>\n",
       "    </tr>\n",
       "    <tr>\n",
       "      <th>1</th>\n",
       "      <td>30</td>\n",
       "      <td>71</td>\n",
       "      <td>60</td>\n",
       "      <td>5</td>\n",
       "    </tr>\n",
       "    <tr>\n",
       "      <th>2</th>\n",
       "      <td>30</td>\n",
       "      <td>54</td>\n",
       "      <td>29</td>\n",
       "      <td>9</td>\n",
       "    </tr>\n",
       "    <tr>\n",
       "      <th>3</th>\n",
       "      <td>12</td>\n",
       "      <td>24</td>\n",
       "      <td>72</td>\n",
       "      <td>19</td>\n",
       "    </tr>\n",
       "    <tr>\n",
       "      <th>4</th>\n",
       "      <td>76</td>\n",
       "      <td>23</td>\n",
       "      <td>54</td>\n",
       "      <td>93</td>\n",
       "    </tr>\n",
       "  </tbody>\n",
       "</table>\n",
       "</div>"
      ],
      "text/plain": [
       "    A   B   C   D\n",
       "0  49  84  62  60\n",
       "1  30  71  60   5\n",
       "2  30  54  29   9\n",
       "3  12  24  72  19\n",
       "4  76  23  54  93"
      ]
     },
     "execution_count": 3,
     "metadata": {},
     "output_type": "execute_result"
    }
   ],
   "source": [
    "df = pd.DataFrame(np.random.randint(0,100,size=(100, 4)), columns=list('ABCD'))\n",
    "df.head()"
   ]
  },
  {
   "cell_type": "markdown",
   "metadata": {},
   "source": [
    "gini impurity = 1 - p(class1)^2 - p(class2)^2"
   ]
  },
  {
   "cell_type": "code",
   "execution_count": null,
   "metadata": {},
   "outputs": [],
   "source": [
    "def calculate_gini_impurity(x_feature, y_target, feature_split):\n",
    "    # calculate the proportion of x_feature to y_target using the feature split\n",
    "    class0_counts = (y_target == 0).sum()\n",
    "    class1_counts = (y_target == 1).sum()\n",
    "    gini = 1 - (class0_counts / (class0_counts + class1_counts))**2 - (class1_counts / (class0_counts + class1_counts))**2\n",
    "    # returns gnii impurity value\n",
    "    return gini"
   ]
  },
  {
   "cell_type": "code",
   "execution_count": null,
   "metadata": {},
   "outputs": [],
   "source": [
    "def find_splits(data, feature_type):\n",
    "    # Find all the possible splits\n",
    "    if feature_type == 'binary'\n",
    "        splits = np.unique(data)\n",
    "    if feature_type == 'categorical':\n",
    "        # first, get all of the unique values\n",
    "        unique_values = np.unique(data)\n",
    "        # then create all of the relevant combinations\n",
    "        \n",
    "    elif feature_type == 'scalar':\n",
    "        # first we will order the values\n",
    "        # then we will\n",
    "        #TODO: you could optimize this by only taking the splits that change the split of data from the previous node\n",
    "    elif feature_type == 'ordinal_numeric':\n",
    "        # NOTE: This method assumes the ordinal values are \n",
    "        # order the values\n",
    "        \n",
    "    return splits"
   ]
  },
  {
   "cell_type": "code",
   "execution_count": null,
   "metadata": {},
   "outputs": [],
   "source": [
    "def calculate_lowest_gini_impurity(x_features, y_target, x_feature_types):\n",
    "    # For all of the features in our dataset, we are going to evaluate reduction in impurity at each split possiblity\n",
    "    num_features = np.shape(x_features)[1]\n",
    "    feature_gini_list = [] * num_columns\n",
    "    # Loop over all of the the possible feature splits\n",
    "    for feature_index in num_features:\n",
    "        # 1. Find splits\n",
    "        splits = find_splits(x_features[feature_index], x_feature_types[feature_index])\n",
    "        for split in splits:\n",
    "            # 2. Calculate the gini of all the splits for all the features\n",
    "            feature_gini_list.append(calcualte_gini_impurity(feature, y_target, split))\n",
    "    # Find the split with the lowest gini impurity and use that split to split the features\n",
    "    # if none of the splits are greater (or better), return None\n",
    "    return best_split"
   ]
  },
  {
   "cell_type": "code",
   "execution_count": null,
   "metadata": {},
   "outputs": [],
   "source": [
    "# Iterate over all of the features and for each feature, determine the gini impurity given a split\n",
    "# Return the best split\n",
    "def create_splits(x_features, y_target, previous_gini_impurity, max_splits=5):\n",
    "    tree = []\n",
    "    # create_splits is a recursive method that will call itself until it no longer finds a split that is good\n",
    "    # 1. Calculate the gini impurity of the dataset using x_features and y_target\n",
    "    tree = calculate_lowest_gini_impurity(x_features, y_target)\n",
    "    # 2. Compare the gini impurity of \n",
    "    if new_split_gini != None\n",
    "        # continue building the tree\n",
    "    else:\n",
    "    # the column position and value of that column with lowest gini_impurity\n",
    "    # [column_position, split_value, gini_impurity_of_split]\n",
    "        return best_split"
   ]
  },
  {
   "cell_type": "code",
   "execution_count": null,
   "metadata": {},
   "outputs": [],
   "source": [
    "def train(x_features, y_target):\n",
    "    current_node_impurity = 1\n",
    "    # Decision Tree Algorithm\n",
    "    # 1. Determine the Best Split of the Given Features\n",
    "    best_split = determine_best_split(x_features, y_target)\n",
    "    # 2. Evaluate if the Best Split is better than the Current Node (i.e. does it decrease impurity).\n",
    "    # If the Split is better, then add the split and continue checking the data\n",
    "    if best_split[3] > current_node_impurity:\n",
    "        # If the split is better than the current node and reduces the impurity, then add the split\n",
    "        # Add the node to the tree\n",
    "        stack = \n",
    "        # Split the data\n",
    "        # Send each Split to Each node and evaluate the splits\n",
    "        best_split = determine_best_split(x_features, y_target)\n",
    "    \n",
    "    return model"
   ]
  },
  {
   "cell_type": "code",
   "execution_count": null,
   "metadata": {},
   "outputs": [],
   "source": [
    "def predict(model, x_features, threshold):\n",
    "    # call predict_proba\n",
    "    # returns an array of predictions 0 or 1\n",
    "    return preds"
   ]
  },
  {
   "cell_type": "code",
   "execution_count": null,
   "metadata": {},
   "outputs": [],
   "source": [
    "def predict_proba(model, x_features):\n",
    "    # returns an array of probabilities\n",
    "    return probs"
   ]
  },
  {
   "cell_type": "markdown",
   "metadata": {},
   "source": [
    "x_feature_types can be: categorical, ordinal, scalar, or binary\n",
    "\n",
    "[binary, ordinal, categorical, ordinal_numeric]"
   ]
  },
  {
   "cell_type": "code",
   "execution_count": null,
   "metadata": {},
   "outputs": [],
   "source": [
    "def decision_tree(x_features, x_feature_types, y_target):\n",
    "\n",
    "    \n",
    "    # does not return anything\n",
    "    return"
   ]
  }
 ],
 "metadata": {
  "kernelspec": {
   "display_name": "Python 3",
   "language": "python",
   "name": "python3"
  },
  "language_info": {
   "codemirror_mode": {
    "name": "ipython",
    "version": 3
   },
   "file_extension": ".py",
   "mimetype": "text/x-python",
   "name": "python",
   "nbconvert_exporter": "python",
   "pygments_lexer": "ipython3",
   "version": "3.8.5"
  }
 },
 "nbformat": 4,
 "nbformat_minor": 4
}
