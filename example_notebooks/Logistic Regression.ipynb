{
 "cells": [
  {
   "cell_type": "code",
   "execution_count": 69,
   "id": "9d770510",
   "metadata": {},
   "outputs": [],
   "source": [
    "import pandas as pd\n",
    "from sklearn.preprocessing import OneHotEncoder\n",
    "from sklearn.preprocessing import MinMaxScaler\n",
    "from sklearn.preprocessing import StandardScaler\n",
    "from sklearn.model_selection import train_test_split\n",
    "from sklearn.feature_selection import chi2\n",
    "from sklearn.feature_selection import SelectKBest\n",
    "from sklearn.neighbors import KNeighborsClassifier\n",
    "from sklearn.pipeline import Pipeline\n",
    "from sklearn.impute import SimpleImputer\n",
    "from sklearn.preprocessing import FunctionTransformer\n",
    "from sklearn.compose import ColumnTransformer"
   ]
  },
  {
   "cell_type": "code",
   "execution_count": 87,
   "id": "b73e6c07",
   "metadata": {},
   "outputs": [],
   "source": [
    "# use pandas to store the data s a dataframe\n",
    "df = pd.read_csv('datasets/credit.csv', header=0)"
   ]
  },
  {
   "cell_type": "code",
   "execution_count": 88,
   "id": "69aa5ee2",
   "metadata": {},
   "outputs": [
    {
     "data": {
      "text/plain": [
       "(400, 12)"
      ]
     },
     "execution_count": 88,
     "metadata": {},
     "output_type": "execute_result"
    }
   ],
   "source": [
    "df.shape"
   ]
  },
  {
   "cell_type": "code",
   "execution_count": 91,
   "id": "d3ea8e15",
   "metadata": {},
   "outputs": [],
   "source": [
    "# TODO simulate default"
   ]
  },
  {
   "cell_type": "code",
   "execution_count": 89,
   "id": "111a9e0c",
   "metadata": {},
   "outputs": [
    {
     "data": {
      "text/plain": [
       "Index(['Unnamed: 0', 'Income', 'Limit', 'Rating', 'Cards', 'Age', 'Education',\n",
       "       'Gender', 'Student', 'Married', 'Ethnicity', 'Balance'],\n",
       "      dtype='object')"
      ]
     },
     "execution_count": 89,
     "metadata": {},
     "output_type": "execute_result"
    }
   ],
   "source": [
    "df.columns"
   ]
  },
  {
   "cell_type": "code",
   "execution_count": 90,
   "id": "43170e68",
   "metadata": {},
   "outputs": [
    {
     "data": {
      "text/html": [
       "<div>\n",
       "<style scoped>\n",
       "    .dataframe tbody tr th:only-of-type {\n",
       "        vertical-align: middle;\n",
       "    }\n",
       "\n",
       "    .dataframe tbody tr th {\n",
       "        vertical-align: top;\n",
       "    }\n",
       "\n",
       "    .dataframe thead th {\n",
       "        text-align: right;\n",
       "    }\n",
       "</style>\n",
       "<table border=\"1\" class=\"dataframe\">\n",
       "  <thead>\n",
       "    <tr style=\"text-align: right;\">\n",
       "      <th></th>\n",
       "      <th>Unnamed: 0</th>\n",
       "      <th>Income</th>\n",
       "      <th>Limit</th>\n",
       "      <th>Rating</th>\n",
       "      <th>Cards</th>\n",
       "      <th>Age</th>\n",
       "      <th>Education</th>\n",
       "      <th>Gender</th>\n",
       "      <th>Student</th>\n",
       "      <th>Married</th>\n",
       "      <th>Ethnicity</th>\n",
       "      <th>Balance</th>\n",
       "    </tr>\n",
       "  </thead>\n",
       "  <tbody>\n",
       "    <tr>\n",
       "      <th>0</th>\n",
       "      <td>1</td>\n",
       "      <td>14.891</td>\n",
       "      <td>3606</td>\n",
       "      <td>283</td>\n",
       "      <td>2</td>\n",
       "      <td>34</td>\n",
       "      <td>11</td>\n",
       "      <td>Male</td>\n",
       "      <td>No</td>\n",
       "      <td>Yes</td>\n",
       "      <td>Caucasian</td>\n",
       "      <td>333</td>\n",
       "    </tr>\n",
       "    <tr>\n",
       "      <th>1</th>\n",
       "      <td>2</td>\n",
       "      <td>106.025</td>\n",
       "      <td>6645</td>\n",
       "      <td>483</td>\n",
       "      <td>3</td>\n",
       "      <td>82</td>\n",
       "      <td>15</td>\n",
       "      <td>Female</td>\n",
       "      <td>Yes</td>\n",
       "      <td>Yes</td>\n",
       "      <td>Asian</td>\n",
       "      <td>903</td>\n",
       "    </tr>\n",
       "    <tr>\n",
       "      <th>2</th>\n",
       "      <td>3</td>\n",
       "      <td>104.593</td>\n",
       "      <td>7075</td>\n",
       "      <td>514</td>\n",
       "      <td>4</td>\n",
       "      <td>71</td>\n",
       "      <td>11</td>\n",
       "      <td>Male</td>\n",
       "      <td>No</td>\n",
       "      <td>No</td>\n",
       "      <td>Asian</td>\n",
       "      <td>580</td>\n",
       "    </tr>\n",
       "    <tr>\n",
       "      <th>3</th>\n",
       "      <td>4</td>\n",
       "      <td>148.924</td>\n",
       "      <td>9504</td>\n",
       "      <td>681</td>\n",
       "      <td>3</td>\n",
       "      <td>36</td>\n",
       "      <td>11</td>\n",
       "      <td>Female</td>\n",
       "      <td>No</td>\n",
       "      <td>No</td>\n",
       "      <td>Asian</td>\n",
       "      <td>964</td>\n",
       "    </tr>\n",
       "    <tr>\n",
       "      <th>4</th>\n",
       "      <td>5</td>\n",
       "      <td>55.882</td>\n",
       "      <td>4897</td>\n",
       "      <td>357</td>\n",
       "      <td>2</td>\n",
       "      <td>68</td>\n",
       "      <td>16</td>\n",
       "      <td>Male</td>\n",
       "      <td>No</td>\n",
       "      <td>Yes</td>\n",
       "      <td>Caucasian</td>\n",
       "      <td>331</td>\n",
       "    </tr>\n",
       "  </tbody>\n",
       "</table>\n",
       "</div>"
      ],
      "text/plain": [
       "   Unnamed: 0   Income  Limit  Rating  Cards  Age  Education  Gender Student  \\\n",
       "0           1   14.891   3606     283      2   34         11    Male      No   \n",
       "1           2  106.025   6645     483      3   82         15  Female     Yes   \n",
       "2           3  104.593   7075     514      4   71         11    Male      No   \n",
       "3           4  148.924   9504     681      3   36         11  Female      No   \n",
       "4           5   55.882   4897     357      2   68         16    Male      No   \n",
       "\n",
       "  Married  Ethnicity  Balance  \n",
       "0     Yes  Caucasian      333  \n",
       "1     Yes      Asian      903  \n",
       "2      No      Asian      580  \n",
       "3      No      Asian      964  \n",
       "4     Yes  Caucasian      331  "
      ]
     },
     "execution_count": 90,
     "metadata": {},
     "output_type": "execute_result"
    }
   ],
   "source": [
    "df.head()"
   ]
  },
  {
   "cell_type": "code",
   "execution_count": 92,
   "id": "aad8f896",
   "metadata": {},
   "outputs": [],
   "source": [
    "X_train, X_test, y_train, y_test = train_test_split(df.drop(['Balance'], axis=1), \n",
    "                                                    df['Balance'],\n",
    "                                                    test_size=0.2, random_state=42)"
   ]
  },
  {
   "cell_type": "code",
   "execution_count": 93,
   "id": "df35572f",
   "metadata": {},
   "outputs": [
    {
     "data": {
      "text/html": [
       "<div>\n",
       "<style scoped>\n",
       "    .dataframe tbody tr th:only-of-type {\n",
       "        vertical-align: middle;\n",
       "    }\n",
       "\n",
       "    .dataframe tbody tr th {\n",
       "        vertical-align: top;\n",
       "    }\n",
       "\n",
       "    .dataframe thead th {\n",
       "        text-align: right;\n",
       "    }\n",
       "</style>\n",
       "<table border=\"1\" class=\"dataframe\">\n",
       "  <thead>\n",
       "    <tr style=\"text-align: right;\">\n",
       "      <th></th>\n",
       "      <th>Unnamed: 0</th>\n",
       "      <th>Income</th>\n",
       "      <th>Limit</th>\n",
       "      <th>Rating</th>\n",
       "      <th>Cards</th>\n",
       "      <th>Age</th>\n",
       "      <th>Education</th>\n",
       "      <th>Gender</th>\n",
       "      <th>Student</th>\n",
       "      <th>Married</th>\n",
       "      <th>Ethnicity</th>\n",
       "    </tr>\n",
       "  </thead>\n",
       "  <tbody>\n",
       "    <tr>\n",
       "      <th>3</th>\n",
       "      <td>4</td>\n",
       "      <td>148.924</td>\n",
       "      <td>9504</td>\n",
       "      <td>681</td>\n",
       "      <td>3</td>\n",
       "      <td>36</td>\n",
       "      <td>11</td>\n",
       "      <td>Female</td>\n",
       "      <td>No</td>\n",
       "      <td>No</td>\n",
       "      <td>Asian</td>\n",
       "    </tr>\n",
       "    <tr>\n",
       "      <th>18</th>\n",
       "      <td>19</td>\n",
       "      <td>49.570</td>\n",
       "      <td>6384</td>\n",
       "      <td>448</td>\n",
       "      <td>1</td>\n",
       "      <td>28</td>\n",
       "      <td>9</td>\n",
       "      <td>Female</td>\n",
       "      <td>No</td>\n",
       "      <td>Yes</td>\n",
       "      <td>Asian</td>\n",
       "    </tr>\n",
       "    <tr>\n",
       "      <th>202</th>\n",
       "      <td>203</td>\n",
       "      <td>21.038</td>\n",
       "      <td>1448</td>\n",
       "      <td>145</td>\n",
       "      <td>2</td>\n",
       "      <td>58</td>\n",
       "      <td>13</td>\n",
       "      <td>Female</td>\n",
       "      <td>No</td>\n",
       "      <td>Yes</td>\n",
       "      <td>Caucasian</td>\n",
       "    </tr>\n",
       "    <tr>\n",
       "      <th>250</th>\n",
       "      <td>251</td>\n",
       "      <td>10.363</td>\n",
       "      <td>2430</td>\n",
       "      <td>191</td>\n",
       "      <td>2</td>\n",
       "      <td>47</td>\n",
       "      <td>18</td>\n",
       "      <td>Female</td>\n",
       "      <td>No</td>\n",
       "      <td>Yes</td>\n",
       "      <td>Asian</td>\n",
       "    </tr>\n",
       "    <tr>\n",
       "      <th>274</th>\n",
       "      <td>275</td>\n",
       "      <td>30.550</td>\n",
       "      <td>5869</td>\n",
       "      <td>439</td>\n",
       "      <td>5</td>\n",
       "      <td>81</td>\n",
       "      <td>9</td>\n",
       "      <td>Female</td>\n",
       "      <td>No</td>\n",
       "      <td>No</td>\n",
       "      <td>African American</td>\n",
       "    </tr>\n",
       "  </tbody>\n",
       "</table>\n",
       "</div>"
      ],
      "text/plain": [
       "     Unnamed: 0   Income  Limit  Rating  Cards  Age  Education  Gender  \\\n",
       "3             4  148.924   9504     681      3   36         11  Female   \n",
       "18           19   49.570   6384     448      1   28          9  Female   \n",
       "202         203   21.038   1448     145      2   58         13  Female   \n",
       "250         251   10.363   2430     191      2   47         18  Female   \n",
       "274         275   30.550   5869     439      5   81          9  Female   \n",
       "\n",
       "    Student Married         Ethnicity  \n",
       "3        No      No             Asian  \n",
       "18       No     Yes             Asian  \n",
       "202      No     Yes         Caucasian  \n",
       "250      No     Yes             Asian  \n",
       "274      No      No  African American  "
      ]
     },
     "execution_count": 93,
     "metadata": {},
     "output_type": "execute_result"
    }
   ],
   "source": [
    "X_train.head()"
   ]
  },
  {
   "cell_type": "code",
   "execution_count": 94,
   "id": "324e0952",
   "metadata": {},
   "outputs": [
    {
     "name": "stdout",
     "output_type": "stream",
     "text": [
      "<class 'pandas.core.frame.DataFrame'>\n",
      "Int64Index: 320 entries, 3 to 102\n",
      "Data columns (total 11 columns):\n",
      " #   Column      Non-Null Count  Dtype  \n",
      "---  ------      --------------  -----  \n",
      " 0   Unnamed: 0  320 non-null    int64  \n",
      " 1   Income      320 non-null    float64\n",
      " 2   Limit       320 non-null    int64  \n",
      " 3   Rating      320 non-null    int64  \n",
      " 4   Cards       320 non-null    int64  \n",
      " 5   Age         320 non-null    int64  \n",
      " 6   Education   320 non-null    int64  \n",
      " 7   Gender      320 non-null    object \n",
      " 8   Student     320 non-null    object \n",
      " 9   Married     320 non-null    object \n",
      " 10  Ethnicity   320 non-null    object \n",
      "dtypes: float64(1), int64(6), object(4)\n",
      "memory usage: 30.0+ KB\n"
     ]
    }
   ],
   "source": [
    "X_train.info()"
   ]
  },
  {
   "cell_type": "code",
   "execution_count": 95,
   "id": "a92fa707",
   "metadata": {},
   "outputs": [
    {
     "name": "stdout",
     "output_type": "stream",
     "text": [
      "Unnamed: 0\n",
      "2      1\n",
      "3      1\n",
      "277    1\n",
      "276    1\n",
      "275    1\n",
      "      ..\n",
      "140    1\n",
      "139    1\n",
      "138    1\n",
      "137    1\n",
      "400    1\n",
      "Name: Unnamed: 0, Length: 320, dtype: int64 \n",
      "\n",
      "Income\n",
      "23.793     2\n",
      "20.974     1\n",
      "27.847     1\n",
      "62.328     1\n",
      "44.522     1\n",
      "          ..\n",
      "18.701     1\n",
      "33.694     1\n",
      "27.241     1\n",
      "27.999     1\n",
      "146.183    1\n",
      "Name: Income, Length: 319, dtype: int64 \n",
      "\n",
      "Limit\n",
      "3388    2\n",
      "5140    2\n",
      "2860    2\n",
      "4391    2\n",
      "855     2\n",
      "       ..\n",
      "3976    1\n",
      "5149    1\n",
      "5096    1\n",
      "3063    1\n",
      "2047    1\n",
      "Name: Limit, Length: 315, dtype: int64 \n",
      "\n",
      "Rating\n",
      "287    4\n",
      "383    4\n",
      "369    3\n",
      "263    3\n",
      "321    3\n",
      "      ..\n",
      "224    1\n",
      "228    1\n",
      "229    1\n",
      "231    1\n",
      "511    1\n",
      "Name: Rating, Length: 249, dtype: int64 \n",
      "\n",
      "Cards\n",
      "2    95\n",
      "3    90\n",
      "4    50\n",
      "1    42\n",
      "5    28\n",
      "6    11\n",
      "7     2\n",
      "8     1\n",
      "9     1\n",
      "Name: Cards, dtype: int64 \n",
      "\n",
      "Age\n",
      "44    12\n",
      "66    11\n",
      "67     9\n",
      "71     9\n",
      "50     9\n",
      "      ..\n",
      "89     1\n",
      "23     1\n",
      "85     1\n",
      "27     1\n",
      "98     1\n",
      "Name: Age, Length: 64, dtype: int64 \n",
      "\n",
      "Education\n",
      "14    41\n",
      "15    39\n",
      "16    39\n",
      "17    32\n",
      "13    31\n",
      "11    24\n",
      "12    24\n",
      "9     22\n",
      "10    18\n",
      "18    17\n",
      "8     10\n",
      "7      8\n",
      "19     8\n",
      "6      5\n",
      "20     2\n",
      "Name: Education, dtype: int64 \n",
      "\n",
      "Gender\n",
      "Female    163\n",
      " Male     157\n",
      "Name: Gender, dtype: int64 \n",
      "\n",
      "Student\n",
      "No     290\n",
      "Yes     30\n",
      "Name: Student, dtype: int64 \n",
      "\n",
      "Married\n",
      "Yes    193\n",
      "No     127\n",
      "Name: Married, dtype: int64 \n",
      "\n",
      "Ethnicity\n",
      "Caucasian           156\n",
      "Asian                83\n",
      "African American     81\n",
      "Name: Ethnicity, dtype: int64 \n",
      "\n"
     ]
    }
   ],
   "source": [
    "for i in X_train.columns:\n",
    "    print(i)\n",
    "    print(X_train[i].value_counts(dropna=False), \"\\n\")"
   ]
  },
  {
   "cell_type": "code",
   "execution_count": 102,
   "id": "5eeb38d1",
   "metadata": {},
   "outputs": [
    {
     "data": {
      "text/plain": [
       "array([11,  9, 13, 18, 17, 16,  7, 14, 19,  8, 15, 10, 20, 12,  6])"
      ]
     },
     "execution_count": 102,
     "metadata": {},
     "output_type": "execute_result"
    }
   ],
   "source": [
    "# TODO: change this into a string value in the dataset to have an example of encoding\n",
    "X_train['Education'].unique()"
   ]
  },
  {
   "cell_type": "markdown",
   "id": "ce066419",
   "metadata": {},
   "source": [
    "Column classifications"
   ]
  },
  {
   "cell_type": "code",
   "execution_count": 103,
   "id": "070de83c",
   "metadata": {},
   "outputs": [],
   "source": [
    "def order_education(X):\n",
    "#     levels = {\n",
    "#         1: 0\n",
    "#     }\n",
    "#     value = pd.DataFrame(X).applymap(lambda x: levels[x])\n",
    "    return "
   ]
  },
  {
   "cell_type": "code",
   "execution_count": 104,
   "id": "f62a7bdf",
   "metadata": {},
   "outputs": [
    {
     "data": {
      "text/plain": [
       "Index(['Unnamed: 0', 'Income', 'Limit', 'Rating', 'Cards', 'Age', 'Education',\n",
       "       'Gender', 'Student', 'Married', 'Ethnicity'],\n",
       "      dtype='object')"
      ]
     },
     "execution_count": 104,
     "metadata": {},
     "output_type": "execute_result"
    }
   ],
   "source": [
    "X_train.columns"
   ]
  },
  {
   "cell_type": "code",
   "execution_count": 111,
   "id": "3a4a0010",
   "metadata": {},
   "outputs": [],
   "source": [
    "continuous = ['Income', 'Limit', 'Rating', 'Cards', 'Age']\n",
    "\n",
    "ordinal = ['Education']\n",
    "\n",
    "categorical_with_missing = ['Gender', 'Student', 'Ethnicity', 'Married']\n",
    "\n",
    "categorical_without_missing = []"
   ]
  },
  {
   "cell_type": "markdown",
   "id": "d8d2ed75",
   "metadata": {},
   "source": [
    "The plan is to scale all continuous variables from [0, 1], establish one-hot encode all categories excep the missing values, and one-hot encode all of the other categorical values without a missing value"
   ]
  },
  {
   "cell_type": "markdown",
   "id": "3936057a",
   "metadata": {},
   "source": [
    "column transofrmations"
   ]
  },
  {
   "cell_type": "code",
   "execution_count": null,
   "id": "3c7c8230",
   "metadata": {},
   "outputs": [],
   "source": []
  },
  {
   "cell_type": "code",
   "execution_count": 112,
   "id": "e702674b",
   "metadata": {},
   "outputs": [],
   "source": [
    "# impute any missing values with the mean\n",
    "cont_transformer = Pipeline(steps=[\n",
    "    ('imputer', SimpleImputer(strategy='mean')),\n",
    "    ('scale', MinMaxScaler(feature_range=(0, 1)))\n",
    "])\n",
    "\n",
    "ordinal_transformer = Pipeline(steps=[\n",
    "    ('imputer', SimpleImputer(strategy='most_frequent')),\n",
    "    ('ordinal_encoding', FunctionTransformer(func=order_education, validate=False))\n",
    "])\n",
    "\n",
    "cat_with_unknown_transformer = Pipeline(steps=[\n",
    "    ('imputer', SimpleImputer(missing_values='?', strategy='most_frequent')),\n",
    "    ('onehot', OneHotEncoder(handle_unknown='ignore'))\n",
    "])\n",
    "\n",
    "cat_transformer = Pipeline(steps=[\n",
    "    ('imputer', SimpleImputer(strategy='most_frequent')),\n",
    "    ('onehot', OneHotEncoder(handle_unknown='ignore'))\n",
    "])\n",
    "\n",
    "preprocessor = ColumnTransformer(\n",
    "    transformers = [\n",
    "        ('cont', cont_transformer, continuous),\n",
    "        ('ordinal', ordinal_transformer, ordinal),\n",
    "        ('cat_with_unknown', cat_with_unknown_transformer, categorical_with_missing),\n",
    "        ('cat', cat_transformer, categorical_without_missing)\n",
    "    ]\n",
    ")"
   ]
  },
  {
   "cell_type": "code",
   "execution_count": 113,
   "id": "3cb1e7fd",
   "metadata": {},
   "outputs": [
    {
     "ename": "AttributeError",
     "evalue": "'NoneType' object has no attribute 'size'",
     "output_type": "error",
     "traceback": [
      "\u001b[0;31m---------------------------------------------------------------------------\u001b[0m",
      "\u001b[0;31mAttributeError\u001b[0m                            Traceback (most recent call last)",
      "\u001b[0;32m<ipython-input-113-3c6f856217e2>\u001b[0m in \u001b[0;36m<module>\u001b[0;34m\u001b[0m\n\u001b[0;32m----> 1\u001b[0;31m \u001b[0mpreprocessor\u001b[0m\u001b[0;34m.\u001b[0m\u001b[0mfit_transform\u001b[0m\u001b[0;34m(\u001b[0m\u001b[0mX_train\u001b[0m\u001b[0;34m,\u001b[0m \u001b[0my_train\u001b[0m\u001b[0;34m)\u001b[0m\u001b[0;34m\u001b[0m\u001b[0;34m\u001b[0m\u001b[0m\n\u001b[0m",
      "\u001b[0;32m~/opt/anaconda3/lib/python3.8/site-packages/sklearn/compose/_column_transformer.py\u001b[0m in \u001b[0;36mfit_transform\u001b[0;34m(self, X, y)\u001b[0m\n\u001b[1;32m    517\u001b[0m         \u001b[0;31m# determine if concatenated output will be sparse or not\u001b[0m\u001b[0;34m\u001b[0m\u001b[0;34m\u001b[0m\u001b[0;34m\u001b[0m\u001b[0m\n\u001b[1;32m    518\u001b[0m         \u001b[0;32mif\u001b[0m \u001b[0many\u001b[0m\u001b[0;34m(\u001b[0m\u001b[0msparse\u001b[0m\u001b[0;34m.\u001b[0m\u001b[0missparse\u001b[0m\u001b[0;34m(\u001b[0m\u001b[0mX\u001b[0m\u001b[0;34m)\u001b[0m \u001b[0;32mfor\u001b[0m \u001b[0mX\u001b[0m \u001b[0;32min\u001b[0m \u001b[0mXs\u001b[0m\u001b[0;34m)\u001b[0m\u001b[0;34m:\u001b[0m\u001b[0;34m\u001b[0m\u001b[0;34m\u001b[0m\u001b[0m\n\u001b[0;32m--> 519\u001b[0;31m             \u001b[0mnnz\u001b[0m \u001b[0;34m=\u001b[0m \u001b[0msum\u001b[0m\u001b[0;34m(\u001b[0m\u001b[0mX\u001b[0m\u001b[0;34m.\u001b[0m\u001b[0mnnz\u001b[0m \u001b[0;32mif\u001b[0m \u001b[0msparse\u001b[0m\u001b[0;34m.\u001b[0m\u001b[0missparse\u001b[0m\u001b[0;34m(\u001b[0m\u001b[0mX\u001b[0m\u001b[0;34m)\u001b[0m \u001b[0;32melse\u001b[0m \u001b[0mX\u001b[0m\u001b[0;34m.\u001b[0m\u001b[0msize\u001b[0m \u001b[0;32mfor\u001b[0m \u001b[0mX\u001b[0m \u001b[0;32min\u001b[0m \u001b[0mXs\u001b[0m\u001b[0;34m)\u001b[0m\u001b[0;34m\u001b[0m\u001b[0;34m\u001b[0m\u001b[0m\n\u001b[0m\u001b[1;32m    520\u001b[0m             total = sum(X.shape[0] * X.shape[1] if sparse.issparse(X)\n\u001b[1;32m    521\u001b[0m                         else X.size for X in Xs)\n",
      "\u001b[0;32m~/opt/anaconda3/lib/python3.8/site-packages/sklearn/compose/_column_transformer.py\u001b[0m in \u001b[0;36m<genexpr>\u001b[0;34m(.0)\u001b[0m\n\u001b[1;32m    517\u001b[0m         \u001b[0;31m# determine if concatenated output will be sparse or not\u001b[0m\u001b[0;34m\u001b[0m\u001b[0;34m\u001b[0m\u001b[0;34m\u001b[0m\u001b[0m\n\u001b[1;32m    518\u001b[0m         \u001b[0;32mif\u001b[0m \u001b[0many\u001b[0m\u001b[0;34m(\u001b[0m\u001b[0msparse\u001b[0m\u001b[0;34m.\u001b[0m\u001b[0missparse\u001b[0m\u001b[0;34m(\u001b[0m\u001b[0mX\u001b[0m\u001b[0;34m)\u001b[0m \u001b[0;32mfor\u001b[0m \u001b[0mX\u001b[0m \u001b[0;32min\u001b[0m \u001b[0mXs\u001b[0m\u001b[0;34m)\u001b[0m\u001b[0;34m:\u001b[0m\u001b[0;34m\u001b[0m\u001b[0;34m\u001b[0m\u001b[0m\n\u001b[0;32m--> 519\u001b[0;31m             \u001b[0mnnz\u001b[0m \u001b[0;34m=\u001b[0m \u001b[0msum\u001b[0m\u001b[0;34m(\u001b[0m\u001b[0mX\u001b[0m\u001b[0;34m.\u001b[0m\u001b[0mnnz\u001b[0m \u001b[0;32mif\u001b[0m \u001b[0msparse\u001b[0m\u001b[0;34m.\u001b[0m\u001b[0missparse\u001b[0m\u001b[0;34m(\u001b[0m\u001b[0mX\u001b[0m\u001b[0;34m)\u001b[0m \u001b[0;32melse\u001b[0m \u001b[0mX\u001b[0m\u001b[0;34m.\u001b[0m\u001b[0msize\u001b[0m \u001b[0;32mfor\u001b[0m \u001b[0mX\u001b[0m \u001b[0;32min\u001b[0m \u001b[0mXs\u001b[0m\u001b[0;34m)\u001b[0m\u001b[0;34m\u001b[0m\u001b[0;34m\u001b[0m\u001b[0m\n\u001b[0m\u001b[1;32m    520\u001b[0m             total = sum(X.shape[0] * X.shape[1] if sparse.issparse(X)\n\u001b[1;32m    521\u001b[0m                         else X.size for X in Xs)\n",
      "\u001b[0;31mAttributeError\u001b[0m: 'NoneType' object has no attribute 'size'"
     ]
    }
   ],
   "source": [
    "preprocessor.fit_transform(X_train, y_train)"
   ]
  },
  {
   "cell_type": "markdown",
   "id": "08ea4c6c",
   "metadata": {},
   "source": [
    "Since this is a class imbalance problem, try two different grid searches over two classification algorithms that have class weights\\\n",
    "We'll use chi2 feature selector"
   ]
  },
  {
   "cell_type": "code",
   "execution_count": null,
   "id": "fa7afb4e",
   "metadata": {},
   "outputs": [],
   "source": [
    "lr_pipe = Pipelien(steps=[('preprocessing', preprocessor),\n",
    "                         ('feat_select', SelectKBest()),\n",
    "                         ('lr_model', LogisticRegression(class_weight='balanced', solver='liblinear', \n",
    "                                                         random_state=seed_val)\n",
    "                         )])\n",
    "\n",
    "reg_terms = [1000/10**(2*i) for i in range(5)]"
   ]
  },
  {
   "cell_type": "code",
   "execution_count": null,
   "id": "4033ca91",
   "metadata": {},
   "outputs": [],
   "source": [
    "param_grid = {\n",
    "    'lr_model__C': reg_terms,\n",
    "    'feat_select__k': [10, 20, 30, 'all'],\n",
    "}"
   ]
  },
  {
   "cell_type": "code",
   "execution_count": null,
   "id": "4979f85a",
   "metadata": {},
   "outputs": [],
   "source": [
    "lr_grid = GridSearchCV(lr_pipe, cv=7, scoring='roc_auc', param_grid=param_grid, return_train_score=False)"
   ]
  },
  {
   "cell_type": "code",
   "execution_count": null,
   "id": "34021212",
   "metadata": {},
   "outputs": [],
   "source": [
    "lr_grid.fit(X_train, y_train)"
   ]
  },
  {
   "cell_type": "code",
   "execution_count": null,
   "id": "ad827708",
   "metadata": {},
   "outputs": [],
   "source": [
    "lr_results = pd.DataFrame(lr_grid.cv_results_)"
   ]
  },
  {
   "cell_type": "code",
   "execution_count": null,
   "id": "9ec5aef5",
   "metadata": {},
   "outputs": [],
   "source": [
    "lr_results[[\"mean_test_score\",\"std_test_score\",\"param_rf_model__max_depth\",\"param_rf_model__n_estimators\"]].sort_values(\"mean_test_score\", ascending=False)"
   ]
  },
  {
   "cell_type": "code",
   "execution_count": null,
   "id": "8d4944b3",
   "metadata": {},
   "outputs": [],
   "source": [
    "def plot_learning_curve(estimator, title, X, y, ylim=None, n_jobs=1, train_sizes=np.linspace(0.1, 1.0, 10)):\n",
    "    \"\"\"\n",
    "    Generate a simple plot of the test and training learning curve\n",
    "    \"\"\"\n",
    "    \n",
    "    plt.figure()\n",
    "    plt.title(title)\n",
    "    if ylim is not None:\n",
    "        plt.ylim(*ylim)\n",
    "    plt.xlabel(\"Training Examples\")\n",
    "    plt.ylabel(\"Score\")\n",
    "    \n",
    "    train_sizes, train_scores, test_scores = learning_curve(estimator,\n",
    "                                                           x,\n",
    "                                                           y,\n",
    "                                                           cv=cv,\n",
    "                                                           n_jobs=n_jobs,\n",
    "                                                           train_sizes=train_sizes,\n",
    "                                                           scoring='roc_auc')\n",
    "    train_scores_mean = np.mean(train_scores, axis=1)\n",
    "    train_scores_std = np.std(train_scores, axis=1)\n",
    "    test_scores_mean = np.mean(test_scores, axis=1)\n",
    "    test_scores_std = np.std(test_scores, axis=1)\n",
    "\n",
    "    # Plot learning curve\n",
    "    axes[0].grid()\n",
    "    axes[0].fill_between(\n",
    "        train_sizes,\n",
    "        train_scores_mean - train_scores_std,\n",
    "        train_scores_mean + train_scores_std,\n",
    "        alpha=0.1,\n",
    "        color=\"r\",\n",
    "    )\n",
    "    axes[0].fill_between(\n",
    "        train_sizes,\n",
    "        test_scores_mean - test_scores_std,\n",
    "        test_scores_mean + test_scores_std,\n",
    "        alpha=0.1,\n",
    "        color=\"g\",\n",
    "    )\n",
    "    axes[0].plot(\n",
    "        train_sizes, train_scores_mean, \"o-\", color=\"r\", label=\"Training score\"\n",
    "    )\n",
    "    axes[0].plot(\n",
    "        train_sizes, test_scores_mean, \"o-\", color=\"g\", label=\"Cross-validation score\"\n",
    "    )\n",
    "    axes[0].legend(loc=\"best\")\n",
    "    \n",
    "    return plt\n",
    "\n",
    "best_lr_pipe = Pipeline(steps=[('preprocessing', preprocessor),\n",
    "                              ('lr_model', LogisticRegression(class_weight='balanced', C=1000, solver='liblinear',\n",
    "                                                             random_state=seed_val))])\n",
    "plot_learning_curve(best_lr_pipe, 'Tuned LR Learning Curves', X_train, y_train, cv=7)\n",
    "plt.show()"
   ]
  },
  {
   "cell_type": "markdown",
   "id": "61d6a58d",
   "metadata": {},
   "source": [
    "The model looks to have high bias"
   ]
  },
  {
   "cell_type": "markdown",
   "id": "6c47c987",
   "metadata": {},
   "source": [
    "The final holdout evaluation is"
   ]
  },
  {
   "cell_type": "code",
   "execution_count": null,
   "id": "a03e44d0",
   "metadata": {},
   "outputs": [],
   "source": [
    "final_pipe = Pipeline(steps=[('preprocessing', preprocessor),\n",
    "                            ('lr_model', LogisticRegression(class_weight='balanced', C=1000, solver='liblinear', \n",
    "                                                           random_state=seed_val))])\n",
    "\n",
    "final_pipe.fit(X_train, y_train)\n",
    "x_probas = final_pipe.predict_proba(x_test)\n",
    "\n",
    "roc_auc_score(y_test, x_probas[:, 1])"
   ]
  },
  {
   "cell_type": "code",
   "execution_count": null,
   "id": "b60b7684",
   "metadata": {},
   "outputs": [],
   "source": [
    "final_pipe.fit(df_training.drop(['race', 'target'], axis=1), df_training['targe'])"
   ]
  }
 ],
 "metadata": {
  "kernelspec": {
   "display_name": "Python 3",
   "language": "python",
   "name": "python3"
  },
  "language_info": {
   "codemirror_mode": {
    "name": "ipython",
    "version": 3
   },
   "file_extension": ".py",
   "mimetype": "text/x-python",
   "name": "python",
   "nbconvert_exporter": "python",
   "pygments_lexer": "ipython3",
   "version": "3.8.8"
  }
 },
 "nbformat": 4,
 "nbformat_minor": 5
}
