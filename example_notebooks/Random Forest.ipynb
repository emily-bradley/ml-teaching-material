{
 "cells": [
  {
   "cell_type": "code",
   "execution_count": null,
   "id": "a7339719",
   "metadata": {},
   "outputs": [],
   "source": [
    "rf_pipe = Pipeline(steps=[('preprocessing', preprocessor),\n",
    "                         ('feat_select', SelectKBest()),\n",
    "                         ('rf_model', RandomForestClassifier(class_weight='balanced', random_state=seed_val))\n",
    "                         ])"
   ]
  },
  {
   "cell_type": "code",
   "execution_count": null,
   "id": "2274e9e4",
   "metadata": {},
   "outputs": [],
   "source": [
    "param_grid = {\n",
    "    'rf_model__max_depth': [2, 4, 6],\n",
    "    'rf_model__n_estimators': [10, 50, 100, 200],\n",
    "}"
   ]
  },
  {
   "cell_type": "code",
   "execution_count": null,
   "id": "fa703d3d",
   "metadata": {},
   "outputs": [],
   "source": [
    "rf_grid = GridSearchCV(rf_pipe, cv=7, scoring'roc_auc', param_grid=param_grid, return_train_score=False)\n",
    "rf_grid.fit(X_train, y_train)"
   ]
  },
  {
   "cell_type": "code",
   "execution_count": null,
   "id": "9a9fe573",
   "metadata": {},
   "outputs": [],
   "source": [
    "rf_results = pd.DataFrame(rf_graid.cv_results_)\n",
    "rf_results[[\"mean_test_score\",\"std_test_score\",\"param_rf_model__max_depth\",\"param_rf_model__n_estimators\"]].sort_values(\"mean_test_score\", ascending=False)"
   ]
  },
  {
   "cell_type": "code",
   "execution_count": null,
   "id": "62620fac",
   "metadata": {},
   "outputs": [],
   "source": []
  }
 ],
 "metadata": {
  "kernelspec": {
   "display_name": "Python 3",
   "language": "python",
   "name": "python3"
  },
  "language_info": {
   "codemirror_mode": {
    "name": "ipython",
    "version": 3
   },
   "file_extension": ".py",
   "mimetype": "text/x-python",
   "name": "python",
   "nbconvert_exporter": "python",
   "pygments_lexer": "ipython3",
   "version": "3.8.8"
  }
 },
 "nbformat": 4,
 "nbformat_minor": 5
}
